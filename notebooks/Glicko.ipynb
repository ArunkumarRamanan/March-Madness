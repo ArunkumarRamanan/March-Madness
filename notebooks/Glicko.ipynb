{
 "cells": [
  {
   "cell_type": "code",
   "execution_count": 1,
   "metadata": {
    "collapsed": true
   },
   "outputs": [],
   "source": [
    "%matplotlib inline\n",
    "\n",
    "import pandas as pd\n",
    "import numpy as np\n",
    "\n",
    "import matplotlib.pyplot as plt\n",
    "import seaborn as sns\n",
    "\n",
    "from sklearn.metrics import log_loss\n",
    "\n",
    "pd.set_option('display.max_columns', None)\n",
    "\n",
    "np.random.seed(2131)\n",
    "\n",
    "import warnings\n",
    "warnings.filterwarnings('ignore')\n",
    "\n",
    "%run ../src/utility.py"
   ]
  },
  {
   "cell_type": "code",
   "execution_count": 2,
   "metadata": {
    "collapsed": true
   },
   "outputs": [],
   "source": [
    "# load files ( DATA )\n",
    "\n",
    "teams               = pd.read_csv('../data/Teams.csv')\n",
    "seasons             = pd.read_csv('../data/Seasons.csv')\n",
    "reg_season_compact  = pd.read_csv('../data/RegularSeasonCompactResults.csv')\n",
    "reg_season_detailed = pd.read_csv('../data/RegularSeasonDetailedResults.csv')\n",
    "tourney_compact     = pd.read_csv('../data/TourneyCompactResults.csv')\n",
    "tourney_detailed    = pd.read_csv('../data/TourneyDetailedResults.csv')\n",
    "tourney_seeds       = pd.read_csv('../data/TourneySeeds.csv')\n",
    "tourney_slots       = pd.read_csv('../data/TourneySlots.csv')"
   ]
  },
  {
   "cell_type": "markdown",
   "metadata": {},
   "source": [
    "** Helper Methods **"
   ]
  },
  {
   "cell_type": "code",
   "execution_count": 3,
   "metadata": {
    "collapsed": true
   },
   "outputs": [],
   "source": [
    "def get_q():\n",
    "    return np.log(10) / 400\n",
    "\n",
    "def get_g(rd):\n",
    "    q_squared = get_q() ** 2\n",
    "    return 1 / np.sqrt(1 + (3 * q_squared * (rd ** 2)) / (np.pi ** 2) )\n",
    "\n",
    "def expected_result(your_rating, opponent_rating, opponent_rd):\n",
    "    return 1 / (1 + 10 ** (-get_g(opponent_rd) * (your_rating - opponent_rating) / 400))\n",
    "\n",
    "def get_d_squared(your_rating, opponent_ratings, opponent_rds):\n",
    "    q_squared = get_q() ** 2\n",
    "    \n",
    "    sum_ = 0\n",
    "    for i in range(len(opponent_ratings)):\n",
    "        e_res = expected_result(your_rating, opponent_ratings[i], opponent_rds[i])\n",
    "        sum_ = sum_ + ((get_g(opponent_rds[i]) ** 2) * e_res * (1 - e_res))\n",
    "        \n",
    "    return 1 / (q_squared * sum_)\n",
    "\n",
    "def glicko_update(your_rating, your_rd, opponent_ratings, opponent_rds, outcomes):\n",
    "    q = get_q()\n",
    "\n",
    "    d_squared = get_d_squared(your_rating, opponent_ratings, opponent_rds)\n",
    "    \n",
    "    sum_ = 0\n",
    "    for i in range(len(opponent_ratings)):\n",
    "        sum_ = sum_ + get_g(opponent_rds[i]) * (outcomes[i] - expected_result(your_rating, \n",
    "                                                                    opponent_ratings[i],\n",
    "                                                                    opponent_rds[i]\n",
    "                                                                   ))\n",
    "    \n",
    "    r_new  = your_rating + ((q / ((1 / your_rd ** 2) + (1 / d_squared)))) * sum_\n",
    "    rd_new = np.sqrt(1 / ((1 / your_rd ** 2) + (1 / d_squared)))\n",
    "    \n",
    "    return r_new, rd_new\n",
    "\n",
    "def update_deviation_after_season(old_rd, time_since_last_game):\n",
    "    return min(np.sqrt(old_rd ** 2 + (15 ** 2) * time_since_last_game), 350) # this needs to be modified"
   ]
  },
  {
   "cell_type": "code",
   "execution_count": 4,
   "metadata": {
    "collapsed": true
   },
   "outputs": [],
   "source": [
    "def get_time_periods_since_last_played(all_seasons, team_id, current_season):\n",
    "    earlier_seasons = all_seasons.loc[all_seasons.Season < current_season]\n",
    "    mask            = (earlier_seasons.Wteam == team_id) | (earlier_seasons.Lteam == team_id)\n",
    "    matched_entry   = earlier_seasons.loc[mask, :]\\\n",
    "                      .sort_values(by='Daynum', ascending=False).iloc[0]\n",
    "    \n",
    "    current_day     = pd.to_datetime(seasons.loc[seasons.Season == current_season, 'Dayzero']\\\n",
    "                                     .iloc[0])\n",
    "    \n",
    "    matched_day     = pd.to_datetime(seasons.loc[seasons.Season == matched_entry.Season, \\\n",
    "                                                 'Dayzero'].iloc[0]) + \\\n",
    "                      pd.DateOffset(matched_entry.Daynum)\n",
    "    \n",
    "    return (current_day - matched_day).days // 60"
   ]
  },
  {
   "cell_type": "code",
   "execution_count": 5,
   "metadata": {
    "collapsed": false
   },
   "outputs": [],
   "source": [
    "class Season:\n",
    "    def __init__(self, season_perf):\n",
    "        self.season_perf = season_perf\n",
    "    \n",
    "    def total_games(self):\n",
    "        return len(self.season_perf)\n",
    "    \n",
    "    def get_teams(self):\n",
    "        return self.season_perf['Wteam'].unique().tolist() + \\\n",
    "               self.season_perf['Lteam'].unique().tolist()\n",
    "    \n",
    "    def get_games(self, team_id):\n",
    "        games_that_won  = self.season_perf.loc[self.season_perf.Wteam == team_id, :]\n",
    "        games_that_lost = self.season_perf.loc[self.season_perf.Lteam == team_id, :]\n",
    "        \n",
    "        return pd.concat((games_that_won, games_that_lost)).sort_values(by='Daynum')\n",
    "        \n",
    "    def get_outcomes(self, team_id, games):\n",
    "        outcomes = []\n",
    "        for i in range(len(games)):\n",
    "            if games.iloc[i]['Wteam'] == team_id:\n",
    "                outcomes.append(1)\n",
    "            else:\n",
    "                outcomes.append(0)\n",
    "        \n",
    "        return outcomes\n",
    "    \n",
    "    def get_opponents(self, team_id, games):\n",
    "        opponents = []\n",
    "        \n",
    "        for i in range(len(games)):\n",
    "            if games.iloc[i]['Wteam'] != team_id:\n",
    "                opponents.append(games.iloc[i]['Wteam'])\n",
    "            else:\n",
    "                opponents.append(games.iloc[i]['Lteam'])\n",
    "        \n",
    "        return opponents"
   ]
  },
  {
   "cell_type": "markdown",
   "metadata": {},
   "source": [
    "** Split data into training and test set ** "
   ]
  },
  {
   "cell_type": "code",
   "execution_count": 6,
   "metadata": {
    "collapsed": true
   },
   "outputs": [],
   "source": [
    "# lets create a target variable depending that\n",
    "def create_target_variable(df):\n",
    "    if df['Wteam'] > df['Lteam']:\n",
    "        return 0\n",
    "    else:\n",
    "        return 1\n",
    "    \n",
    "reg_season_compact['target'] = reg_season_compact[['Wteam', 'Lteam']].apply(create_target_variable, axis=1)"
   ]
  },
  {
   "cell_type": "code",
   "execution_count": 19,
   "metadata": {
    "collapsed": true
   },
   "outputs": [],
   "source": [
    "# public leaderboard tests based on the matches played between 2013-2016\n",
    "mask = reg_season_compact.Season < 1991\n",
    "data = reg_season_compact.loc[mask]\n",
    "\n",
    "train      = data.loc[data.Season < 1988]\n",
    "validation = data.loc[(data.Season >= 1988) & (data.Season < 1991)] "
   ]
  },
  {
   "cell_type": "markdown",
   "metadata": {},
   "source": [
    "** Predictions **"
   ]
  },
  {
   "cell_type": "code",
   "execution_count": 7,
   "metadata": {
    "collapsed": true
   },
   "outputs": [],
   "source": [
    "def predict_proba(df, ratings):\n",
    "    predictions = []\n",
    "    for team_1, team_2 in zip(df['Wteam'], df['Lteam']):\n",
    "        if team_1 in ratings:\n",
    "            team1_rating, team1_rd = ratings[team_1]\n",
    "        else:\n",
    "            team1_rating = 1500\n",
    "            team1_rd     = 350\n",
    "        \n",
    "        if team_2 in ratings:\n",
    "            team2_rating, team2_rd = ratings[team_2]\n",
    "        else:\n",
    "            team2_rating = 1500\n",
    "            team2_rd     = 350\n",
    "            \n",
    "        if team_1 < team_2:    \n",
    "            predictions.append(expected_win_prob(team1_rating, team1_rd,\n",
    "                                                 team2_rating, team2_rd))\n",
    "        else:\n",
    "            predictions.append(expected_win_prob(team2_rating, team2_rd,\n",
    "                                                 team1_rating, team1_rd))\n",
    "    \n",
    "    return np.array(predictions)"
   ]
  },
  {
   "cell_type": "markdown",
   "metadata": {},
   "source": [
    "### Glicko\n",
    "\n",
    "- Initialize ratings \n",
    "- For every season calculate new ratings for each of the teams involved.\n",
    "- After every season barring the first one we will update the rating deviation based on time period difference between last games for each of the teams involved in this season.\n",
    "- Repeat"
   ]
  },
  {
   "cell_type": "code",
   "execution_count": 8,
   "metadata": {
    "collapsed": true
   },
   "outputs": [],
   "source": [
    "def update_rd(all_season, current_season, teams_in_season, ratings):\n",
    "    \n",
    "    if len(ratings.keys()) > 0:\n",
    "        for team in teams_in_season:\n",
    "            if team in ratings:\n",
    "                old_rating, old_rd = ratings[team]\n",
    "                time_period_since_last_game = get_time_periods_since_last_played(all_season,\n",
    "                                                                                 team,\n",
    "                                                                                 current_season\n",
    "                                                                                )\n",
    "                new_rd = update_deviation_after_season(old_rd, time_period_since_last_game)\n",
    "                ratings[team] = (old_rating, new_rd)\n",
    "    \n",
    "    return ratings"
   ]
  },
  {
   "cell_type": "code",
   "execution_count": 9,
   "metadata": {
    "collapsed": true
   },
   "outputs": [],
   "source": [
    "def expected_win_prob(team1_rating, team1_rd, team2_rating, team2_rd):\n",
    "    g = get_g(np.sqrt(team1_rd ** 2 + team2_rd ** 2))\n",
    "    return 1 / ( 1 + 10 ** (-g * (team1_rating - team2_rating) / 400))"
   ]
  },
  {
   "cell_type": "code",
   "execution_count": 10,
   "metadata": {
    "collapsed": true
   },
   "outputs": [],
   "source": [
    "def calculate_glicko_ratings(reg_season_compact, season_list):\n",
    "    ratings = {} # ratings will keep track of all ratings through all seasons\n",
    "    \n",
    "    for curr_season in season_list:\n",
    "        season_perf      = reg_season_compact.loc[reg_season_compact.Season == curr_season, :]\n",
    "        season           = Season(season_perf) \n",
    "        teams_in_season  = season.get_teams()\n",
    "        \n",
    "        ratings  = update_rd(reg_season_compact, curr_season, teams_in_season, ratings)\n",
    "        \n",
    "#         new_ratings = {} # initalize an empty dict to store ratings for this season\n",
    "        \n",
    "        for your_team_id in teams_in_season:\n",
    "            games     = season.get_games(your_team_id)\n",
    "            outcomes  = season.get_outcomes(your_team_id, games)\n",
    "            opponents = season.get_opponents(your_team_id, games)\n",
    "\n",
    "            opponent_ratings = []\n",
    "            opponent_rds     = []\n",
    "\n",
    "            for opponent in opponents:\n",
    "                if opponent in ratings:\n",
    "                    rating, rd = ratings[opponent]\n",
    "                    opponent_ratings.append(rating)\n",
    "                    opponent_rds.append(rd)\n",
    "                else:\n",
    "                    ratings[opponent] = (1500, 350) # default rating\n",
    "                    opponent_ratings.append(1500)\n",
    "                    opponent_rds.append(350)\n",
    "\n",
    "            if your_team_id not in ratings:\n",
    "                ratings[your_team_id] = (1500, 350)\n",
    "                your_rating        = 1500 # default rating \n",
    "                your_rd             = 350 # default rd\n",
    "            else:\n",
    "                your_rating, your_rd = ratings[your_team_id]\n",
    "\n",
    "            new_rating, new_rd = glicko_update(your_rating, your_rd, \n",
    "                                               opponent_ratings, opponent_rds, \n",
    "                                               outcomes)\n",
    "\n",
    "            ratings[your_team_id] = (new_rating, new_rd)\n",
    "        \n",
    "        # update ratings after each season\n",
    "#         for k, v in new_ratings.items():\n",
    "#             ratings[k] = v\n",
    "    \n",
    "    return ratings"
   ]
  },
  {
   "cell_type": "code",
   "execution_count": 15,
   "metadata": {
    "collapsed": false
   },
   "outputs": [],
   "source": [
    "ratings = calculate_glicko_ratings(reg_season_compact, np.arange(2007, 2016, 1))"
   ]
  },
  {
   "cell_type": "markdown",
   "metadata": {},
   "source": [
    "** Validation Set **"
   ]
  },
  {
   "cell_type": "code",
   "execution_count": 31,
   "metadata": {
    "collapsed": false
   },
   "outputs": [
    {
     "name": "stdout",
     "output_type": "stream",
     "text": [
      "Log loss on validation set: 0.6658786399284474\n"
     ]
    }
   ],
   "source": [
    "y_val = validation.target\n",
    "y_hat = predict_proba(validation, ratings)\n",
    "print('Log loss on validation set: {}'.format(log_loss(y_val, y_hat)))"
   ]
  },
  {
   "cell_type": "markdown",
   "metadata": {},
   "source": [
    "** Predictions **"
   ]
  },
  {
   "cell_type": "code",
   "execution_count": 12,
   "metadata": {
    "collapsed": true
   },
   "outputs": [],
   "source": [
    "def predict(sub, ratings):\n",
    "    predictions = []\n",
    "    \n",
    "    for id_, pred in zip(sub['id'], sub['pred']):\n",
    "        season, team_1, team_2 = id_.split('_')\n",
    "        team_1 = int(team_1)\n",
    "        team_2 = int(team_2)\n",
    "        \n",
    "        if team_1 < team_2:\n",
    "            team1_rating, team1_rd = ratings[team_1]\n",
    "            team2_rating, team2_rd = ratings[team_2]\n",
    "            \n",
    "            predictions.append(expected_win_prob(team1_rating, team1_rd,\n",
    "                                                 team2_rating, team2_rd))\n",
    "        else:\n",
    "            predictions.append(expected_win_prob(team2_rating, team2_rd,\n",
    "                                                 team1_rating, team2_rd))\n",
    "    \n",
    "    return predictions"
   ]
  },
  {
   "cell_type": "code",
   "execution_count": 13,
   "metadata": {
    "collapsed": true
   },
   "outputs": [],
   "source": [
    "# Create Submission\n",
    "sub = pd.read_csv('../data/sample_submission.csv')"
   ]
  },
  {
   "cell_type": "code",
   "execution_count": 14,
   "metadata": {
    "collapsed": false
   },
   "outputs": [],
   "source": [
    "predictions = predict(sub, ratings)\n",
    "sub['pred'] = predictions\n",
    "sub.to_csv('../submissions/glicko_15_after_2003.csv', index=False)"
   ]
  }
 ],
 "metadata": {
  "anaconda-cloud": {},
  "kernelspec": {
   "display_name": "Python [Root]",
   "language": "python",
   "name": "Python [Root]"
  },
  "language_info": {
   "codemirror_mode": {
    "name": "ipython",
    "version": 3
   },
   "file_extension": ".py",
   "mimetype": "text/x-python",
   "name": "python",
   "nbconvert_exporter": "python",
   "pygments_lexer": "ipython3",
   "version": "3.5.2"
  }
 },
 "nbformat": 4,
 "nbformat_minor": 0
}
