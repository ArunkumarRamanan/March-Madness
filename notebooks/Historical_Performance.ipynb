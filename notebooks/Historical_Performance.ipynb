{
 "cells": [
  {
   "cell_type": "code",
   "execution_count": 1,
   "metadata": {
    "collapsed": true
   },
   "outputs": [],
   "source": [
    "%matplotlib inline\n",
    "\n",
    "import pandas as pd\n",
    "import numpy as np\n",
    "\n",
    "import matplotlib.pyplot as plt\n",
    "import seaborn as sns\n",
    "\n",
    "from sklearn.metrics import log_loss\n",
    "\n",
    "pd.set_option('display.max_columns', None)\n",
    "\n",
    "np.random.seed(2131)\n",
    "\n",
    "import warnings\n",
    "warnings.filterwarnings('ignore')"
   ]
  },
  {
   "cell_type": "code",
   "execution_count": 2,
   "metadata": {
    "collapsed": true
   },
   "outputs": [],
   "source": [
    "# load files ( DATA )\n",
    "\n",
    "teams               = pd.read_csv('../data/Teams.csv')\n",
    "seasons             = pd.read_csv('../data/Seasons.csv')\n",
    "reg_season_compact  = pd.read_csv('../data/RegularSeasonCompactResults.csv')\n",
    "reg_season_detailed = pd.read_csv('../data/RegularSeasonDetailedResults.csv')\n",
    "tourney_compact     = pd.read_csv('../data/TourneyCompactResults.csv')\n",
    "tourney_detailed    = pd.read_csv('../data/TourneyDetailedResults.csv')\n",
    "tourney_seeds       = pd.read_csv('../data/TourneySeeds.csv')\n",
    "tourney_slots       = pd.read_csv('../data/TourneySlots.csv')"
   ]
  },
  {
   "cell_type": "markdown",
   "metadata": {},
   "source": [
    "** Create target variable **"
   ]
  },
  {
   "cell_type": "code",
   "execution_count": 3,
   "metadata": {
    "collapsed": true
   },
   "outputs": [],
   "source": [
    "# lets create a target variable depending that\n",
    "def create_target_variable(df):\n",
    "    if df['Wteam'] > df['Lteam']:\n",
    "        return 0\n",
    "    else:\n",
    "        return 1\n",
    "    \n",
    "reg_season_compact['target'] = reg_season_compact[['Wteam', 'Lteam']].apply(create_target_variable, axis=1)"
   ]
  },
  {
   "cell_type": "markdown",
   "metadata": {},
   "source": [
    "** Split the dataset into training and test set **"
   ]
  },
  {
   "cell_type": "code",
   "execution_count": 4,
   "metadata": {
    "collapsed": true
   },
   "outputs": [],
   "source": [
    "data       = reg_season_compact.loc[reg_season_compact.Season < 2013, :]\n",
    "train      = data.loc[data.Season < 2010]\n",
    "validation = data.loc[(data.Season >= 2010) & (data.Season < 2013)]"
   ]
  },
  {
   "cell_type": "code",
   "execution_count": 5,
   "metadata": {
    "collapsed": true
   },
   "outputs": [],
   "source": [
    "def num_wins(agg_data, team_1, team_2):\n",
    "    \n",
    "    if (team_1, team_2) not in agg_data:\n",
    "        return 0.5\n",
    "    \n",
    "    team_vs_team   = agg_data.ix[(team_1, team_2)]\n",
    "\n",
    "    seasons        = team_vs_team.index.values\n",
    "    damping_factor = .90\n",
    "\n",
    "    sum_ = 0\n",
    "    for season in seasons:\n",
    "        years  = 2013 - season\n",
    "        sum_ = sum_ + (team_vs_team.ix[season] * damping_factor ** years)\n",
    "\n",
    "    return 0.5 + sum_"
   ]
  },
  {
   "cell_type": "code",
   "execution_count": 6,
   "metadata": {
    "collapsed": false
   },
   "outputs": [],
   "source": [
    "def predict_proba(agg_data, df):\n",
    "    predictions = []\n",
    "    \n",
    "    for team_1, team_2 in zip(df['Wteam'], df['Lteam']):\n",
    "        wins_1 = num_wins(agg_data, team_1, team_2)\n",
    "        wins_2 = num_wins(agg_data, team_2, team_1)\n",
    "        \n",
    "        if team_1 < team_2:\n",
    "            predictions.append(wins_1 / ( wins_1 + wins_2 ))\n",
    "        else:\n",
    "            predictions.append(wins_2 / ( wins_1 + wins_2))\n",
    "        \n",
    "    return np.array(predictions)"
   ]
  },
  {
   "cell_type": "code",
   "execution_count": 77,
   "metadata": {
    "collapsed": false
   },
   "outputs": [],
   "source": [
    "agg_data    = train.groupby(['Wteam', 'Lteam', 'Season']).size()\n",
    "y_hat       = predict_proba(agg_data, validation)"
   ]
  },
  {
   "cell_type": "code",
   "execution_count": 78,
   "metadata": {
    "collapsed": false
   },
   "outputs": [
    {
     "name": "stdout",
     "output_type": "stream",
     "text": [
      "Log loss on validation set: 0.6772118765344068\n"
     ]
    }
   ],
   "source": [
    "y_val = validation.target\n",
    "print('Log loss on validation set: {}'.format(log_loss(y_val, y_hat)))"
   ]
  },
  {
   "cell_type": "markdown",
   "metadata": {},
   "source": [
    "** Full Training **"
   ]
  },
  {
   "cell_type": "code",
   "execution_count": 7,
   "metadata": {
    "collapsed": true
   },
   "outputs": [],
   "source": [
    "def predict(agg_data, sub):\n",
    "    predictions = []\n",
    "    \n",
    "    for id_, pred in zip(sub['id'], sub['pred']):\n",
    "        season, team_1, team_2 = id_.split('_')\n",
    "        team_1 = int(team_1)\n",
    "        team_2 = int(team_2)\n",
    "        \n",
    "        wins_1 = num_wins(agg_data, team_1, team_2)\n",
    "        wins_2 = num_wins(agg_data, team_2, team_1)\n",
    "        \n",
    "        if team_1 < team_2:\n",
    "            predictions.append((wins_1) / (wins_1 + wins_2))\n",
    "        else:\n",
    "            predictions.append((wins_2) / ( wins_1 + wins_2))\n",
    "    \n",
    "    return predictions"
   ]
  },
  {
   "cell_type": "code",
   "execution_count": 8,
   "metadata": {
    "collapsed": true
   },
   "outputs": [],
   "source": [
    "# Create Submission\n",
    "sub = pd.read_csv('../data/sample_submission.csv')\n",
    "\n",
    "agg_data    = reg_season_compact.groupby(['Wteam', 'Lteam', 'Season']).size()\n",
    "predictions = predict(agg_data, sub)"
   ]
  },
  {
   "cell_type": "code",
   "execution_count": 84,
   "metadata": {
    "collapsed": true
   },
   "outputs": [],
   "source": [
    "sub['pred'] = predictions\n",
    "sub.to_csv('../submissions/historical_performance_including_2013.csv', index=False)"
   ]
  }
 ],
 "metadata": {
  "anaconda-cloud": {},
  "kernelspec": {
   "display_name": "Python [Root]",
   "language": "python",
   "name": "Python [Root]"
  },
  "language_info": {
   "codemirror_mode": {
    "name": "ipython",
    "version": 3
   },
   "file_extension": ".py",
   "mimetype": "text/x-python",
   "name": "python",
   "nbconvert_exporter": "python",
   "pygments_lexer": "ipython3",
   "version": "3.5.2"
  }
 },
 "nbformat": 4,
 "nbformat_minor": 0
}
