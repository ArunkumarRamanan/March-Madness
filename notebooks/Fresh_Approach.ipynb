{
 "cells": [
  {
   "cell_type": "code",
   "execution_count": 120,
   "metadata": {
    "collapsed": true
   },
   "outputs": [],
   "source": [
    "%matplotlib inline\n",
    "\n",
    "import pandas as pd\n",
    "import numpy  as np\n",
    "\n",
    "import matplotlib.pyplot as plt # matplotlib\n",
    "import seaborn as sns           # seaborn\n",
    "\n",
    "from sklearn.linear_model import LogisticRegression\n",
    "from sklearn.ensemble import RandomForestClassifier\n",
    "from sklearn.metrics import log_loss\n",
    "\n",
    "pd.set_option('display.max_columns', None)\n",
    "\n",
    "np.random.seed(2131) # set random seed\n",
    "\n",
    "import warnings\n",
    "warnings.filterwarnings('ignore')"
   ]
  },
  {
   "cell_type": "code",
   "execution_count": 3,
   "metadata": {
    "collapsed": false
   },
   "outputs": [],
   "source": [
    "# load data files\n",
    "teams               = pd.read_csv('../data/Teams.csv')\n",
    "seasons             = pd.read_csv('../data/Seasons.csv')\n",
    "reg_season_compact  = pd.read_csv('../data/RegularSeasonCompactResults.csv')\n",
    "reg_season_detailed = pd.read_csv('../data/RegularSeasonDetailedResults.csv')\n",
    "tourney_compact     = pd.read_csv('../data/TourneyCompactResults.csv')\n",
    "tourney_detailed    = pd.read_csv('../data/TourneyDetailedResults.csv')\n",
    "tourney_seeds       = pd.read_csv('../data/TourneySeeds.csv')\n",
    "tourney_slots       = pd.read_csv('../data/TourneySlots.csv')"
   ]
  },
  {
   "cell_type": "markdown",
   "metadata": {},
   "source": [
    "** Let's see how the performance of the team varies as we progress into the season. **"
   ]
  },
  {
   "cell_type": "code",
   "execution_count": 4,
   "metadata": {
    "collapsed": false
   },
   "outputs": [],
   "source": [
    "def get_team_performance(detailed_season, team_id):\n",
    "    wmask = (detailed_season.Wteam == team_id)\n",
    "    lmask = (detailed_season.Lteam == team_id)\n",
    "    \n",
    "    winning_instances = detailed_season.loc[wmask, ['Season', 'Daynum']]\n",
    "    winning_instances['outcome'] = np.array([1] * len(winning_instances)) \n",
    "    \n",
    "    losing_instances  = detailed_season.loc[lmask, ['Season', 'Daynum']]\n",
    "    losing_instances['outcome'] = np.array([0] * len(losing_instances))\n",
    "    \n",
    "    instances_concat = pd.concat((winning_instances, losing_instances))\n",
    "    instances_concat_sorted = instances_concat.sort_values(by=['Season','Daynum'])\n",
    "    \n",
    "    return instances_concat_sorted  "
   ]
  },
  {
   "cell_type": "code",
   "execution_count": 5,
   "metadata": {
    "collapsed": false
   },
   "outputs": [
    {
     "data": {
      "text/html": [
       "<div>\n",
       "<table border=\"1\" class=\"dataframe\">\n",
       "  <thead>\n",
       "    <tr style=\"text-align: right;\">\n",
       "      <th></th>\n",
       "      <th>Season</th>\n",
       "      <th>Daynum</th>\n",
       "      <th>Wteam</th>\n",
       "      <th>Wscore</th>\n",
       "      <th>Lteam</th>\n",
       "      <th>Lscore</th>\n",
       "      <th>Wloc</th>\n",
       "      <th>Numot</th>\n",
       "      <th>Wfgm</th>\n",
       "      <th>Wfga</th>\n",
       "      <th>Wfgm3</th>\n",
       "      <th>Wfga3</th>\n",
       "      <th>Wftm</th>\n",
       "      <th>Wfta</th>\n",
       "      <th>Wor</th>\n",
       "      <th>Wdr</th>\n",
       "      <th>Wast</th>\n",
       "      <th>Wto</th>\n",
       "      <th>Wstl</th>\n",
       "      <th>Wblk</th>\n",
       "      <th>Wpf</th>\n",
       "      <th>Lfgm</th>\n",
       "      <th>Lfga</th>\n",
       "      <th>Lfgm3</th>\n",
       "      <th>Lfga3</th>\n",
       "      <th>Lftm</th>\n",
       "      <th>Lfta</th>\n",
       "      <th>Lor</th>\n",
       "      <th>Ldr</th>\n",
       "      <th>Last</th>\n",
       "      <th>Lto</th>\n",
       "      <th>Lstl</th>\n",
       "      <th>Lblk</th>\n",
       "      <th>Lpf</th>\n",
       "    </tr>\n",
       "  </thead>\n",
       "  <tbody>\n",
       "    <tr>\n",
       "      <th>0</th>\n",
       "      <td>2003</td>\n",
       "      <td>10</td>\n",
       "      <td>1104</td>\n",
       "      <td>68</td>\n",
       "      <td>1328</td>\n",
       "      <td>62</td>\n",
       "      <td>N</td>\n",
       "      <td>0</td>\n",
       "      <td>27</td>\n",
       "      <td>58</td>\n",
       "      <td>3</td>\n",
       "      <td>14</td>\n",
       "      <td>11</td>\n",
       "      <td>18</td>\n",
       "      <td>14</td>\n",
       "      <td>24</td>\n",
       "      <td>13</td>\n",
       "      <td>23</td>\n",
       "      <td>7</td>\n",
       "      <td>1</td>\n",
       "      <td>22</td>\n",
       "      <td>22</td>\n",
       "      <td>53</td>\n",
       "      <td>2</td>\n",
       "      <td>10</td>\n",
       "      <td>16</td>\n",
       "      <td>22</td>\n",
       "      <td>10</td>\n",
       "      <td>22</td>\n",
       "      <td>8</td>\n",
       "      <td>18</td>\n",
       "      <td>9</td>\n",
       "      <td>2</td>\n",
       "      <td>20</td>\n",
       "    </tr>\n",
       "    <tr>\n",
       "      <th>1</th>\n",
       "      <td>2003</td>\n",
       "      <td>10</td>\n",
       "      <td>1272</td>\n",
       "      <td>70</td>\n",
       "      <td>1393</td>\n",
       "      <td>63</td>\n",
       "      <td>N</td>\n",
       "      <td>0</td>\n",
       "      <td>26</td>\n",
       "      <td>62</td>\n",
       "      <td>8</td>\n",
       "      <td>20</td>\n",
       "      <td>10</td>\n",
       "      <td>19</td>\n",
       "      <td>15</td>\n",
       "      <td>28</td>\n",
       "      <td>16</td>\n",
       "      <td>13</td>\n",
       "      <td>4</td>\n",
       "      <td>4</td>\n",
       "      <td>18</td>\n",
       "      <td>24</td>\n",
       "      <td>67</td>\n",
       "      <td>6</td>\n",
       "      <td>24</td>\n",
       "      <td>9</td>\n",
       "      <td>20</td>\n",
       "      <td>20</td>\n",
       "      <td>25</td>\n",
       "      <td>7</td>\n",
       "      <td>12</td>\n",
       "      <td>8</td>\n",
       "      <td>6</td>\n",
       "      <td>16</td>\n",
       "    </tr>\n",
       "    <tr>\n",
       "      <th>2</th>\n",
       "      <td>2003</td>\n",
       "      <td>11</td>\n",
       "      <td>1266</td>\n",
       "      <td>73</td>\n",
       "      <td>1437</td>\n",
       "      <td>61</td>\n",
       "      <td>N</td>\n",
       "      <td>0</td>\n",
       "      <td>24</td>\n",
       "      <td>58</td>\n",
       "      <td>8</td>\n",
       "      <td>18</td>\n",
       "      <td>17</td>\n",
       "      <td>29</td>\n",
       "      <td>17</td>\n",
       "      <td>26</td>\n",
       "      <td>15</td>\n",
       "      <td>10</td>\n",
       "      <td>5</td>\n",
       "      <td>2</td>\n",
       "      <td>25</td>\n",
       "      <td>22</td>\n",
       "      <td>73</td>\n",
       "      <td>3</td>\n",
       "      <td>26</td>\n",
       "      <td>14</td>\n",
       "      <td>23</td>\n",
       "      <td>31</td>\n",
       "      <td>22</td>\n",
       "      <td>9</td>\n",
       "      <td>12</td>\n",
       "      <td>2</td>\n",
       "      <td>5</td>\n",
       "      <td>23</td>\n",
       "    </tr>\n",
       "    <tr>\n",
       "      <th>3</th>\n",
       "      <td>2003</td>\n",
       "      <td>11</td>\n",
       "      <td>1296</td>\n",
       "      <td>56</td>\n",
       "      <td>1457</td>\n",
       "      <td>50</td>\n",
       "      <td>N</td>\n",
       "      <td>0</td>\n",
       "      <td>18</td>\n",
       "      <td>38</td>\n",
       "      <td>3</td>\n",
       "      <td>9</td>\n",
       "      <td>17</td>\n",
       "      <td>31</td>\n",
       "      <td>6</td>\n",
       "      <td>19</td>\n",
       "      <td>11</td>\n",
       "      <td>12</td>\n",
       "      <td>14</td>\n",
       "      <td>2</td>\n",
       "      <td>18</td>\n",
       "      <td>18</td>\n",
       "      <td>49</td>\n",
       "      <td>6</td>\n",
       "      <td>22</td>\n",
       "      <td>8</td>\n",
       "      <td>15</td>\n",
       "      <td>17</td>\n",
       "      <td>20</td>\n",
       "      <td>9</td>\n",
       "      <td>19</td>\n",
       "      <td>4</td>\n",
       "      <td>3</td>\n",
       "      <td>23</td>\n",
       "    </tr>\n",
       "    <tr>\n",
       "      <th>4</th>\n",
       "      <td>2003</td>\n",
       "      <td>11</td>\n",
       "      <td>1400</td>\n",
       "      <td>77</td>\n",
       "      <td>1208</td>\n",
       "      <td>71</td>\n",
       "      <td>N</td>\n",
       "      <td>0</td>\n",
       "      <td>30</td>\n",
       "      <td>61</td>\n",
       "      <td>6</td>\n",
       "      <td>14</td>\n",
       "      <td>11</td>\n",
       "      <td>13</td>\n",
       "      <td>17</td>\n",
       "      <td>22</td>\n",
       "      <td>12</td>\n",
       "      <td>14</td>\n",
       "      <td>4</td>\n",
       "      <td>4</td>\n",
       "      <td>20</td>\n",
       "      <td>24</td>\n",
       "      <td>62</td>\n",
       "      <td>6</td>\n",
       "      <td>16</td>\n",
       "      <td>17</td>\n",
       "      <td>27</td>\n",
       "      <td>21</td>\n",
       "      <td>15</td>\n",
       "      <td>12</td>\n",
       "      <td>10</td>\n",
       "      <td>7</td>\n",
       "      <td>1</td>\n",
       "      <td>14</td>\n",
       "    </tr>\n",
       "  </tbody>\n",
       "</table>\n",
       "</div>"
      ],
      "text/plain": [
       "   Season  Daynum  Wteam  Wscore  Lteam  Lscore Wloc  Numot  Wfgm  Wfga  \\\n",
       "0    2003      10   1104      68   1328      62    N      0    27    58   \n",
       "1    2003      10   1272      70   1393      63    N      0    26    62   \n",
       "2    2003      11   1266      73   1437      61    N      0    24    58   \n",
       "3    2003      11   1296      56   1457      50    N      0    18    38   \n",
       "4    2003      11   1400      77   1208      71    N      0    30    61   \n",
       "\n",
       "   Wfgm3  Wfga3  Wftm  Wfta  Wor  Wdr  Wast  Wto  Wstl  Wblk  Wpf  Lfgm  Lfga  \\\n",
       "0      3     14    11    18   14   24    13   23     7     1   22    22    53   \n",
       "1      8     20    10    19   15   28    16   13     4     4   18    24    67   \n",
       "2      8     18    17    29   17   26    15   10     5     2   25    22    73   \n",
       "3      3      9    17    31    6   19    11   12    14     2   18    18    49   \n",
       "4      6     14    11    13   17   22    12   14     4     4   20    24    62   \n",
       "\n",
       "   Lfgm3  Lfga3  Lftm  Lfta  Lor  Ldr  Last  Lto  Lstl  Lblk  Lpf  \n",
       "0      2     10    16    22   10   22     8   18     9     2   20  \n",
       "1      6     24     9    20   20   25     7   12     8     6   16  \n",
       "2      3     26    14    23   31   22     9   12     2     5   23  \n",
       "3      6     22     8    15   17   20     9   19     4     3   23  \n",
       "4      6     16    17    27   21   15    12   10     7     1   14  "
      ]
     },
     "execution_count": 5,
     "metadata": {},
     "output_type": "execute_result"
    }
   ],
   "source": [
    "reg_season_detailed.head()"
   ]
  },
  {
   "cell_type": "code",
   "execution_count": 6,
   "metadata": {
    "collapsed": true
   },
   "outputs": [],
   "source": [
    "def get_season_perforamce(performance, season):\n",
    "    mask = performance.Season == season\n",
    "    return performance.loc[mask, ['Daynum', 'outcome']]"
   ]
  },
  {
   "cell_type": "code",
   "execution_count": 7,
   "metadata": {
    "collapsed": true
   },
   "outputs": [],
   "source": [
    "def performance_across_seasons(performance, seasons):\n",
    "    dim = int(np.ceil(len(seasons) ** 0.5))\n",
    "    fig, axes = plt.subplots(nrows=dim, ncols=dim, figsize=(15, 15))\n",
    "    \n",
    "    for i, season in enumerate(seasons):\n",
    "        season_perf = get_season_perforamce(performance, season)\n",
    "        sns.regplot(x='Daynum',\n",
    "                    y='outcome',\n",
    "                    data=season_perf,\n",
    "                    fit_reg=False,\n",
    "                    ax=axes[i//dim][i%dim]\n",
    "                   )\n",
    "        axes[i//dim][i%dim].set_title('Season: %s'%(season))\n",
    "    \n",
    "    plt.tight_layout();"
   ]
  },
  {
   "cell_type": "code",
   "execution_count": 79,
   "metadata": {
    "collapsed": false
   },
   "outputs": [
    {
     "data": {
      "image/png": "[encoded data removed]",
      "text/plain": [
       "<matplotlib.figure.Figure at 0x7f2b2213d550>"
      ]
     },
     "metadata": {},
     "output_type": "display_data"
    }
   ],
   "source": [
    "team_performance = get_team_performance(reg_season_detailed, 1112)\n",
    "performance_across_seasons(team_performance, np.arange(2003, 2013))"
   ]
  },
  {
   "cell_type": "code",
   "execution_count": 77,
   "metadata": {
    "collapsed": false
   },
   "outputs": [
    {
     "data": {
      "image/png": "[encoded data removed]",
      "text/plain": [
       "<matplotlib.figure.Figure at 0x7f2b21fad898>"
      ]
     },
     "metadata": {},
     "output_type": "display_data"
    }
   ],
   "source": [
    "team_performance = get_team_performance(reg_season_detailed, 1400)\n",
    "performance_across_seasons(team_performance, np.arange(2003, 2013))"
   ]
  },
  {
   "cell_type": "code",
   "execution_count": 78,
   "metadata": {
    "collapsed": false
   },
   "outputs": [
    {
     "data": {
      "text/html": [
       "<div>\n",
       "<table border=\"1\" class=\"dataframe\">\n",
       "  <thead>\n",
       "    <tr style=\"text-align: right;\">\n",
       "      <th></th>\n",
       "      <th>Season</th>\n",
       "      <th>Daynum</th>\n",
       "      <th>Wteam</th>\n",
       "      <th>Wscore</th>\n",
       "      <th>Lteam</th>\n",
       "      <th>Lscore</th>\n",
       "      <th>Wloc</th>\n",
       "      <th>Numot</th>\n",
       "      <th>Wfgm</th>\n",
       "      <th>Wfga</th>\n",
       "      <th>Wfgm3</th>\n",
       "      <th>Wfga3</th>\n",
       "      <th>Wftm</th>\n",
       "      <th>Wfta</th>\n",
       "      <th>Wor</th>\n",
       "      <th>Wdr</th>\n",
       "      <th>Wast</th>\n",
       "      <th>Wto</th>\n",
       "      <th>Wstl</th>\n",
       "      <th>Wblk</th>\n",
       "      <th>Wpf</th>\n",
       "      <th>Lfgm</th>\n",
       "      <th>Lfga</th>\n",
       "      <th>Lfgm3</th>\n",
       "      <th>Lfga3</th>\n",
       "      <th>Lftm</th>\n",
       "      <th>Lfta</th>\n",
       "      <th>Lor</th>\n",
       "      <th>Ldr</th>\n",
       "      <th>Last</th>\n",
       "      <th>Lto</th>\n",
       "      <th>Lstl</th>\n",
       "      <th>Lblk</th>\n",
       "      <th>Lpf</th>\n",
       "    </tr>\n",
       "  </thead>\n",
       "  <tbody>\n",
       "    <tr>\n",
       "      <th>545</th>\n",
       "      <td>2011</td>\n",
       "      <td>137</td>\n",
       "      <td>1400</td>\n",
       "      <td>85</td>\n",
       "      <td>1324</td>\n",
       "      <td>81</td>\n",
       "      <td>N</td>\n",
       "      <td>0</td>\n",
       "      <td>30</td>\n",
       "      <td>63</td>\n",
       "      <td>4</td>\n",
       "      <td>9</td>\n",
       "      <td>21</td>\n",
       "      <td>26</td>\n",
       "      <td>15</td>\n",
       "      <td>27</td>\n",
       "      <td>14</td>\n",
       "      <td>10</td>\n",
       "      <td>4</td>\n",
       "      <td>9</td>\n",
       "      <td>14</td>\n",
       "      <td>33</td>\n",
       "      <td>75</td>\n",
       "      <td>7</td>\n",
       "      <td>29</td>\n",
       "      <td>8</td>\n",
       "      <td>11</td>\n",
       "      <td>17</td>\n",
       "      <td>21</td>\n",
       "      <td>12</td>\n",
       "      <td>7</td>\n",
       "      <td>7</td>\n",
       "      <td>3</td>\n",
       "      <td>17</td>\n",
       "    </tr>\n",
       "    <tr>\n",
       "      <th>556</th>\n",
       "      <td>2011</td>\n",
       "      <td>139</td>\n",
       "      <td>1112</td>\n",
       "      <td>70</td>\n",
       "      <td>1400</td>\n",
       "      <td>69</td>\n",
       "      <td>N</td>\n",
       "      <td>0</td>\n",
       "      <td>24</td>\n",
       "      <td>54</td>\n",
       "      <td>8</td>\n",
       "      <td>14</td>\n",
       "      <td>14</td>\n",
       "      <td>22</td>\n",
       "      <td>11</td>\n",
       "      <td>21</td>\n",
       "      <td>17</td>\n",
       "      <td>12</td>\n",
       "      <td>8</td>\n",
       "      <td>2</td>\n",
       "      <td>20</td>\n",
       "      <td>24</td>\n",
       "      <td>53</td>\n",
       "      <td>3</td>\n",
       "      <td>11</td>\n",
       "      <td>18</td>\n",
       "      <td>22</td>\n",
       "      <td>10</td>\n",
       "      <td>23</td>\n",
       "      <td>13</td>\n",
       "      <td>13</td>\n",
       "      <td>5</td>\n",
       "      <td>7</td>\n",
       "      <td>17</td>\n",
       "    </tr>\n",
       "  </tbody>\n",
       "</table>\n",
       "</div>"
      ],
      "text/plain": [
       "     Season  Daynum  Wteam  Wscore  Lteam  Lscore Wloc  Numot  Wfgm  Wfga  \\\n",
       "545    2011     137   1400      85   1324      81    N      0    30    63   \n",
       "556    2011     139   1112      70   1400      69    N      0    24    54   \n",
       "\n",
       "     Wfgm3  Wfga3  Wftm  Wfta  Wor  Wdr  Wast  Wto  Wstl  Wblk  Wpf  Lfgm  \\\n",
       "545      4      9    21    26   15   27    14   10     4     9   14    33   \n",
       "556      8     14    14    22   11   21    17   12     8     2   20    24   \n",
       "\n",
       "     Lfga  Lfgm3  Lfga3  Lftm  Lfta  Lor  Ldr  Last  Lto  Lstl  Lblk  Lpf  \n",
       "545    75      7     29     8    11   17   21    12    7     7     3   17  \n",
       "556    53      3     11    18    22   10   23    13   13     5     7   17  "
      ]
     },
     "execution_count": 78,
     "metadata": {},
     "output_type": "execute_result"
    }
   ],
   "source": [
    "tourney_detailed.loc[(tourney_detailed.Season == 2011) &\n",
    "                     ((tourney_detailed.Wteam == 1400) |\n",
    "                      (tourney_detailed.Lteam == 1400)\n",
    "                     ), :\n",
    "                    ]"
   ]
  },
  {
   "cell_type": "markdown",
   "metadata": {},
   "source": [
    "** Is there any relationship between recent form in regular season and performance in tournament ? **"
   ]
  },
  {
   "cell_type": "code",
   "execution_count": 50,
   "metadata": {
    "collapsed": false
   },
   "outputs": [],
   "source": [
    "def recent_form_reg_season(season_details, season, team_id, n_days=5):\n",
    "    mask  = (season_details.Season == season) & \\\n",
    "            ((season_details.Wteam == team_id) |\\\n",
    "            (season_details.Lteam == team_id)) \n",
    "    \n",
    "    team_season_details        = season_details.loc[mask, :]\n",
    "    team_season_details_sorted = team_season_details.sort_values(by='Daynum', ascending=False)\n",
    "    recent_form                = team_season_details_sorted.iloc[:n_days]\n",
    "    \n",
    "    num_wins                   = len(np.where(recent_form.Wteam == team_id)[0])\n",
    "    num_losses                 = len(np.where(recent_form.Lteam == team_id)[0])\n",
    "    \n",
    "    return (num_wins, num_losses)\n",
    "\n",
    "def get_tournament_form(tourney_detailed, season, team_id):\n",
    "    mask = (tourney_detailed.Season == season) & \\\n",
    "           ((tourney_detailed.Wteam == team_id))\n",
    "        \n",
    "    return len(tourney_detailed.loc[mask, :])"
   ]
  },
  {
   "cell_type": "code",
   "execution_count": 78,
   "metadata": {
    "collapsed": false
   },
   "outputs": [],
   "source": [
    "def rel_tournament_form_recent_form(reg_season_detailed, tourney_detailed, n_days):\n",
    "    all_teams = list(set(set(tourney_detailed.Wteam.unique()) |\\\n",
    "                          set(tourney_detailed.Lteam.unique())))\n",
    "    \n",
    "    seasons         = np.arange(2004, 2016)\n",
    "    form_reg_season = []\n",
    "    perf_tourney    = []\n",
    "    \n",
    "    for team in all_teams:\n",
    "        for season in seasons:\n",
    "            num_wins, num_losses = recent_form_reg_season(reg_season_detailed, season, team, n_days)\n",
    "            tournament_form      = get_tournament_form(tourney_detailed, season, team)\n",
    "\n",
    "            form_reg_season.append((num_wins, num_losses))\n",
    "            perf_tourney.append(tournament_form)\n",
    "    \n",
    "    form_reg_season = np.array(form_reg_season)\n",
    "    perf_tourney = np.array(perf_tourney)\n",
    "    \n",
    "    return form_reg_season, perf_tourney"
   ]
  },
  {
   "cell_type": "code",
   "execution_count": 86,
   "metadata": {
    "collapsed": false
   },
   "outputs": [],
   "source": [
    "form_reg_season, perf_tourney = rel_tournament_form_recent_form(reg_season_detailed,\n",
    "                                                                   tourney_detailed,\n",
    "                                                                n_days=3\n",
    "                                                               )"
   ]
  },
  {
   "cell_type": "code",
   "execution_count": 87,
   "metadata": {
    "collapsed": false
   },
   "outputs": [],
   "source": [
    "data = pd.DataFrame(np.hstack((form_reg_season, perf_tourney.reshape(-1, 1))))\n",
    "data.columns = ['Wins', 'Losses', 'Run']"
   ]
  },
  {
   "cell_type": "code",
   "execution_count": 88,
   "metadata": {
    "collapsed": false
   },
   "outputs": [
    {
     "data": {
      "image/png": "[encoded data removed]",
      "text/plain": [
       "<matplotlib.figure.Figure at 0x7f34ab02e240>"
      ]
     },
     "metadata": {},
     "output_type": "display_data"
    }
   ],
   "source": [
    "sns.factorplot(x='Wins', y='Losses', hue='Run', data=data);"
   ]
  },
  {
   "cell_type": "code",
   "execution_count": 89,
   "metadata": {
    "collapsed": false
   },
   "outputs": [
    {
     "data": {
      "image/png": "[encoded data removed]",
      "text/plain": [
       "<matplotlib.figure.Figure at 0x7f34ab13e5c0>"
      ]
     },
     "metadata": {},
     "output_type": "display_data"
    }
   ],
   "source": [
    "sns.regplot(x=data['Wins'] - data['Losses'], y=data['Run'], fit_reg=False);"
   ]
  },
  {
   "cell_type": "markdown",
   "metadata": {
    "collapsed": true
   },
   "source": [
    "** Stage - 1 **\n",
    "\n",
    "You have to submit probabilities for all possible matchups in the past 4 NCAA tournaments. (2013 - 2016)\n",
    "\n",
    "68 teams in the NCAA tournament are divided into first four regions and and organized into elimination _bracket_ which determines when a team wins a game, which team it will face next.\n",
    "\n",
    "Since also all of the teams are seeded, we can use this as an indicator of the performance."
   ]
  },
  {
   "cell_type": "markdown",
   "metadata": {},
   "source": [
    "** We will look at the seeds given to the teams involved in the matchup for which we have to give out predictions. **"
   ]
  },
  {
   "cell_type": "code",
   "execution_count": 88,
   "metadata": {
    "collapsed": true
   },
   "outputs": [],
   "source": [
    "def get_tournament_seeds(tournament_seeds, season):\n",
    "    \"\"\"\n",
    "    Given a dataframe that represents seeds given to different\n",
    "    teams that took part in the NCAA tournament, return a mapping \n",
    "    between teams and their seed for that season.\n",
    "    \n",
    "    :param tournament_seeds: Dataframe that represent seeds for different teams\n",
    "    :param season:           Year\n",
    "    \"\"\"\n",
    "    mask  = tournament_seeds.Season == season\n",
    "    \n",
    "    seeds = tournament_seeds.loc[mask, :].copy()\n",
    "    seeds['team_seed'] = seeds.Seed.str.findall(r'\\d+').map(lambda x: int(x[0]))\n",
    "    return seeds[['team_seed', 'Team']].set_index('Team').to_dict()['team_seed']"
   ]
  },
  {
   "cell_type": "code",
   "execution_count": 89,
   "metadata": {
    "collapsed": false
   },
   "outputs": [],
   "source": [
    "seeds_2012 = get_tournament_seeds(tourney_seeds, 2012)"
   ]
  },
  {
   "cell_type": "code",
   "execution_count": 52,
   "metadata": {
    "collapsed": false
   },
   "outputs": [],
   "source": [
    "# let's play with results that we have for season 2012\n",
    "matchups_2012 = tourney_detailed.loc[tourney_detailed.Season == 2012, ['Wteam', 'Lteam']]"
   ]
  },
  {
   "cell_type": "code",
   "execution_count": 65,
   "metadata": {
    "collapsed": false
   },
   "outputs": [],
   "source": [
    "# let's randomly pickup up any games\n",
    "train_size = int(.8 * len(matchups_2012))\n",
    "\n",
    "# shuffle matches\n",
    "shuffled_matches = matchups_2012.sample(frac=1.)\n",
    "train            = shuffled_matches.iloc[:train_size]\n",
    "test             = shuffled_matches.iloc[train_size:]"
   ]
  },
  {
   "cell_type": "code",
   "execution_count": 67,
   "metadata": {
    "collapsed": false
   },
   "outputs": [],
   "source": [
    "y_train = [1 if row[1][0] < row[1][1] else 0 for row in train.iterrows()]\n",
    "y_test  = [1 if row[1][0] < row[1][1] else 0 for row in test.iterrows()]"
   ]
  },
  {
   "cell_type": "code",
   "execution_count": 90,
   "metadata": {
    "collapsed": false
   },
   "outputs": [],
   "source": [
    "train_seeds_2012 = np.array([[seeds_2012[row[1][0]], seeds_2012[row[1][1]]] \\\n",
    "                             for row in train.iterrows()])\n",
    "test_seeds_2012  = np.array([[seeds_2012[row[1][0]], seeds_2012[row[1][1]]] \\\n",
    "                             for row in test.iterrows()])"
   ]
  },
  {
   "cell_type": "code",
   "execution_count": 93,
   "metadata": {
    "collapsed": false
   },
   "outputs": [
    {
     "data": {
      "text/plain": [
       "LogisticRegression(C=1.0, class_weight=None, dual=False, fit_intercept=True,\n",
       "          intercept_scaling=1, max_iter=100, multi_class='ovr', n_jobs=1,\n",
       "          penalty='l2', random_state=None, solver='liblinear', tol=0.0001,\n",
       "          verbose=0, warm_start=False)"
      ]
     },
     "execution_count": 93,
     "metadata": {},
     "output_type": "execute_result"
    }
   ],
   "source": [
    "log = LogisticRegression()\n",
    "log.fit(train_seeds_2012, y_train)"
   ]
  },
  {
   "cell_type": "code",
   "execution_count": 94,
   "metadata": {
    "collapsed": false
   },
   "outputs": [
    {
     "name": "stdout",
     "output_type": "stream",
     "text": [
      "Coefficients  [[-0.05462418 -0.02826069]]\n"
     ]
    }
   ],
   "source": [
    "print('Coefficients ', log.coef_)"
   ]
  },
  {
   "cell_type": "code",
   "execution_count": 99,
   "metadata": {
    "collapsed": false
   },
   "outputs": [
    {
     "name": "stdout",
     "output_type": "stream",
     "text": [
      "Log loss score on the hidden dataset: 0.7348481361865284\n"
     ]
    }
   ],
   "source": [
    "y_hat = log.predict_proba(test_seeds_2012)[:, 1]\n",
    "print('Log loss score on the hidden dataset: {}'.format(log_loss(y_test, y_hat)))"
   ]
  },
  {
   "cell_type": "markdown",
   "metadata": {},
   "source": [
    "** Let' see what is the performance of this model across different tournaments. ** "
   ]
  },
  {
   "cell_type": "code",
   "execution_count": 169,
   "metadata": {
    "collapsed": true
   },
   "outputs": [],
   "source": [
    "def seed_model(tourney_compact, tournament_seeds, seasons):\n",
    "    for season in seasons:\n",
    "        seeds_season    = get_tournament_seeds(tourney_seeds, season)\n",
    "        matchups_season = tourney_compact.loc[tourney_compact.Season == season, ['Wteam', 'Lteam']]\n",
    "        \n",
    "        # let's randomly pickup up any games\n",
    "        train_size = int(.7 * len(matchups_season))\n",
    "\n",
    "        # shuffle matches\n",
    "        shuffled_matches = matchups_season.sample(frac=1.)\n",
    "        train            = shuffled_matches.iloc[:train_size]\n",
    "        test             = shuffled_matches.iloc[train_size:]\n",
    "        \n",
    "        y_train = [1 if row[1][0] < row[1][1] else 0 for row in train.iterrows()]\n",
    "        y_test  = [1 if row[1][0] < row[1][1] else 0 for row in test.iterrows()]\n",
    "        \n",
    "        train_seeds_season = []\n",
    "        \n",
    "        for idx, row in train.iterrows():\n",
    "            if row[0] < row[1]:\n",
    "                train_seeds_season.append([seeds_season[row[0]], seeds_season[row[1]]])\n",
    "            else:\n",
    "                train_seeds_season.append([seeds_season[row[1]], seeds_season[row[0]]])\n",
    "        \n",
    "        train_seeds_season = np.array(train_seeds_season)\n",
    "        \n",
    "        \n",
    "        test_seeds_season = []\n",
    "        \n",
    "        for idx, row in test.iterrows():\n",
    "            if row[0] < row[1]:\n",
    "                test_seeds_season.append([seeds_season[row[0]], seeds_season[row[1]]])\n",
    "            else:\n",
    "                test_seeds_season.append([seeds_season[row[1]], seeds_season[row[0]]])\n",
    "        \n",
    "        test_seeds_season = np.array(test_seeds_season)\n",
    "                \n",
    "        diff_seeds_train = (train_seeds_season[:, 0] - train_seeds_season[:, 1]).reshape(-1, 1)\n",
    "        diff_seeds_test = (test_seeds_season[:, 0] - test_seeds_season[:, 1]).reshape(-1, 1)\n",
    "\n",
    "        print('Season :', season)\n",
    "        \n",
    "        log = LogisticRegression(C=.1) # linear model\n",
    "#         rf  = RandomForestClassifier(max_depth=3, n_jobs=-1, random_state=1313) # non-linear model\n",
    "        \n",
    "        log.fit(diff_seeds_train, y_train)\n",
    "\n",
    "        print('Coefficients ', log.coef_)\n",
    "        \n",
    "        y_hat = log.predict_proba(diff_seeds_test)[:, 1]\n",
    "        print('Log loss score on the hidden dataset: {}'.format(log_loss(y_test, y_hat)))\n",
    "        print('-'*75)"
   ]
  },
  {
   "cell_type": "code",
   "execution_count": 170,
   "metadata": {
    "collapsed": false
   },
   "outputs": [
    {
     "name": "stdout",
     "output_type": "stream",
     "text": [
      "Season : 2003\n",
      "Log loss score on the hidden dataset: 2.331776011876463\n",
      "---------------------------------------------------------------------------\n",
      "Season : 2004\n",
      "Log loss score on the hidden dataset: 0.672644434201955\n",
      "---------------------------------------------------------------------------\n",
      "Season : 2005\n",
      "Log loss score on the hidden dataset: 2.103966941072681\n",
      "---------------------------------------------------------------------------\n",
      "Season : 2006\n",
      "Log loss score on the hidden dataset: 0.5107650647319044\n",
      "---------------------------------------------------------------------------\n",
      "Season : 2007\n",
      "Log loss score on the hidden dataset: 3.5809197662690706\n",
      "---------------------------------------------------------------------------\n",
      "Season : 2008\n",
      "Log loss score on the hidden dataset: 0.672876392080157\n",
      "---------------------------------------------------------------------------\n",
      "Season : 2009\n",
      "Log loss score on the hidden dataset: 0.36010006572619196\n",
      "---------------------------------------------------------------------------\n",
      "Season : 2010\n",
      "Log loss score on the hidden dataset: 0.8420269350430596\n",
      "---------------------------------------------------------------------------\n",
      "Season : 2011\n",
      "Log loss score on the hidden dataset: 0.7604492899640343\n",
      "---------------------------------------------------------------------------\n",
      "Season : 2012\n",
      "Log loss score on the hidden dataset: 0.6458639958096504\n",
      "---------------------------------------------------------------------------\n",
      "Season : 2013\n",
      "Log loss score on the hidden dataset: 0.8742682907193939\n",
      "---------------------------------------------------------------------------\n",
      "Season : 2014\n",
      "Log loss score on the hidden dataset: 0.6695844407562372\n",
      "---------------------------------------------------------------------------\n",
      "Season : 2015\n",
      "Log loss score on the hidden dataset: 1.9943616066429155\n",
      "---------------------------------------------------------------------------\n",
      "Season : 2016\n",
      "Log loss score on the hidden dataset: 0.5701369001472283\n",
      "---------------------------------------------------------------------------\n"
     ]
    }
   ],
   "source": [
    "seed_model(tourney_compact, tourney_seeds, np.arange(2003, 2017))"
   ]
  },
  {
   "cell_type": "code",
   "execution_count": 166,
   "metadata": {
    "collapsed": false
   },
   "outputs": [],
   "source": [
    "def get_predictions(tourney_compact, tournament_seeds, sub, seasons):\n",
    "    models = {}\n",
    "    \n",
    "    for season in seasons:\n",
    "        seeds_season    = get_tournament_seeds(tourney_seeds, season)\n",
    "        matchups_season = tourney_compact.loc[tourney_compact.Season == season, ['Wteam', 'Lteam']]\n",
    "        \n",
    "        outcome = [1 if row[0] < row[1] else 0 for idx, row in matchups_season.iterrows()]\n",
    "        \n",
    "        feature_seeds = []\n",
    "        \n",
    "        for idx, row in matchups_season.iterrows():\n",
    "            if row[0] < row[1]:\n",
    "                feature_seeds.append([seeds_season[row[0]], seeds_season[row[1]]])\n",
    "            else:\n",
    "                feature_seeds.append([seeds_season[row[1]], seeds_season[row[0]]])\n",
    "        \n",
    "        feature_seeds = np.array(feature_seeds)\n",
    "        diff_seeds = (feature_seeds[:, 0] - feature_seeds[:, 1]).reshape(-1, 1)\n",
    "\n",
    "        model = RandomForestClassifier(n_jobs=-1, random_state=1313)\n",
    "        model.fit(diff_seeds, outcome)\n",
    "        \n",
    "        models[season] = model\n",
    "    \n",
    "    predictions = []\n",
    "    \n",
    "    for idx, row in sub.iterrows():\n",
    "        season, team_1, team_2 = row['id'].split('_')\n",
    "        season = int(season)\n",
    "        team_1 = int(team_1)\n",
    "        team_2 = int(team_2)\n",
    "        \n",
    "        seeds_season  = get_tournament_seeds(tourney_seeds, season)\n",
    "        \n",
    "        feature_seeds = np.array([[seeds_season[team_1], seeds_season[team_2]]])\n",
    "        diff_seeds    = (feature_seeds[:, 0] - feature_seeds[:, 1]).reshape(-1, 1)\n",
    "        \n",
    "        y_hat = models[season].predict_proba(diff_seeds)[:, 1]\n",
    "        predictions.append(y_hat)\n",
    "    \n",
    "    return predictions"
   ]
  },
  {
   "cell_type": "code",
   "execution_count": 149,
   "metadata": {
    "collapsed": false
   },
   "outputs": [],
   "source": [
    "predictions = get_predictions(tourney_compact, tourney_seeds, sub, np.arange(2013, 2017))"
   ]
  },
  {
   "cell_type": "code",
   "execution_count": 161,
   "metadata": {
    "collapsed": false
   },
   "outputs": [],
   "source": [
    "predictions = np.array(predictions).reshape(-1, )"
   ]
  },
  {
   "cell_type": "code",
   "execution_count": 162,
   "metadata": {
    "collapsed": false
   },
   "outputs": [],
   "source": [
    "sub = pd.read_csv('../data/sample_submission.csv')"
   ]
  },
  {
   "cell_type": "code",
   "execution_count": 163,
   "metadata": {
    "collapsed": true
   },
   "outputs": [],
   "source": [
    "sub['pred'] = predictions"
   ]
  },
  {
   "cell_type": "code",
   "execution_count": 165,
   "metadata": {
    "collapsed": false
   },
   "outputs": [],
   "source": [
    "sub.to_csv('../submissions/seed_based_predictions.csv', index=False)"
   ]
  }
 ],
 "metadata": {
  "anaconda-cloud": {},
  "kernelspec": {
   "display_name": "Python [Root]",
   "language": "python",
   "name": "Python [Root]"
  },
  "language_info": {
   "codemirror_mode": {
    "name": "ipython",
    "version": 3
   },
   "file_extension": ".py",
   "mimetype": "text/x-python",
   "name": "python",
   "nbconvert_exporter": "python",
   "pygments_lexer": "ipython3",
   "version": "3.5.2"
  }
 },
 "nbformat": 4,
 "nbformat_minor": 0
}
