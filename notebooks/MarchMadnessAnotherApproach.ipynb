{
 "cells": [
  {
   "cell_type": "code",
   "execution_count": 75,
   "metadata": {
    "collapsed": true
   },
   "outputs": [],
   "source": [
    "%matplotlib inline\n",
    "\n",
    "import pandas as pd\n",
    "import numpy as np\n",
    "import xgboost as xgb\n",
    "\n",
    "import matplotlib.pyplot as plt\n",
    "import seaborn as sns\n",
    "\n",
    "from sklearn.metrics import log_loss\n",
    "\n",
    "sns.set_style('whitegrid')\n",
    "sns.set_context('poster')\n",
    "\n",
    "pd.set_option('display.max_columns', None)\n",
    "\n",
    "np.random.seed(2131)\n",
    "\n",
    "import warnings\n",
    "warnings.filterwarnings('ignore')"
   ]
  },
  {
   "cell_type": "markdown",
   "metadata": {},
   "source": [
    "** Load data files **"
   ]
  },
  {
   "cell_type": "code",
   "execution_count": 2,
   "metadata": {
    "collapsed": true
   },
   "outputs": [],
   "source": [
    "# load files ( DATA )\n",
    "\n",
    "teams               = pd.read_csv('../data/Teams.csv')\n",
    "seasons             = pd.read_csv('../data/Seasons.csv')\n",
    "reg_season_compact  = pd.read_csv('../data/RegularSeasonCompactResults.csv')\n",
    "reg_season_detailed = pd.read_csv('../data/RegularSeasonDetailedResults.csv')\n",
    "tourney_compact     = pd.read_csv('../data/TourneyCompactResults.csv')\n",
    "tourney_detailed    = pd.read_csv('../data/TourneyDetailedResults.csv')\n",
    "tourney_seeds       = pd.read_csv('../data/TourneySeeds.csv')\n",
    "tourney_slots       = pd.read_csv('../data/TourneySlots.csv')"
   ]
  },
  {
   "cell_type": "code",
   "execution_count": 54,
   "metadata": {
    "collapsed": false
   },
   "outputs": [],
   "source": [
    "original = pd.DataFrame({'Season':   reg_season_compact.Season, \n",
    "                     'Daynum':   reg_season_compact.Daynum, \n",
    "                     'Team1':    reg_season_compact.Wteam, \n",
    "                     'Team2':    reg_season_compact.Lteam,\n",
    "                     'win_diff': reg_season_compact.Wscore - reg_season_compact.Lscore,\n",
    "                     'target':   [1] * len(reg_season_compact)\n",
    "                    })"
   ]
  },
  {
   "cell_type": "code",
   "execution_count": 57,
   "metadata": {
    "collapsed": false
   },
   "outputs": [],
   "source": [
    "created = pd.DataFrame({'Season':    reg_season_compact.Season,\n",
    "                        'Daynum':    reg_season_compact.Daynum,\n",
    "                        'Team1':     reg_season_compact.Lteam,\n",
    "                        'Team2':     reg_season_compact.Wteam,\n",
    "                        'win_diff':  reg_season_compact.Lscore - reg_season_compact.Wscore,\n",
    "                        'target':    [0] * len(reg_season_compact)\n",
    "                       })"
   ]
  },
  {
   "cell_type": "code",
   "execution_count": 61,
   "metadata": {
    "collapsed": false
   },
   "outputs": [],
   "source": [
    "data = pd.concat((original, created))\n",
    "data = data.sort_values(by=['Season', 'Daynum'])"
   ]
  },
  {
   "cell_type": "markdown",
   "metadata": {},
   "source": [
    "** Split into training and test set **"
   ]
  },
  {
   "cell_type": "code",
   "execution_count": 62,
   "metadata": {
    "collapsed": true
   },
   "outputs": [],
   "source": [
    "mask  = data.Season < 2013\n",
    "train = data.loc[mask]\n",
    "test  = data.loc[~mask]"
   ]
  },
  {
   "cell_type": "code",
   "execution_count": 125,
   "metadata": {
    "collapsed": false
   },
   "outputs": [],
   "source": [
    "features = ['Team1', 'Team2', 'Season']\n",
    "\n",
    "X = train.loc[:, features]\n",
    "y = train.target\n",
    "\n",
    "Xtest = test.loc[:, features]"
   ]
  },
  {
   "cell_type": "code",
   "execution_count": 126,
   "metadata": {
    "collapsed": false
   },
   "outputs": [],
   "source": [
    "train_test_split_mask = X.Season < 2010\n",
    "\n",
    "Xtr = X.loc[train_test_split_mask, features[:-1]]\n",
    "ytr = y.loc[train_test_split_mask, ]\n",
    "\n",
    "Xtv = X.loc[~train_test_split_mask, features[:-1]]\n",
    "ytv = y.loc[~train_test_split_mask, ]"
   ]
  },
  {
   "cell_type": "markdown",
   "metadata": {},
   "source": [
    "** XGboost **"
   ]
  },
  {
   "cell_type": "code",
   "execution_count": 127,
   "metadata": {
    "collapsed": false
   },
   "outputs": [
    {
     "name": "stderr",
     "output_type": "stream",
     "text": [
      "[0]\teval-logloss:0.692582\ttrain-logloss:0.692422\n",
      "[1]\teval-logloss:0.691935\ttrain-logloss:0.692162\n",
      "[2]\teval-logloss:0.691371\ttrain-logloss:0.691541\n",
      "[3]\teval-logloss:0.690769\ttrain-logloss:0.690921\n",
      "[4]\teval-logloss:0.690419\ttrain-logloss:0.690534\n",
      "[5]\teval-logloss:0.690093\ttrain-logloss:0.690194\n",
      "[6]\teval-logloss:0.689594\ttrain-logloss:0.689744\n",
      "[7]\teval-logloss:0.689076\ttrain-logloss:0.689374\n",
      "[8]\teval-logloss:0.688910\ttrain-logloss:0.689180\n",
      "[9]\teval-logloss:0.688673\ttrain-logloss:0.688871\n",
      "[10]\teval-logloss:0.688492\ttrain-logloss:0.688655\n",
      "[11]\teval-logloss:0.688320\ttrain-logloss:0.688448\n",
      "[12]\teval-logloss:0.688144\ttrain-logloss:0.688324\n",
      "[13]\teval-logloss:0.688002\ttrain-logloss:0.688138\n",
      "[14]\teval-logloss:0.687639\ttrain-logloss:0.687757\n",
      "[15]\teval-logloss:0.687274\ttrain-logloss:0.687469\n",
      "[16]\teval-logloss:0.687050\ttrain-logloss:0.687076\n",
      "[17]\teval-logloss:0.686825\ttrain-logloss:0.686725\n",
      "[18]\teval-logloss:0.686777\ttrain-logloss:0.686592\n",
      "[19]\teval-logloss:0.686794\ttrain-logloss:0.686498\n",
      "[20]\teval-logloss:0.686653\ttrain-logloss:0.686390\n",
      "[21]\teval-logloss:0.686490\ttrain-logloss:0.686007\n",
      "[22]\teval-logloss:0.686339\ttrain-logloss:0.685914\n",
      "[23]\teval-logloss:0.686175\ttrain-logloss:0.685557\n",
      "[24]\teval-logloss:0.686158\ttrain-logloss:0.685471\n",
      "[25]\teval-logloss:0.685663\ttrain-logloss:0.685006\n",
      "[26]\teval-logloss:0.685632\ttrain-logloss:0.684903\n",
      "[27]\teval-logloss:0.685138\ttrain-logloss:0.684449\n",
      "[28]\teval-logloss:0.684681\ttrain-logloss:0.683926\n",
      "[29]\teval-logloss:0.684429\ttrain-logloss:0.683628\n",
      "[30]\teval-logloss:0.684328\ttrain-logloss:0.683550\n",
      "[31]\teval-logloss:0.684224\ttrain-logloss:0.683336\n",
      "[32]\teval-logloss:0.684144\ttrain-logloss:0.683282\n",
      "[33]\teval-logloss:0.683972\ttrain-logloss:0.683013\n",
      "[34]\teval-logloss:0.683514\ttrain-logloss:0.682492\n",
      "[35]\teval-logloss:0.683100\ttrain-logloss:0.681985\n",
      "[36]\teval-logloss:0.682967\ttrain-logloss:0.681834\n",
      "[37]\teval-logloss:0.682833\ttrain-logloss:0.681675\n",
      "[38]\teval-logloss:0.682711\ttrain-logloss:0.681447\n",
      "[39]\teval-logloss:0.682574\ttrain-logloss:0.681223\n",
      "[40]\teval-logloss:0.682355\ttrain-logloss:0.680887\n",
      "[41]\teval-logloss:0.682372\ttrain-logloss:0.680824\n",
      "[42]\teval-logloss:0.682381\ttrain-logloss:0.680759\n",
      "[43]\teval-logloss:0.682322\ttrain-logloss:0.680684\n",
      "[44]\teval-logloss:0.682290\ttrain-logloss:0.680523\n",
      "[45]\teval-logloss:0.682217\ttrain-logloss:0.680479\n",
      "[46]\teval-logloss:0.681825\ttrain-logloss:0.680028\n",
      "[47]\teval-logloss:0.681631\ttrain-logloss:0.679793\n",
      "[48]\teval-logloss:0.681630\ttrain-logloss:0.679645\n",
      "[49]\teval-logloss:0.681525\ttrain-logloss:0.679418\n",
      "[50]\teval-logloss:0.681230\ttrain-logloss:0.679142\n",
      "[51]\teval-logloss:0.680838\ttrain-logloss:0.678643\n",
      "[52]\teval-logloss:0.680586\ttrain-logloss:0.678350\n",
      "[53]\teval-logloss:0.680611\ttrain-logloss:0.678304\n",
      "[54]\teval-logloss:0.680262\ttrain-logloss:0.678048\n",
      "[55]\teval-logloss:0.679859\ttrain-logloss:0.677593\n",
      "[56]\teval-logloss:0.679840\ttrain-logloss:0.677541\n",
      "[57]\teval-logloss:0.679508\ttrain-logloss:0.677322\n",
      "[58]\teval-logloss:0.679438\ttrain-logloss:0.677181\n",
      "[59]\teval-logloss:0.679181\ttrain-logloss:0.677025\n",
      "[60]\teval-logloss:0.679119\ttrain-logloss:0.676892\n",
      "[61]\teval-logloss:0.679005\ttrain-logloss:0.676763\n",
      "[62]\teval-logloss:0.678802\ttrain-logloss:0.676388\n",
      "[63]\teval-logloss:0.678544\ttrain-logloss:0.676201\n",
      "[64]\teval-logloss:0.678475\ttrain-logloss:0.675947\n",
      "[65]\teval-logloss:0.678402\ttrain-logloss:0.675837\n",
      "[66]\teval-logloss:0.678273\ttrain-logloss:0.675643\n",
      "[67]\teval-logloss:0.678178\ttrain-logloss:0.675503\n",
      "[68]\teval-logloss:0.678159\ttrain-logloss:0.675391\n",
      "[69]\teval-logloss:0.677945\ttrain-logloss:0.675192\n",
      "[70]\teval-logloss:0.677861\ttrain-logloss:0.674988\n",
      "[71]\teval-logloss:0.677866\ttrain-logloss:0.674952\n",
      "[72]\teval-logloss:0.677726\ttrain-logloss:0.674762\n",
      "[73]\teval-logloss:0.677755\ttrain-logloss:0.674721\n",
      "[74]\teval-logloss:0.677497\ttrain-logloss:0.674370\n",
      "[75]\teval-logloss:0.677435\ttrain-logloss:0.674277\n",
      "[76]\teval-logloss:0.677315\ttrain-logloss:0.673999\n",
      "[77]\teval-logloss:0.677036\ttrain-logloss:0.673592\n",
      "[78]\teval-logloss:0.676930\ttrain-logloss:0.673431\n",
      "[79]\teval-logloss:0.676850\ttrain-logloss:0.673277\n",
      "[80]\teval-logloss:0.676784\ttrain-logloss:0.673120\n",
      "[81]\teval-logloss:0.676475\ttrain-logloss:0.672900\n",
      "[82]\teval-logloss:0.676341\ttrain-logloss:0.672749\n",
      "[83]\teval-logloss:0.676312\ttrain-logloss:0.672653\n",
      "[84]\teval-logloss:0.676071\ttrain-logloss:0.672436\n",
      "[85]\teval-logloss:0.675992\ttrain-logloss:0.672175\n",
      "[86]\teval-logloss:0.675898\ttrain-logloss:0.672050\n",
      "[87]\teval-logloss:0.675860\ttrain-logloss:0.671949\n",
      "[88]\teval-logloss:0.675770\ttrain-logloss:0.671823\n",
      "[89]\teval-logloss:0.675781\ttrain-logloss:0.671799\n",
      "[90]\teval-logloss:0.675692\ttrain-logloss:0.671678\n",
      "[91]\teval-logloss:0.675575\ttrain-logloss:0.671600\n",
      "[92]\teval-logloss:0.675587\ttrain-logloss:0.671526\n",
      "[93]\teval-logloss:0.675413\ttrain-logloss:0.671318\n",
      "[94]\teval-logloss:0.675268\ttrain-logloss:0.671139\n",
      "[95]\teval-logloss:0.675233\ttrain-logloss:0.670969\n",
      "[96]\teval-logloss:0.675058\ttrain-logloss:0.670745\n",
      "[97]\teval-logloss:0.675002\ttrain-logloss:0.670653\n",
      "[98]\teval-logloss:0.674867\ttrain-logloss:0.670515\n",
      "[99]\teval-logloss:0.674593\ttrain-logloss:0.670235\n",
      "[100]\teval-logloss:0.674316\ttrain-logloss:0.669963\n",
      "[101]\teval-logloss:0.674023\ttrain-logloss:0.669755\n",
      "[102]\teval-logloss:0.673902\ttrain-logloss:0.669680\n",
      "[103]\teval-logloss:0.673875\ttrain-logloss:0.669576\n",
      "[104]\teval-logloss:0.673638\ttrain-logloss:0.669392\n",
      "[105]\teval-logloss:0.673559\ttrain-logloss:0.669180\n",
      "[106]\teval-logloss:0.673369\ttrain-logloss:0.669027\n",
      "[107]\teval-logloss:0.673166\ttrain-logloss:0.668846\n",
      "[108]\teval-logloss:0.672746\ttrain-logloss:0.668481\n",
      "[109]\teval-logloss:0.672393\ttrain-logloss:0.668086\n",
      "[110]\teval-logloss:0.672387\ttrain-logloss:0.668058\n",
      "[111]\teval-logloss:0.672365\ttrain-logloss:0.667950\n",
      "[112]\teval-logloss:0.672321\ttrain-logloss:0.667897\n",
      "[113]\teval-logloss:0.672091\ttrain-logloss:0.667740\n",
      "[114]\teval-logloss:0.671800\ttrain-logloss:0.667427\n",
      "[115]\teval-logloss:0.671685\ttrain-logloss:0.667229\n",
      "[116]\teval-logloss:0.671602\ttrain-logloss:0.667124\n",
      "[117]\teval-logloss:0.671511\ttrain-logloss:0.666957\n",
      "[118]\teval-logloss:0.671337\ttrain-logloss:0.666801\n",
      "[119]\teval-logloss:0.671297\ttrain-logloss:0.666716\n",
      "[120]\teval-logloss:0.671222\ttrain-logloss:0.666613\n",
      "[121]\teval-logloss:0.671144\ttrain-logloss:0.666459\n",
      "[122]\teval-logloss:0.670966\ttrain-logloss:0.666299\n",
      "[123]\teval-logloss:0.670915\ttrain-logloss:0.666196\n",
      "[124]\teval-logloss:0.670771\ttrain-logloss:0.666090\n",
      "[125]\teval-logloss:0.670730\ttrain-logloss:0.666011\n",
      "[126]\teval-logloss:0.670724\ttrain-logloss:0.665990\n",
      "[127]\teval-logloss:0.670594\ttrain-logloss:0.665883\n",
      "[128]\teval-logloss:0.670451\ttrain-logloss:0.665670\n",
      "[129]\teval-logloss:0.670352\ttrain-logloss:0.665488\n",
      "[130]\teval-logloss:0.670286\ttrain-logloss:0.665299\n",
      "[131]\teval-logloss:0.670026\ttrain-logloss:0.665011\n",
      "[132]\teval-logloss:0.669907\ttrain-logloss:0.664877\n",
      "[133]\teval-logloss:0.669649\ttrain-logloss:0.664598\n",
      "[134]\teval-logloss:0.669645\ttrain-logloss:0.664579\n",
      "[135]\teval-logloss:0.669619\ttrain-logloss:0.664508\n",
      "[136]\teval-logloss:0.669210\ttrain-logloss:0.664224\n",
      "[137]\teval-logloss:0.669002\ttrain-logloss:0.663921\n",
      "[138]\teval-logloss:0.669028\ttrain-logloss:0.663792\n",
      "[139]\teval-logloss:0.668993\ttrain-logloss:0.663718\n",
      "[140]\teval-logloss:0.668829\ttrain-logloss:0.663544\n",
      "[141]\teval-logloss:0.668714\ttrain-logloss:0.663357\n",
      "[142]\teval-logloss:0.668669\ttrain-logloss:0.663293\n",
      "[143]\teval-logloss:0.668526\ttrain-logloss:0.663168\n",
      "[144]\teval-logloss:0.668410\ttrain-logloss:0.663069\n",
      "[145]\teval-logloss:0.668380\ttrain-logloss:0.662997\n",
      "[146]\teval-logloss:0.668162\ttrain-logloss:0.662792\n",
      "[147]\teval-logloss:0.667990\ttrain-logloss:0.662601\n",
      "[148]\teval-logloss:0.667890\ttrain-logloss:0.662455\n",
      "[149]\teval-logloss:0.667866\ttrain-logloss:0.662386\n",
      "[150]\teval-logloss:0.667785\ttrain-logloss:0.662270\n",
      "[151]\teval-logloss:0.667734\ttrain-logloss:0.662176\n",
      "[152]\teval-logloss:0.667683\ttrain-logloss:0.662054\n",
      "[153]\teval-logloss:0.667565\ttrain-logloss:0.661899\n",
      "[154]\teval-logloss:0.667488\ttrain-logloss:0.661856\n",
      "[155]\teval-logloss:0.667392\ttrain-logloss:0.661796\n",
      "[156]\teval-logloss:0.667319\ttrain-logloss:0.661711\n",
      "[157]\teval-logloss:0.667296\ttrain-logloss:0.661664\n",
      "[158]\teval-logloss:0.667219\ttrain-logloss:0.661543\n",
      "[159]\teval-logloss:0.667225\ttrain-logloss:0.661377\n",
      "[160]\teval-logloss:0.667115\ttrain-logloss:0.661263\n",
      "[161]\teval-logloss:0.666865\ttrain-logloss:0.661006\n",
      "[162]\teval-logloss:0.666730\ttrain-logloss:0.660797\n",
      "[163]\teval-logloss:0.666806\ttrain-logloss:0.660746\n",
      "[164]\teval-logloss:0.666789\ttrain-logloss:0.660697\n",
      "[165]\teval-logloss:0.666487\ttrain-logloss:0.660382\n",
      "[166]\teval-logloss:0.666237\ttrain-logloss:0.660185\n",
      "[167]\teval-logloss:0.666028\ttrain-logloss:0.659984\n",
      "[168]\teval-logloss:0.666067\ttrain-logloss:0.659960\n",
      "[169]\teval-logloss:0.665850\ttrain-logloss:0.659765\n",
      "[170]\teval-logloss:0.665747\ttrain-logloss:0.659597\n",
      "[171]\teval-logloss:0.665761\ttrain-logloss:0.659472\n",
      "[172]\teval-logloss:0.665725\ttrain-logloss:0.659388\n",
      "[173]\teval-logloss:0.665606\ttrain-logloss:0.659300\n",
      "[174]\teval-logloss:0.665209\ttrain-logloss:0.659110\n",
      "[175]\teval-logloss:0.665130\ttrain-logloss:0.659013\n",
      "[176]\teval-logloss:0.665112\ttrain-logloss:0.658882\n",
      "[177]\teval-logloss:0.665029\ttrain-logloss:0.658818\n",
      "[178]\teval-logloss:0.664858\ttrain-logloss:0.658684\n",
      "[179]\teval-logloss:0.664680\ttrain-logloss:0.658565\n",
      "[180]\teval-logloss:0.664344\ttrain-logloss:0.658158\n",
      "[181]\teval-logloss:0.664141\ttrain-logloss:0.658005\n",
      "[182]\teval-logloss:0.664129\ttrain-logloss:0.657957\n",
      "[183]\teval-logloss:0.664000\ttrain-logloss:0.657850\n",
      "[184]\teval-logloss:0.663936\ttrain-logloss:0.657807\n",
      "[185]\teval-logloss:0.664015\ttrain-logloss:0.657772\n",
      "[186]\teval-logloss:0.663910\ttrain-logloss:0.657713\n",
      "[187]\teval-logloss:0.663910\ttrain-logloss:0.657677\n",
      "[188]\teval-logloss:0.663665\ttrain-logloss:0.657438\n",
      "[189]\teval-logloss:0.663408\ttrain-logloss:0.657167\n",
      "[190]\teval-logloss:0.663396\ttrain-logloss:0.657095\n",
      "[191]\teval-logloss:0.663052\ttrain-logloss:0.656765\n",
      "[192]\teval-logloss:0.662978\ttrain-logloss:0.656678\n",
      "[193]\teval-logloss:0.662797\ttrain-logloss:0.656540\n",
      "[194]\teval-logloss:0.662832\ttrain-logloss:0.656519\n",
      "[195]\teval-logloss:0.662771\ttrain-logloss:0.656439\n",
      "[196]\teval-logloss:0.662743\ttrain-logloss:0.656374\n",
      "[197]\teval-logloss:0.662687\ttrain-logloss:0.656203\n",
      "[198]\teval-logloss:0.662691\ttrain-logloss:0.656165\n",
      "[199]\teval-logloss:0.662585\ttrain-logloss:0.656063\n",
      "[200]\teval-logloss:0.662562\ttrain-logloss:0.656007\n",
      "[201]\teval-logloss:0.662489\ttrain-logloss:0.655939\n",
      "[202]\teval-logloss:0.662341\ttrain-logloss:0.655664\n",
      "[203]\teval-logloss:0.662318\ttrain-logloss:0.655562\n",
      "[204]\teval-logloss:0.662136\ttrain-logloss:0.655427\n",
      "[205]\teval-logloss:0.662088\ttrain-logloss:0.655382\n",
      "[206]\teval-logloss:0.661929\ttrain-logloss:0.655273\n",
      "[207]\teval-logloss:0.661887\ttrain-logloss:0.655216\n",
      "[208]\teval-logloss:0.661906\ttrain-logloss:0.655118\n",
      "[209]\teval-logloss:0.661860\ttrain-logloss:0.655053\n",
      "[210]\teval-logloss:0.661727\ttrain-logloss:0.654960\n",
      "[211]\teval-logloss:0.661768\ttrain-logloss:0.654870\n",
      "[212]\teval-logloss:0.661751\ttrain-logloss:0.654794\n",
      "[213]\teval-logloss:0.661433\ttrain-logloss:0.654639\n",
      "[214]\teval-logloss:0.661394\ttrain-logloss:0.654609\n",
      "[215]\teval-logloss:0.661419\ttrain-logloss:0.654509\n",
      "[216]\teval-logloss:0.661296\ttrain-logloss:0.654397\n",
      "[217]\teval-logloss:0.661262\ttrain-logloss:0.654282\n",
      "[218]\teval-logloss:0.661237\ttrain-logloss:0.654187\n",
      "[219]\teval-logloss:0.661200\ttrain-logloss:0.654128\n",
      "[220]\teval-logloss:0.661183\ttrain-logloss:0.654099\n",
      "[221]\teval-logloss:0.661171\ttrain-logloss:0.654023\n",
      "[222]\teval-logloss:0.661121\ttrain-logloss:0.653874\n",
      "[223]\teval-logloss:0.660889\ttrain-logloss:0.653650\n",
      "[224]\teval-logloss:0.660825\ttrain-logloss:0.653617\n",
      "[225]\teval-logloss:0.660824\ttrain-logloss:0.653578\n",
      "[226]\teval-logloss:0.660675\ttrain-logloss:0.653402\n",
      "[227]\teval-logloss:0.660603\ttrain-logloss:0.653296\n",
      "[228]\teval-logloss:0.660555\ttrain-logloss:0.653249\n",
      "[229]\teval-logloss:0.660550\ttrain-logloss:0.653208\n",
      "[230]\teval-logloss:0.660432\ttrain-logloss:0.653089\n",
      "[231]\teval-logloss:0.660249\ttrain-logloss:0.652995\n",
      "[232]\teval-logloss:0.660338\ttrain-logloss:0.652957\n",
      "[233]\teval-logloss:0.660316\ttrain-logloss:0.652905\n",
      "[234]\teval-logloss:0.659934\ttrain-logloss:0.652479\n",
      "[235]\teval-logloss:0.659774\ttrain-logloss:0.652364\n",
      "[236]\teval-logloss:0.659763\ttrain-logloss:0.652318\n",
      "[237]\teval-logloss:0.659711\ttrain-logloss:0.652200\n",
      "[238]\teval-logloss:0.659702\ttrain-logloss:0.652190\n",
      "[239]\teval-logloss:0.659648\ttrain-logloss:0.652102\n",
      "[240]\teval-logloss:0.659584\ttrain-logloss:0.652020\n",
      "[241]\teval-logloss:0.659402\ttrain-logloss:0.651877\n",
      "[242]\teval-logloss:0.659306\ttrain-logloss:0.651754\n",
      "[243]\teval-logloss:0.659226\ttrain-logloss:0.651672\n",
      "[244]\teval-logloss:0.659106\ttrain-logloss:0.651603\n",
      "[245]\teval-logloss:0.658933\ttrain-logloss:0.651323\n",
      "[246]\teval-logloss:0.658653\ttrain-logloss:0.651028\n",
      "[247]\teval-logloss:0.658726\ttrain-logloss:0.650818\n",
      "[248]\teval-logloss:0.658528\ttrain-logloss:0.650557\n",
      "[249]\teval-logloss:0.658391\ttrain-logloss:0.650473\n",
      "[250]\teval-logloss:0.658393\ttrain-logloss:0.650393\n",
      "[251]\teval-logloss:0.658273\ttrain-logloss:0.650325\n",
      "[252]\teval-logloss:0.658029\ttrain-logloss:0.650020\n",
      "[253]\teval-logloss:0.658043\ttrain-logloss:0.649990\n",
      "[254]\teval-logloss:0.657897\ttrain-logloss:0.649885\n",
      "[255]\teval-logloss:0.657900\ttrain-logloss:0.649833\n",
      "[256]\teval-logloss:0.657770\ttrain-logloss:0.649759\n",
      "[257]\teval-logloss:0.657510\ttrain-logloss:0.649569\n",
      "[258]\teval-logloss:0.657544\ttrain-logloss:0.649556\n",
      "[259]\teval-logloss:0.657567\ttrain-logloss:0.649465\n",
      "[260]\teval-logloss:0.657574\ttrain-logloss:0.649435\n",
      "[261]\teval-logloss:0.657583\ttrain-logloss:0.649398\n",
      "[262]\teval-logloss:0.657489\ttrain-logloss:0.649238\n",
      "[263]\teval-logloss:0.657295\ttrain-logloss:0.649044\n",
      "[264]\teval-logloss:0.656969\ttrain-logloss:0.648802\n",
      "[265]\teval-logloss:0.656798\ttrain-logloss:0.648624\n",
      "[266]\teval-logloss:0.656824\ttrain-logloss:0.648505\n",
      "[267]\teval-logloss:0.656834\ttrain-logloss:0.648483\n",
      "[268]\teval-logloss:0.656816\ttrain-logloss:0.648407\n",
      "[269]\teval-logloss:0.656743\ttrain-logloss:0.648313\n",
      "[270]\teval-logloss:0.656676\ttrain-logloss:0.648249\n",
      "[271]\teval-logloss:0.656722\ttrain-logloss:0.648201\n",
      "[272]\teval-logloss:0.656697\ttrain-logloss:0.648102\n",
      "[273]\teval-logloss:0.656664\ttrain-logloss:0.648052\n",
      "[274]\teval-logloss:0.656551\ttrain-logloss:0.647955\n",
      "[275]\teval-logloss:0.656554\ttrain-logloss:0.647927\n",
      "[276]\teval-logloss:0.656498\ttrain-logloss:0.647884\n",
      "[277]\teval-logloss:0.656426\ttrain-logloss:0.647818\n",
      "[278]\teval-logloss:0.656279\ttrain-logloss:0.647734\n",
      "[279]\teval-logloss:0.656175\ttrain-logloss:0.647625\n",
      "[280]\teval-logloss:0.656151\ttrain-logloss:0.647588\n",
      "[281]\teval-logloss:0.656232\ttrain-logloss:0.647494\n",
      "[282]\teval-logloss:0.656021\ttrain-logloss:0.647331\n",
      "[283]\teval-logloss:0.655813\ttrain-logloss:0.647186\n",
      "[284]\teval-logloss:0.655659\ttrain-logloss:0.647047\n",
      "[285]\teval-logloss:0.655547\ttrain-logloss:0.646901\n",
      "[286]\teval-logloss:0.655507\ttrain-logloss:0.646871\n",
      "[287]\teval-logloss:0.655455\ttrain-logloss:0.646760\n",
      "[288]\teval-logloss:0.655436\ttrain-logloss:0.646695\n",
      "[289]\teval-logloss:0.655419\ttrain-logloss:0.646661\n",
      "[290]\teval-logloss:0.655266\ttrain-logloss:0.646564\n",
      "[291]\teval-logloss:0.655273\ttrain-logloss:0.646481\n",
      "[292]\teval-logloss:0.655240\ttrain-logloss:0.646318\n",
      "[293]\teval-logloss:0.655083\ttrain-logloss:0.646218\n",
      "[294]\teval-logloss:0.655077\ttrain-logloss:0.646195\n",
      "[295]\teval-logloss:0.654991\ttrain-logloss:0.646129\n",
      "[296]\teval-logloss:0.654938\ttrain-logloss:0.646051\n",
      "[297]\teval-logloss:0.654914\ttrain-logloss:0.646019\n",
      "[298]\teval-logloss:0.654957\ttrain-logloss:0.645947\n",
      "[299]\teval-logloss:0.654860\ttrain-logloss:0.645838\n",
      "[300]\teval-logloss:0.654863\ttrain-logloss:0.645834\n",
      "[301]\teval-logloss:0.654861\ttrain-logloss:0.645787\n",
      "[302]\teval-logloss:0.654856\ttrain-logloss:0.645768\n",
      "[303]\teval-logloss:0.654820\ttrain-logloss:0.645723\n",
      "[304]\teval-logloss:0.654789\ttrain-logloss:0.645690\n",
      "[305]\teval-logloss:0.654764\ttrain-logloss:0.645651\n",
      "[306]\teval-logloss:0.654769\ttrain-logloss:0.645635\n",
      "[307]\teval-logloss:0.654673\ttrain-logloss:0.645557\n",
      "[308]\teval-logloss:0.654757\ttrain-logloss:0.645492\n",
      "[309]\teval-logloss:0.654696\ttrain-logloss:0.645393\n",
      "[310]\teval-logloss:0.654556\ttrain-logloss:0.645290\n",
      "[311]\teval-logloss:0.654502\ttrain-logloss:0.645110\n",
      "[312]\teval-logloss:0.654581\ttrain-logloss:0.645086\n",
      "[313]\teval-logloss:0.654453\ttrain-logloss:0.644944\n",
      "[314]\teval-logloss:0.654471\ttrain-logloss:0.644873\n",
      "[315]\teval-logloss:0.654333\ttrain-logloss:0.644713\n",
      "[316]\teval-logloss:0.654341\ttrain-logloss:0.644600\n",
      "[317]\teval-logloss:0.654244\ttrain-logloss:0.644509\n",
      "[318]\teval-logloss:0.654104\ttrain-logloss:0.644372\n",
      "[319]\teval-logloss:0.653907\ttrain-logloss:0.644189\n",
      "[320]\teval-logloss:0.653941\ttrain-logloss:0.644177\n",
      "[321]\teval-logloss:0.653946\ttrain-logloss:0.644162\n",
      "[322]\teval-logloss:0.653947\ttrain-logloss:0.644119\n",
      "[323]\teval-logloss:0.653877\ttrain-logloss:0.643903\n",
      "[324]\teval-logloss:0.653813\ttrain-logloss:0.643849\n",
      "[325]\teval-logloss:0.653808\ttrain-logloss:0.643816\n",
      "[326]\teval-logloss:0.653685\ttrain-logloss:0.643649\n",
      "[327]\teval-logloss:0.653693\ttrain-logloss:0.643598\n",
      "[328]\teval-logloss:0.653583\ttrain-logloss:0.643503\n",
      "[329]\teval-logloss:0.653499\ttrain-logloss:0.643436\n",
      "[330]\teval-logloss:0.653414\ttrain-logloss:0.643321\n",
      "[331]\teval-logloss:0.653350\ttrain-logloss:0.643229\n",
      "[332]\teval-logloss:0.653317\ttrain-logloss:0.643143\n",
      "[333]\teval-logloss:0.653335\ttrain-logloss:0.643110\n",
      "[334]\teval-logloss:0.653332\ttrain-logloss:0.643087\n",
      "[335]\teval-logloss:0.653204\ttrain-logloss:0.643027\n",
      "[336]\teval-logloss:0.653153\ttrain-logloss:0.642938\n",
      "[337]\teval-logloss:0.653070\ttrain-logloss:0.642845\n",
      "[338]\teval-logloss:0.652978\ttrain-logloss:0.642779\n",
      "[339]\teval-logloss:0.652885\ttrain-logloss:0.642718\n",
      "[340]\teval-logloss:0.652567\ttrain-logloss:0.642524\n",
      "[341]\teval-logloss:0.652545\ttrain-logloss:0.642478\n",
      "[342]\teval-logloss:0.652562\ttrain-logloss:0.642447\n",
      "[343]\teval-logloss:0.652533\ttrain-logloss:0.642418\n",
      "[344]\teval-logloss:0.652392\ttrain-logloss:0.642312\n",
      "[345]\teval-logloss:0.652149\ttrain-logloss:0.642176\n",
      "[346]\teval-logloss:0.652181\ttrain-logloss:0.642089\n",
      "[347]\teval-logloss:0.651997\ttrain-logloss:0.641963\n",
      "[348]\teval-logloss:0.651899\ttrain-logloss:0.641853\n",
      "[349]\teval-logloss:0.651938\ttrain-logloss:0.641768\n",
      "[350]\teval-logloss:0.651864\ttrain-logloss:0.641660\n",
      "[351]\teval-logloss:0.651779\ttrain-logloss:0.641572\n",
      "[352]\teval-logloss:0.651790\ttrain-logloss:0.641511\n",
      "[353]\teval-logloss:0.651802\ttrain-logloss:0.641462\n",
      "[354]\teval-logloss:0.651765\ttrain-logloss:0.641427\n",
      "[355]\teval-logloss:0.651720\ttrain-logloss:0.641367\n",
      "[356]\teval-logloss:0.651708\ttrain-logloss:0.641348\n",
      "[357]\teval-logloss:0.651741\ttrain-logloss:0.641229\n",
      "[358]\teval-logloss:0.651753\ttrain-logloss:0.641212\n",
      "[359]\teval-logloss:0.651728\ttrain-logloss:0.641133\n",
      "[360]\teval-logloss:0.651688\ttrain-logloss:0.641060\n",
      "[361]\teval-logloss:0.651636\ttrain-logloss:0.640995\n",
      "[362]\teval-logloss:0.651479\ttrain-logloss:0.640833\n",
      "[363]\teval-logloss:0.651445\ttrain-logloss:0.640812\n",
      "[364]\teval-logloss:0.651452\ttrain-logloss:0.640762\n",
      "[365]\teval-logloss:0.651491\ttrain-logloss:0.640693\n",
      "[366]\teval-logloss:0.651464\ttrain-logloss:0.640612\n",
      "[367]\teval-logloss:0.651433\ttrain-logloss:0.640588\n",
      "[368]\teval-logloss:0.651430\ttrain-logloss:0.640557\n",
      "[369]\teval-logloss:0.651272\ttrain-logloss:0.640484\n",
      "[370]\teval-logloss:0.651281\ttrain-logloss:0.640407\n",
      "[371]\teval-logloss:0.651256\ttrain-logloss:0.640247\n",
      "[372]\teval-logloss:0.651266\ttrain-logloss:0.640178\n",
      "[373]\teval-logloss:0.651031\ttrain-logloss:0.640027\n",
      "[374]\teval-logloss:0.651020\ttrain-logloss:0.639982\n",
      "[375]\teval-logloss:0.650944\ttrain-logloss:0.639918\n"
     ]
    },
    {
     "ename": "KeyboardInterrupt",
     "evalue": "",
     "output_type": "error",
     "traceback": [
      "\u001b[0;31m---------------------------------------------------------------------------\u001b[0m",
      "\u001b[0;31mKeyboardInterrupt\u001b[0m                         Traceback (most recent call last)",
      "\u001b[0;32m<ipython-input-127-688428de2154>\u001b[0m in \u001b[0;36m<module>\u001b[0;34m()\u001b[0m\n\u001b[1;32m     17\u001b[0m \u001b[0;34m\u001b[0m\u001b[0m\n\u001b[1;32m     18\u001b[0m \u001b[0mevallist\u001b[0m  \u001b[0;34m=\u001b[0m \u001b[0;34m[\u001b[0m\u001b[0;34m(\u001b[0m\u001b[0mdvalid\u001b[0m\u001b[0;34m,\u001b[0m\u001b[0;34m'eval'\u001b[0m\u001b[0;34m)\u001b[0m\u001b[0;34m,\u001b[0m \u001b[0;34m(\u001b[0m\u001b[0mdtrain\u001b[0m\u001b[0;34m,\u001b[0m\u001b[0;34m'train'\u001b[0m\u001b[0;34m)\u001b[0m\u001b[0;34m]\u001b[0m\u001b[0;34m\u001b[0m\u001b[0m\n\u001b[0;32m---> 19\u001b[0;31m \u001b[0mmodel\u001b[0m  \u001b[0;34m=\u001b[0m \u001b[0mxgb\u001b[0m\u001b[0;34m.\u001b[0m\u001b[0mtrain\u001b[0m\u001b[0;34m(\u001b[0m\u001b[0mparams\u001b[0m\u001b[0;34m,\u001b[0m \u001b[0mdtrain\u001b[0m\u001b[0;34m,\u001b[0m \u001b[0mevals\u001b[0m\u001b[0;34m=\u001b[0m\u001b[0mevallist\u001b[0m\u001b[0;34m,\u001b[0m \u001b[0mnum_boost_round\u001b[0m\u001b[0;34m=\u001b[0m\u001b[0mn_round\u001b[0m\u001b[0;34m)\u001b[0m\u001b[0;34m\u001b[0m\u001b[0m\n\u001b[0m",
      "\u001b[0;32m/home/abhishek/anaconda3/lib/python3.5/site-packages/xgboost/training.py\u001b[0m in \u001b[0;36mtrain\u001b[0;34m(params, dtrain, num_boost_round, evals, obj, feval, maximize, early_stopping_rounds, evals_result, verbose_eval, learning_rates, xgb_model)\u001b[0m\n\u001b[1;32m    119\u001b[0m     \u001b[0;32mif\u001b[0m \u001b[0;32mnot\u001b[0m \u001b[0mearly_stopping_rounds\u001b[0m\u001b[0;34m:\u001b[0m\u001b[0;34m\u001b[0m\u001b[0m\n\u001b[1;32m    120\u001b[0m         \u001b[0;32mfor\u001b[0m \u001b[0mi\u001b[0m \u001b[0;32min\u001b[0m \u001b[0mrange\u001b[0m\u001b[0;34m(\u001b[0m\u001b[0mnum_boost_round\u001b[0m\u001b[0;34m)\u001b[0m\u001b[0;34m:\u001b[0m\u001b[0;34m\u001b[0m\u001b[0m\n\u001b[0;32m--> 121\u001b[0;31m             \u001b[0mbst\u001b[0m\u001b[0;34m.\u001b[0m\u001b[0mupdate\u001b[0m\u001b[0;34m(\u001b[0m\u001b[0mdtrain\u001b[0m\u001b[0;34m,\u001b[0m \u001b[0mi\u001b[0m\u001b[0;34m,\u001b[0m \u001b[0mobj\u001b[0m\u001b[0;34m)\u001b[0m\u001b[0;34m\u001b[0m\u001b[0m\n\u001b[0m\u001b[1;32m    122\u001b[0m             \u001b[0mnboost\u001b[0m \u001b[0;34m+=\u001b[0m \u001b[0;36m1\u001b[0m\u001b[0;34m\u001b[0m\u001b[0m\n\u001b[1;32m    123\u001b[0m             \u001b[0;32mif\u001b[0m \u001b[0mlen\u001b[0m\u001b[0;34m(\u001b[0m\u001b[0mevals\u001b[0m\u001b[0;34m)\u001b[0m \u001b[0;34m!=\u001b[0m \u001b[0;36m0\u001b[0m\u001b[0;34m:\u001b[0m\u001b[0;34m\u001b[0m\u001b[0m\n",
      "\u001b[0;32m/home/abhishek/anaconda3/lib/python3.5/site-packages/xgboost/core.py\u001b[0m in \u001b[0;36mupdate\u001b[0;34m(self, dtrain, iteration, fobj)\u001b[0m\n\u001b[1;32m    692\u001b[0m \u001b[0;34m\u001b[0m\u001b[0m\n\u001b[1;32m    693\u001b[0m         \u001b[0;32mif\u001b[0m \u001b[0mfobj\u001b[0m \u001b[0;32mis\u001b[0m \u001b[0;32mNone\u001b[0m\u001b[0;34m:\u001b[0m\u001b[0;34m\u001b[0m\u001b[0m\n\u001b[0;32m--> 694\u001b[0;31m             \u001b[0m_check_call\u001b[0m\u001b[0;34m(\u001b[0m\u001b[0m_LIB\u001b[0m\u001b[0;34m.\u001b[0m\u001b[0mXGBoosterUpdateOneIter\u001b[0m\u001b[0;34m(\u001b[0m\u001b[0mself\u001b[0m\u001b[0;34m.\u001b[0m\u001b[0mhandle\u001b[0m\u001b[0;34m,\u001b[0m \u001b[0miteration\u001b[0m\u001b[0;34m,\u001b[0m \u001b[0mdtrain\u001b[0m\u001b[0;34m.\u001b[0m\u001b[0mhandle\u001b[0m\u001b[0;34m)\u001b[0m\u001b[0;34m)\u001b[0m\u001b[0;34m\u001b[0m\u001b[0m\n\u001b[0m\u001b[1;32m    695\u001b[0m         \u001b[0;32melse\u001b[0m\u001b[0;34m:\u001b[0m\u001b[0;34m\u001b[0m\u001b[0m\n\u001b[1;32m    696\u001b[0m             \u001b[0mpred\u001b[0m \u001b[0;34m=\u001b[0m \u001b[0mself\u001b[0m\u001b[0;34m.\u001b[0m\u001b[0mpredict\u001b[0m\u001b[0;34m(\u001b[0m\u001b[0mdtrain\u001b[0m\u001b[0;34m)\u001b[0m\u001b[0;34m\u001b[0m\u001b[0m\n",
      "\u001b[0;31mKeyboardInterrupt\u001b[0m: "
     ]
    }
   ],
   "source": [
    "n_round = 1000\n",
    "dtrain  = xgb.DMatrix(Xtr, label=ytr)\n",
    "dvalid  = xgb.DMatrix(Xtv, label=ytv)\n",
    "\n",
    "params = {\n",
    "    'eta': 0.2,\n",
    "    'max_depth': 3,\n",
    "    'min_child_weight': 1,\n",
    "    'subsample': 1.0,\n",
    "    'gamma': 1,\n",
    "    'col_sample': 1.0,\n",
    "    'eval_metric': 'logloss',\n",
    "    'objective': 'binary:logistic',\n",
    "    'nthread' : 6,\n",
    "    'silent' : 0\n",
    "}\n",
    "\n",
    "evallist  = [(dvalid,'eval'), (dtrain,'train')]\n",
    "model  = xgb.train(params, dtrain, evals=evallist, num_boost_round=n_round)"
   ]
  },
  {
   "cell_type": "code",
   "execution_count": 93,
   "metadata": {
    "collapsed": false
   },
   "outputs": [],
   "source": [
    "model = xgb.train(params, dtrain, num_boost_round=100)\n",
    "yhat  = model.predict(dvalid)"
   ]
  },
  {
   "cell_type": "code",
   "execution_count": 95,
   "metadata": {
    "collapsed": false
   },
   "outputs": [
    {
     "name": "stdout",
     "output_type": "stream",
     "text": [
      "Log loss on validation set: 9.059946933120955e-06\n"
     ]
    }
   ],
   "source": [
    "print('Log loss on validation set: {}'.format(log_loss(ytv, yhat)))"
   ]
  },
  {
   "cell_type": "markdown",
   "metadata": {},
   "source": [
    "** Training on full dataset **"
   ]
  },
  {
   "cell_type": "code",
   "execution_count": null,
   "metadata": {
    "collapsed": true
   },
   "outputs": [],
   "source": [
    "dfull = xgb.DMatrix(X.loc[:, features[:-1]], y)\n",
    "\n",
    "model = xgb.train(params, dfull, num_boost_round=100)"
   ]
  },
  {
   "cell_type": "markdown",
   "metadata": {},
   "source": [
    "** Submission **"
   ]
  },
  {
   "cell_type": "code",
   "execution_count": 89,
   "metadata": {
    "collapsed": true
   },
   "outputs": [],
   "source": [
    "sub = pd.read_csv('../data/sample_submission.csv')"
   ]
  },
  {
   "cell_type": "code",
   "execution_count": 116,
   "metadata": {
    "collapsed": false
   },
   "outputs": [],
   "source": [
    "first  = sub.id.map(lambda x: x.split('_')[1])\n",
    "second = sub.id.map(lambda x: x.split('_')[2])"
   ]
  },
  {
   "cell_type": "code",
   "execution_count": 137,
   "metadata": {
    "collapsed": false
   },
   "outputs": [
    {
     "data": {
      "text/plain": [
       "0    1103\n",
       "Name: id, dtype: object"
      ]
     },
     "execution_count": 137,
     "metadata": {},
     "output_type": "execute_result"
    }
   ],
   "source": [
    "first.head(1)"
   ]
  },
  {
   "cell_type": "code",
   "execution_count": 138,
   "metadata": {
    "collapsed": false
   },
   "outputs": [
    {
     "data": {
      "text/plain": [
       "0    1107\n",
       "Name: id, dtype: object"
      ]
     },
     "execution_count": 138,
     "metadata": {},
     "output_type": "execute_result"
    }
   ],
   "source": [
    "second.head(1)"
   ]
  },
  {
   "cell_type": "code",
   "execution_count": 141,
   "metadata": {
    "collapsed": false
   },
   "outputs": [
    {
     "data": {
      "text/html": [
       "<div>\n",
       "<table border=\"1\" class=\"dataframe\">\n",
       "  <thead>\n",
       "    <tr style=\"text-align: right;\">\n",
       "      <th></th>\n",
       "      <th>Team1</th>\n",
       "      <th>Team2</th>\n",
       "      <th>Season</th>\n",
       "    </tr>\n",
       "  </thead>\n",
       "  <tbody>\n",
       "  </tbody>\n",
       "</table>\n",
       "</div>"
      ],
      "text/plain": [
       "Empty DataFrame\n",
       "Columns: [Team1, Team2, Season]\n",
       "Index: []"
      ]
     },
     "execution_count": 141,
     "metadata": {},
     "output_type": "execute_result"
    }
   ],
   "source": [
    "Xtest.loc[(Xtest.Team1 == 1103) & (Xtest.Team2 == 1107)]"
   ]
  },
  {
   "cell_type": "code",
   "execution_count": 132,
   "metadata": {
    "collapsed": false
   },
   "outputs": [
    {
     "data": {
      "text/html": [
       "<div>\n",
       "<table border=\"1\" class=\"dataframe\">\n",
       "  <thead>\n",
       "    <tr style=\"text-align: right;\">\n",
       "      <th></th>\n",
       "      <th>Team1</th>\n",
       "      <th>Team2</th>\n",
       "      <th>Season</th>\n",
       "    </tr>\n",
       "  </thead>\n",
       "  <tbody>\n",
       "    <tr>\n",
       "      <th>123897</th>\n",
       "      <td>1103</td>\n",
       "      <td>1157</td>\n",
       "      <td>2013</td>\n",
       "    </tr>\n",
       "    <tr>\n",
       "      <th>124185</th>\n",
       "      <td>1103</td>\n",
       "      <td>1329</td>\n",
       "      <td>2013</td>\n",
       "    </tr>\n",
       "    <tr>\n",
       "      <th>124204</th>\n",
       "      <td>1103</td>\n",
       "      <td>1421</td>\n",
       "      <td>2013</td>\n",
       "    </tr>\n",
       "    <tr>\n",
       "      <th>124326</th>\n",
       "      <td>1103</td>\n",
       "      <td>1336</td>\n",
       "      <td>2013</td>\n",
       "    </tr>\n",
       "    <tr>\n",
       "      <th>124988</th>\n",
       "      <td>1103</td>\n",
       "      <td>1292</td>\n",
       "      <td>2013</td>\n",
       "    </tr>\n",
       "    <tr>\n",
       "      <th>125239</th>\n",
       "      <td>1103</td>\n",
       "      <td>1166</td>\n",
       "      <td>2013</td>\n",
       "    </tr>\n",
       "    <tr>\n",
       "      <th>125323</th>\n",
       "      <td>1103</td>\n",
       "      <td>1178</td>\n",
       "      <td>2013</td>\n",
       "    </tr>\n",
       "    <tr>\n",
       "      <th>125437</th>\n",
       "      <td>1103</td>\n",
       "      <td>1115</td>\n",
       "      <td>2013</td>\n",
       "    </tr>\n",
       "    <tr>\n",
       "      <th>125696</th>\n",
       "      <td>1103</td>\n",
       "      <td>1156</td>\n",
       "      <td>2013</td>\n",
       "    </tr>\n",
       "    <tr>\n",
       "      <th>125720</th>\n",
       "      <td>1103</td>\n",
       "      <td>1411</td>\n",
       "      <td>2013</td>\n",
       "    </tr>\n",
       "    <tr>\n",
       "      <th>125844</th>\n",
       "      <td>1103</td>\n",
       "      <td>1343</td>\n",
       "      <td>2013</td>\n",
       "    </tr>\n",
       "    <tr>\n",
       "      <th>125907</th>\n",
       "      <td>1103</td>\n",
       "      <td>1164</td>\n",
       "      <td>2013</td>\n",
       "    </tr>\n",
       "    <tr>\n",
       "      <th>126219</th>\n",
       "      <td>1103</td>\n",
       "      <td>1444</td>\n",
       "      <td>2013</td>\n",
       "    </tr>\n",
       "    <tr>\n",
       "      <th>126347</th>\n",
       "      <td>1103</td>\n",
       "      <td>1296</td>\n",
       "      <td>2013</td>\n",
       "    </tr>\n",
       "    <tr>\n",
       "      <th>126539</th>\n",
       "      <td>1103</td>\n",
       "      <td>1123</td>\n",
       "      <td>2013</td>\n",
       "    </tr>\n",
       "    <tr>\n",
       "      <th>126667</th>\n",
       "      <td>1103</td>\n",
       "      <td>1245</td>\n",
       "      <td>2013</td>\n",
       "    </tr>\n",
       "    <tr>\n",
       "      <th>126860</th>\n",
       "      <td>1103</td>\n",
       "      <td>1405</td>\n",
       "      <td>2013</td>\n",
       "    </tr>\n",
       "    <tr>\n",
       "      <th>126992</th>\n",
       "      <td>1103</td>\n",
       "      <td>1138</td>\n",
       "      <td>2013</td>\n",
       "    </tr>\n",
       "    <tr>\n",
       "      <th>127181</th>\n",
       "      <td>1103</td>\n",
       "      <td>1132</td>\n",
       "      <td>2013</td>\n",
       "    </tr>\n",
       "    <tr>\n",
       "      <th>127309</th>\n",
       "      <td>1103</td>\n",
       "      <td>1325</td>\n",
       "      <td>2013</td>\n",
       "    </tr>\n",
       "    <tr>\n",
       "      <th>127487</th>\n",
       "      <td>1103</td>\n",
       "      <td>1141</td>\n",
       "      <td>2013</td>\n",
       "    </tr>\n",
       "    <tr>\n",
       "      <th>127630</th>\n",
       "      <td>1103</td>\n",
       "      <td>1275</td>\n",
       "      <td>2013</td>\n",
       "    </tr>\n",
       "    <tr>\n",
       "      <th>127826</th>\n",
       "      <td>1103</td>\n",
       "      <td>1185</td>\n",
       "      <td>2013</td>\n",
       "    </tr>\n",
       "    <tr>\n",
       "      <th>127961</th>\n",
       "      <td>1103</td>\n",
       "      <td>1132</td>\n",
       "      <td>2013</td>\n",
       "    </tr>\n",
       "    <tr>\n",
       "      <th>128260</th>\n",
       "      <td>1103</td>\n",
       "      <td>1295</td>\n",
       "      <td>2013</td>\n",
       "    </tr>\n",
       "    <tr>\n",
       "      <th>128456</th>\n",
       "      <td>1103</td>\n",
       "      <td>1325</td>\n",
       "      <td>2013</td>\n",
       "    </tr>\n",
       "    <tr>\n",
       "      <th>128597</th>\n",
       "      <td>1103</td>\n",
       "      <td>1138</td>\n",
       "      <td>2013</td>\n",
       "    </tr>\n",
       "    <tr>\n",
       "      <th>128759</th>\n",
       "      <td>1103</td>\n",
       "      <td>1275</td>\n",
       "      <td>2013</td>\n",
       "    </tr>\n",
       "    <tr>\n",
       "      <th>128950</th>\n",
       "      <td>1103</td>\n",
       "      <td>1245</td>\n",
       "      <td>2013</td>\n",
       "    </tr>\n",
       "    <tr>\n",
       "      <th>129136</th>\n",
       "      <td>1103</td>\n",
       "      <td>1245</td>\n",
       "      <td>2013</td>\n",
       "    </tr>\n",
       "    <tr>\n",
       "      <th>129178</th>\n",
       "      <td>1103</td>\n",
       "      <td>1325</td>\n",
       "      <td>2013</td>\n",
       "    </tr>\n",
       "  </tbody>\n",
       "</table>\n",
       "</div>"
      ],
      "text/plain": [
       "        Team1  Team2  Season\n",
       "123897   1103   1157    2013\n",
       "124185   1103   1329    2013\n",
       "124204   1103   1421    2013\n",
       "124326   1103   1336    2013\n",
       "124988   1103   1292    2013\n",
       "125239   1103   1166    2013\n",
       "125323   1103   1178    2013\n",
       "125437   1103   1115    2013\n",
       "125696   1103   1156    2013\n",
       "125720   1103   1411    2013\n",
       "125844   1103   1343    2013\n",
       "125907   1103   1164    2013\n",
       "126219   1103   1444    2013\n",
       "126347   1103   1296    2013\n",
       "126539   1103   1123    2013\n",
       "126667   1103   1245    2013\n",
       "126860   1103   1405    2013\n",
       "126992   1103   1138    2013\n",
       "127181   1103   1132    2013\n",
       "127309   1103   1325    2013\n",
       "127487   1103   1141    2013\n",
       "127630   1103   1275    2013\n",
       "127826   1103   1185    2013\n",
       "127961   1103   1132    2013\n",
       "128260   1103   1295    2013\n",
       "128456   1103   1325    2013\n",
       "128597   1103   1138    2013\n",
       "128759   1103   1275    2013\n",
       "128950   1103   1245    2013\n",
       "129136   1103   1245    2013\n",
       "129178   1103   1325    2013"
      ]
     },
     "execution_count": 132,
     "metadata": {},
     "output_type": "execute_result"
    }
   ],
   "source": [
    "Xtest[(Xtest.Team1 == 1103) & (Xtest.Season == 2013)]"
   ]
  },
  {
   "cell_type": "code",
   "execution_count": 120,
   "metadata": {
    "collapsed": false
   },
   "outputs": [
    {
     "data": {
      "text/html": [
       "<div>\n",
       "<table border=\"1\" class=\"dataframe\">\n",
       "  <thead>\n",
       "    <tr style=\"text-align: right;\">\n",
       "      <th></th>\n",
       "      <th>id</th>\n",
       "      <th>pred</th>\n",
       "    </tr>\n",
       "  </thead>\n",
       "  <tbody>\n",
       "    <tr>\n",
       "      <th>0</th>\n",
       "      <td>2013_1103_1107</td>\n",
       "      <td>0.5</td>\n",
       "    </tr>\n",
       "    <tr>\n",
       "      <th>1</th>\n",
       "      <td>2013_1103_1112</td>\n",
       "      <td>0.5</td>\n",
       "    </tr>\n",
       "    <tr>\n",
       "      <th>2</th>\n",
       "      <td>2013_1103_1125</td>\n",
       "      <td>0.5</td>\n",
       "    </tr>\n",
       "    <tr>\n",
       "      <th>3</th>\n",
       "      <td>2013_1103_1129</td>\n",
       "      <td>0.5</td>\n",
       "    </tr>\n",
       "    <tr>\n",
       "      <th>4</th>\n",
       "      <td>2013_1103_1137</td>\n",
       "      <td>0.5</td>\n",
       "    </tr>\n",
       "  </tbody>\n",
       "</table>\n",
       "</div>"
      ],
      "text/plain": [
       "               id  pred\n",
       "0  2013_1103_1107   0.5\n",
       "1  2013_1103_1112   0.5\n",
       "2  2013_1103_1125   0.5\n",
       "3  2013_1103_1129   0.5\n",
       "4  2013_1103_1137   0.5"
      ]
     },
     "execution_count": 120,
     "metadata": {},
     "output_type": "execute_result"
    }
   ],
   "source": [
    "sub.head()"
   ]
  },
  {
   "cell_type": "code",
   "execution_count": 119,
   "metadata": {
    "collapsed": false
   },
   "outputs": [
    {
     "data": {
      "text/plain": [
       "0    1103\n",
       "1    1103\n",
       "2    1103\n",
       "3    1103\n",
       "4    1103\n",
       "Name: id, dtype: object"
      ]
     },
     "execution_count": 119,
     "metadata": {},
     "output_type": "execute_result"
    }
   ],
   "source": [
    "first.head()"
   ]
  },
  {
   "cell_type": "code",
   "execution_count": 118,
   "metadata": {
    "collapsed": false
   },
   "outputs": [
    {
     "data": {
      "text/plain": [
       "0    1107\n",
       "1    1112\n",
       "2    1125\n",
       "3    1129\n",
       "4    1137\n",
       "Name: id, dtype: object"
      ]
     },
     "execution_count": 118,
     "metadata": {},
     "output_type": "execute_result"
    }
   ],
   "source": [
    "second.head()"
   ]
  }
 ],
 "metadata": {
  "kernelspec": {
   "display_name": "Python [Root]",
   "language": "python",
   "name": "Python [Root]"
  },
  "language_info": {
   "codemirror_mode": {
    "name": "ipython",
    "version": 3
   },
   "file_extension": ".py",
   "mimetype": "text/x-python",
   "name": "python",
   "nbconvert_exporter": "python",
   "pygments_lexer": "ipython3",
   "version": "3.5.2"
  }
 },
 "nbformat": 4,
 "nbformat_minor": 0
}
