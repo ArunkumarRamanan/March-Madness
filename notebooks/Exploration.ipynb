{
 "cells": [
  {
   "cell_type": "code",
   "execution_count": 133,
   "metadata": {
    "collapsed": true
   },
   "outputs": [],
   "source": [
    "%matplotlib inline\n",
    "\n",
    "import pandas as pd\n",
    "import numpy as np\n",
    "\n",
    "import matplotlib.pyplot as plt\n",
    "import seaborn as sns\n",
    "\n",
    "from sklearn.metrics import log_loss\n",
    "from sklearn.linear_model import LogisticRegression\n",
    "from sklearn.model_selection import train_test_split\n",
    "from sklearn.ensemble import RandomForestClassifier\n",
    "\n",
    "from collections import Counter\n",
    "from collections import defaultdict\n",
    "\n",
    "import xgboost as xgb\n",
    "\n",
    "pd.set_option('display.max_columns', None)\n",
    "\n",
    "np.random.seed(2131)\n",
    "\n",
    "import warnings\n",
    "warnings.filterwarnings('ignore')\n",
    "\n",
    "%run ../src/season.py"
   ]
  },
  {
   "cell_type": "markdown",
   "metadata": {},
   "source": [
    "** Load data files. **"
   ]
  },
  {
   "cell_type": "code",
   "execution_count": 2,
   "metadata": {
    "collapsed": false
   },
   "outputs": [],
   "source": [
    "teams               = pd.read_csv('../data/Teams.csv')\n",
    "seasons             = pd.read_csv('../data/Seasons.csv')\n",
    "reg_season_compact  = pd.read_csv('../data/RegularSeasonCompactResults.csv')\n",
    "reg_season_detailed = pd.read_csv('../data/RegularSeasonDetailedResults.csv')\n",
    "tourney_compact     = pd.read_csv('../data/TourneyCompactResults.csv')\n",
    "tourney_detailed    = pd.read_csv('../data/TourneyDetailedResults.csv')\n",
    "tourney_seeds       = pd.read_csv('../data/TourneySeeds.csv')\n",
    "tourney_slots       = pd.read_csv('../data/TourneySlots.csv')"
   ]
  },
  {
   "cell_type": "markdown",
   "metadata": {},
   "source": [
    "### Exploratory Data Analysis"
   ]
  },
  {
   "cell_type": "code",
   "execution_count": 3,
   "metadata": {
    "collapsed": true
   },
   "outputs": [],
   "source": [
    "# let's look at a single season (2011) e.g :P\n",
    "reg_season_2011      = reg_season_compact.loc[reg_season_compact.Season == 2011, :]\n",
    "tourney_compact_2011 = tourney_compact.loc[tourney_compact.Season == 2011, :]"
   ]
  },
  {
   "cell_type": "code",
   "execution_count": 4,
   "metadata": {
    "collapsed": false
   },
   "outputs": [
    {
     "data": {
      "text/plain": [
       "Counter({1102: 14,\n",
       "         1103: 22,\n",
       "         1104: 21,\n",
       "         1105: 10,\n",
       "         1106: 15,\n",
       "         1107: 16,\n",
       "         1108: 4,\n",
       "         1110: 22,\n",
       "         1111: 14,\n",
       "         1112: 27,\n",
       "         1113: 12,\n",
       "         1114: 17,\n",
       "         1115: 7,\n",
       "         1116: 18,\n",
       "         1117: 15,\n",
       "         1119: 10,\n",
       "         1120: 10,\n",
       "         1122: 18,\n",
       "         1123: 18,\n",
       "         1124: 17,\n",
       "         1125: 30,\n",
       "         1126: 17,\n",
       "         1127: 8,\n",
       "         1129: 19,\n",
       "         1130: 20,\n",
       "         1131: 21,\n",
       "         1132: 13,\n",
       "         1133: 11,\n",
       "         1135: 10,\n",
       "         1136: 8,\n",
       "         1137: 25,\n",
       "         1138: 17,\n",
       "         1139: 22,\n",
       "         1140: 29,\n",
       "         1141: 9,\n",
       "         1142: 15,\n",
       "         1143: 17,\n",
       "         1144: 11,\n",
       "         1145: 15,\n",
       "         1146: 2,\n",
       "         1147: 1,\n",
       "         1148: 19,\n",
       "         1149: 12,\n",
       "         1150: 10,\n",
       "         1151: 14,\n",
       "         1152: 4,\n",
       "         1153: 25,\n",
       "         1154: 8,\n",
       "         1155: 21,\n",
       "         1156: 24,\n",
       "         1157: 24,\n",
       "         1158: 24,\n",
       "         1159: 7,\n",
       "         1160: 20,\n",
       "         1161: 18,\n",
       "         1162: 14,\n",
       "         1163: 26,\n",
       "         1164: 13,\n",
       "         1165: 10,\n",
       "         1166: 19,\n",
       "         1167: 9,\n",
       "         1168: 10,\n",
       "         1169: 12,\n",
       "         1170: 5,\n",
       "         1171: 5,\n",
       "         1172: 16,\n",
       "         1173: 22,\n",
       "         1174: 14,\n",
       "         1175: 7,\n",
       "         1176: 13,\n",
       "         1177: 7,\n",
       "         1178: 16,\n",
       "         1179: 13,\n",
       "         1180: 21,\n",
       "         1181: 30,\n",
       "         1182: 17,\n",
       "         1183: 7,\n",
       "         1184: 13,\n",
       "         1185: 6,\n",
       "         1186: 8,\n",
       "         1187: 15,\n",
       "         1188: 4,\n",
       "         1189: 11,\n",
       "         1190: 21,\n",
       "         1191: 14,\n",
       "         1192: 5,\n",
       "         1193: 24,\n",
       "         1194: 19,\n",
       "         1195: 10,\n",
       "         1196: 26,\n",
       "         1197: 8,\n",
       "         1198: 9,\n",
       "         1199: 21,\n",
       "         1200: 7,\n",
       "         1201: 13,\n",
       "         1202: 20,\n",
       "         1203: 17,\n",
       "         1204: 2,\n",
       "         1205: 9,\n",
       "         1206: 26,\n",
       "         1207: 21,\n",
       "         1208: 21,\n",
       "         1209: 12,\n",
       "         1210: 13,\n",
       "         1211: 23,\n",
       "         1212: 12,\n",
       "         1214: 23,\n",
       "         1216: 11,\n",
       "         1217: 21,\n",
       "         1218: 17,\n",
       "         1219: 10,\n",
       "         1220: 20,\n",
       "         1221: 8,\n",
       "         1222: 10,\n",
       "         1223: 5,\n",
       "         1224: 6,\n",
       "         1225: 17,\n",
       "         1226: 7,\n",
       "         1227: 6,\n",
       "         1228: 19,\n",
       "         1229: 12,\n",
       "         1231: 12,\n",
       "         1232: 19,\n",
       "         1233: 22,\n",
       "         1234: 11,\n",
       "         1235: 16,\n",
       "         1236: 17,\n",
       "         1237: 17,\n",
       "         1238: 15,\n",
       "         1239: 18,\n",
       "         1240: 4,\n",
       "         1241: 21,\n",
       "         1242: 32,\n",
       "         1243: 21,\n",
       "         1244: 7,\n",
       "         1245: 22,\n",
       "         1246: 25,\n",
       "         1247: 15,\n",
       "         1248: 12,\n",
       "         1249: 9,\n",
       "         1250: 16,\n",
       "         1251: 16,\n",
       "         1252: 16,\n",
       "         1253: 20,\n",
       "         1254: 27,\n",
       "         1255: 8,\n",
       "         1256: 11,\n",
       "         1257: 25,\n",
       "         1258: 9,\n",
       "         1259: 15,\n",
       "         1260: 16,\n",
       "         1261: 11,\n",
       "         1263: 14,\n",
       "         1264: 6,\n",
       "         1265: 6,\n",
       "         1266: 20,\n",
       "         1267: 20,\n",
       "         1268: 19,\n",
       "         1269: 14,\n",
       "         1270: 17,\n",
       "         1271: 7,\n",
       "         1272: 25,\n",
       "         1273: 14,\n",
       "         1274: 19,\n",
       "         1275: 15,\n",
       "         1276: 19,\n",
       "         1277: 18,\n",
       "         1278: 17,\n",
       "         1279: 20,\n",
       "         1280: 17,\n",
       "         1281: 22,\n",
       "         1282: 15,\n",
       "         1283: 25,\n",
       "         1284: 9,\n",
       "         1285: 19,\n",
       "         1286: 11,\n",
       "         1287: 22,\n",
       "         1288: 17,\n",
       "         1290: 13,\n",
       "         1291: 11,\n",
       "         1292: 15,\n",
       "         1293: 21,\n",
       "         1294: 19,\n",
       "         1295: 12,\n",
       "         1296: 8,\n",
       "         1298: 10,\n",
       "         1299: 12,\n",
       "         1300: 11,\n",
       "         1301: 15,\n",
       "         1304: 19,\n",
       "         1305: 12,\n",
       "         1306: 11,\n",
       "         1307: 20,\n",
       "         1308: 14,\n",
       "         1310: 9,\n",
       "         1311: 10,\n",
       "         1312: 11,\n",
       "         1313: 12,\n",
       "         1314: 26,\n",
       "         1315: 15,\n",
       "         1316: 15,\n",
       "         1317: 20,\n",
       "         1318: 11,\n",
       "         1319: 17,\n",
       "         1320: 18,\n",
       "         1321: 18,\n",
       "         1322: 16,\n",
       "         1323: 26,\n",
       "         1324: 24,\n",
       "         1325: 18,\n",
       "         1326: 32,\n",
       "         1328: 14,\n",
       "         1329: 19,\n",
       "         1330: 27,\n",
       "         1331: 19,\n",
       "         1332: 15,\n",
       "         1333: 11,\n",
       "         1334: 14,\n",
       "         1335: 13,\n",
       "         1336: 19,\n",
       "         1337: 11,\n",
       "         1338: 27,\n",
       "         1339: 20,\n",
       "         1340: 13,\n",
       "         1341: 7,\n",
       "         1342: 13,\n",
       "         1343: 24,\n",
       "         1344: 15,\n",
       "         1345: 25,\n",
       "         1346: 22,\n",
       "         1347: 2,\n",
       "         1348: 19,\n",
       "         1349: 12,\n",
       "         1350: 27,\n",
       "         1351: 23,\n",
       "         1352: 18,\n",
       "         1353: 15,\n",
       "         1354: 6,\n",
       "         1355: 17,\n",
       "         1356: 13,\n",
       "         1357: 11,\n",
       "         1358: 14,\n",
       "         1359: 10,\n",
       "         1360: 4,\n",
       "         1361: 30,\n",
       "         1362: 15,\n",
       "         1363: 16,\n",
       "         1364: 16,\n",
       "         1365: 17,\n",
       "         1366: 8,\n",
       "         1367: 5,\n",
       "         1368: 12,\n",
       "         1369: 9,\n",
       "         1370: 11,\n",
       "         1371: 13,\n",
       "         1372: 14,\n",
       "         1373: 13,\n",
       "         1374: 14,\n",
       "         1375: 10,\n",
       "         1376: 14,\n",
       "         1377: 14,\n",
       "         1378: 10,\n",
       "         1379: 19,\n",
       "         1380: 3,\n",
       "         1381: 10,\n",
       "         1382: 16,\n",
       "         1383: 15,\n",
       "         1384: 9,\n",
       "         1385: 21,\n",
       "         1386: 11,\n",
       "         1387: 11,\n",
       "         1388: 23,\n",
       "         1389: 20,\n",
       "         1390: 15,\n",
       "         1391: 8,\n",
       "         1392: 14,\n",
       "         1393: 26,\n",
       "         1394: 7,\n",
       "         1395: 11,\n",
       "         1396: 25,\n",
       "         1397: 19,\n",
       "         1398: 12,\n",
       "         1399: 17,\n",
       "         1400: 27,\n",
       "         1401: 23,\n",
       "         1402: 14,\n",
       "         1403: 13,\n",
       "         1404: 10,\n",
       "         1405: 3,\n",
       "         1406: 4,\n",
       "         1407: 7,\n",
       "         1408: 10,\n",
       "         1409: 19,\n",
       "         1410: 3,\n",
       "         1411: 19,\n",
       "         1412: 22,\n",
       "         1413: 8,\n",
       "         1414: 12,\n",
       "         1415: 10,\n",
       "         1416: 18,\n",
       "         1417: 22,\n",
       "         1418: 13,\n",
       "         1419: 5,\n",
       "         1420: 5,\n",
       "         1421: 16,\n",
       "         1422: 7,\n",
       "         1423: 13,\n",
       "         1424: 24,\n",
       "         1425: 19,\n",
       "         1426: 9,\n",
       "         1427: 16,\n",
       "         1428: 12,\n",
       "         1429: 29,\n",
       "         1430: 15,\n",
       "         1431: 24,\n",
       "         1433: 23,\n",
       "         1434: 21,\n",
       "         1435: 23,\n",
       "         1436: 23,\n",
       "         1437: 21,\n",
       "         1438: 16,\n",
       "         1439: 21,\n",
       "         1440: 14,\n",
       "         1441: 17,\n",
       "         1442: 4,\n",
       "         1443: 16,\n",
       "         1444: 19,\n",
       "         1447: 13,\n",
       "         1448: 8,\n",
       "         1449: 23,\n",
       "         1450: 19,\n",
       "         1451: 15,\n",
       "         1452: 20,\n",
       "         1453: 13,\n",
       "         1454: 19,\n",
       "         1455: 23,\n",
       "         1456: 9,\n",
       "         1457: 11,\n",
       "         1458: 23,\n",
       "         1459: 21,\n",
       "         1460: 17,\n",
       "         1461: 8,\n",
       "         1462: 24,\n",
       "         1463: 14,\n",
       "         1464: 7})"
      ]
     },
     "execution_count": 4,
     "metadata": {},
     "output_type": "execute_result"
    }
   ],
   "source": [
    "Counter(reg_season_2011.Wteam)"
   ]
  },
  {
   "cell_type": "markdown",
   "metadata": {},
   "source": [
    "** Class representing season statistics **"
   ]
  },
  {
   "cell_type": "code",
   "execution_count": 121,
   "metadata": {
    "collapsed": true
   },
   "outputs": [],
   "source": [
    "class SeasonStats:\n",
    "    def __init__(self, data):\n",
    "        self.data = data\n",
    "    \n",
    "    @staticmethod\n",
    "    def get_total_teams(wins_dict, loss_dict):\n",
    "        return set(list(wins_dict.keys()) + list(loss_dict.keys()))\n",
    "    \n",
    "    def get_total_points(self):\n",
    "        wteam_points = self.data.groupby('Wteam')['Wscore'].sum()\n",
    "        lteam_points = self.data.groupby('Lteam')['Lscore'].sum()\n",
    "        \n",
    "        return wteam_points + lteam_points # pandas series\n",
    "    \n",
    "    def get_field_goals_attempt_ratio(self):\n",
    "        wfgm = self.data.groupby('Wteam')['Wfgm'].sum()\n",
    "        lfgm = self.data.groupby('Lteam')['Lfgm'].sum()\n",
    "        \n",
    "        wfga = self.data.groupby('Wteam')['Wfga'].sum()\n",
    "        lfga = self.data.groupby('Lteam')['Lfga'].sum()\n",
    "        \n",
    "        return (wfgm + lfgm) / (wfga + lfga) # pandas series\n",
    "    \n",
    "    def get_off_rebounds(self):\n",
    "        wor = self.data.groupby('Wteam')['Wor'].sum()\n",
    "        lor = self.data.groupby('Lteam')['Lor'].sum()\n",
    "        \n",
    "        return wor + lor\n",
    "    \n",
    "    def get_def_rebounds(self):\n",
    "        wdr = self.data.groupby('Wteam')['Wdr'].sum()\n",
    "        ldr = self.data.groupby('Lteam')['Ldr'].sum()\n",
    "        \n",
    "        return wdr + ldr\n",
    "    \n",
    "    def winning_margin(self):\n",
    "        w_margin = self.data.groupby('Wteam')[['Wscore', 'Lscore']]\\\n",
    "                      .apply(lambda x: (x['Wscore'] - x['Lscore']).sum())\n",
    "        return w_margin\n",
    "    \n",
    "    def loss_margin(self):\n",
    "        l_margin = self.data.groupby('Lteam')[['Wscore', 'Lscore']]\\\n",
    "                       .apply(lambda x: (x['Lscore'] - x['Wscore']).sum())\n",
    "        \n",
    "        return l_margin\n",
    "    \n",
    "    def number_of_home_wins(self):\n",
    "        return self.data.groupby('Wteam')[['Wloc']]\\\n",
    "                   .apply(lambda x: (x['Wloc'] == 'H').sum())\n",
    "    \n",
    "    def number_of_away_wins(self):\n",
    "        return self.data.groupby('Wteam')[['Wloc']]\\\n",
    "                   .apply(lambda x: (x['Wloc'] == 'A').sum())\n",
    "    \n",
    "    def get_three_pointer_ratio(self):\n",
    "        wfgm3 = self.data.groupby('Wteam')['Wfgm3'].sum()\n",
    "        lfgm3 = self.data.groupby('Lteam')['Lfgm3'].sum()\n",
    "        \n",
    "        wfga3 = self.data.groupby('Wteam')['Wfga3'].sum()\n",
    "        lfga3 = self.data.groupby('Lteam')['Lfga3'].sum()\n",
    "        \n",
    "        return (wfgm3 + lfgm3) / (wfga3 + lfga3) # pandas series\n",
    "    \n",
    "    def get_leaderboard(self):\n",
    "        wins_dict = Counter(self.data.Wteam)\n",
    "        loss_dict = Counter(self.data.Lteam)\n",
    "        \n",
    "        total_teams = SeasonStats.get_total_teams(wins_dict, loss_dict)\n",
    "        \n",
    "        leaderboard = defaultdict(list)\n",
    "        \n",
    "        for team in total_teams:\n",
    "            num_wins = wins_dict[team] if team in wins_dict else 0\n",
    "            num_loss = loss_dict[team] if team in loss_dict else 0\n",
    "            \n",
    "            leaderboard[team] = [num_wins, num_loss]\n",
    "        \n",
    "        self.leaderboard = leaderboard\n",
    "        \n",
    "        return self.leaderboard\n",
    "    \n",
    "    def sort_leaderboard(self, leaderboard):\n",
    "        return np.array(sorted(leaderboard, \n",
    "                      key=lambda x: leaderboard[x][0] - leaderboard[x][1], \n",
    "                      reverse=True))\n",
    "    \n",
    "    def top_n_teams(self, sorted_leaderboard, n):\n",
    "        return sorted_leaderboard[:n]"
   ]
  },
  {
   "cell_type": "code",
   "execution_count": 35,
   "metadata": {
    "collapsed": true
   },
   "outputs": [],
   "source": [
    "reg_season_2003 = reg_season_detailed.loc[reg_season_detailed.Season == 2003, :]\n",
    "tourney_2003    = tourney_detailed.loc[tourney_detailed.Season == 2003, :]"
   ]
  },
  {
   "cell_type": "code",
   "execution_count": 122,
   "metadata": {
    "collapsed": false
   },
   "outputs": [],
   "source": [
    "reg_season_stats    = SeasonStats(reg_season_2003)\n",
    "leaderboard         = reg_season_stats.get_leaderboard()\n",
    "sorted_leaderboard  = reg_season_stats.sort_leaderboard(leaderboard)\n",
    "top_32_teams        = reg_season_stats.top_n_teams(sorted_leaderboard, 32)\n",
    "total_points        = reg_season_stats.get_total_points()\n",
    "field_goals_ratio   = reg_season_stats.get_field_goals_attempt_ratio()\n",
    "three_pointer_ratio = reg_season_stats.get_three_pointer_ratio()\n",
    "home_wins           = reg_season_stats.number_of_home_wins()\n",
    "away_wins           = reg_season_stats.number_of_away_wins()\n",
    "off_rebounds        = reg_season_stats.get_off_rebounds()\n",
    "def_rebounds        = reg_season_stats.get_def_rebounds()\n",
    "w_margin            = reg_season_stats.winning_margin()\n",
    "l_margin            = reg_season_stats.loss_margin()"
   ]
  },
  {
   "cell_type": "code",
   "execution_count": 78,
   "metadata": {
    "collapsed": false
   },
   "outputs": [
    {
     "data": {
      "text/html": [
       "<div>\n",
       "<table border=\"1\" class=\"dataframe\">\n",
       "  <thead>\n",
       "    <tr style=\"text-align: right;\">\n",
       "      <th></th>\n",
       "      <th>Season</th>\n",
       "      <th>Daynum</th>\n",
       "      <th>Wteam</th>\n",
       "      <th>Wscore</th>\n",
       "      <th>Lteam</th>\n",
       "      <th>Lscore</th>\n",
       "      <th>Wloc</th>\n",
       "      <th>Numot</th>\n",
       "      <th>Wfgm</th>\n",
       "      <th>Wfga</th>\n",
       "      <th>Wfgm3</th>\n",
       "      <th>Wfga3</th>\n",
       "      <th>Wftm</th>\n",
       "      <th>Wfta</th>\n",
       "      <th>Wor</th>\n",
       "      <th>Wdr</th>\n",
       "      <th>Wast</th>\n",
       "      <th>Wto</th>\n",
       "      <th>Wstl</th>\n",
       "      <th>Wblk</th>\n",
       "      <th>Wpf</th>\n",
       "      <th>Lfgm</th>\n",
       "      <th>Lfga</th>\n",
       "      <th>Lfgm3</th>\n",
       "      <th>Lfga3</th>\n",
       "      <th>Lftm</th>\n",
       "      <th>Lfta</th>\n",
       "      <th>Lor</th>\n",
       "      <th>Ldr</th>\n",
       "      <th>Last</th>\n",
       "      <th>Lto</th>\n",
       "      <th>Lstl</th>\n",
       "      <th>Lblk</th>\n",
       "      <th>Lpf</th>\n",
       "    </tr>\n",
       "  </thead>\n",
       "  <tbody>\n",
       "    <tr>\n",
       "      <th>0</th>\n",
       "      <td>2003</td>\n",
       "      <td>134</td>\n",
       "      <td>1421</td>\n",
       "      <td>92</td>\n",
       "      <td>1411</td>\n",
       "      <td>84</td>\n",
       "      <td>N</td>\n",
       "      <td>1</td>\n",
       "      <td>32</td>\n",
       "      <td>69</td>\n",
       "      <td>11</td>\n",
       "      <td>29</td>\n",
       "      <td>17</td>\n",
       "      <td>26</td>\n",
       "      <td>14</td>\n",
       "      <td>30</td>\n",
       "      <td>17</td>\n",
       "      <td>12</td>\n",
       "      <td>5</td>\n",
       "      <td>3</td>\n",
       "      <td>22</td>\n",
       "      <td>29</td>\n",
       "      <td>67</td>\n",
       "      <td>12</td>\n",
       "      <td>31</td>\n",
       "      <td>14</td>\n",
       "      <td>31</td>\n",
       "      <td>17</td>\n",
       "      <td>28</td>\n",
       "      <td>16</td>\n",
       "      <td>15</td>\n",
       "      <td>5</td>\n",
       "      <td>0</td>\n",
       "      <td>22</td>\n",
       "    </tr>\n",
       "    <tr>\n",
       "      <th>1</th>\n",
       "      <td>2003</td>\n",
       "      <td>136</td>\n",
       "      <td>1112</td>\n",
       "      <td>80</td>\n",
       "      <td>1436</td>\n",
       "      <td>51</td>\n",
       "      <td>N</td>\n",
       "      <td>0</td>\n",
       "      <td>31</td>\n",
       "      <td>66</td>\n",
       "      <td>7</td>\n",
       "      <td>23</td>\n",
       "      <td>11</td>\n",
       "      <td>14</td>\n",
       "      <td>11</td>\n",
       "      <td>36</td>\n",
       "      <td>22</td>\n",
       "      <td>16</td>\n",
       "      <td>10</td>\n",
       "      <td>7</td>\n",
       "      <td>8</td>\n",
       "      <td>20</td>\n",
       "      <td>64</td>\n",
       "      <td>4</td>\n",
       "      <td>16</td>\n",
       "      <td>7</td>\n",
       "      <td>7</td>\n",
       "      <td>8</td>\n",
       "      <td>26</td>\n",
       "      <td>12</td>\n",
       "      <td>17</td>\n",
       "      <td>10</td>\n",
       "      <td>3</td>\n",
       "      <td>15</td>\n",
       "    </tr>\n",
       "    <tr>\n",
       "      <th>2</th>\n",
       "      <td>2003</td>\n",
       "      <td>136</td>\n",
       "      <td>1113</td>\n",
       "      <td>84</td>\n",
       "      <td>1272</td>\n",
       "      <td>71</td>\n",
       "      <td>N</td>\n",
       "      <td>0</td>\n",
       "      <td>31</td>\n",
       "      <td>59</td>\n",
       "      <td>6</td>\n",
       "      <td>14</td>\n",
       "      <td>16</td>\n",
       "      <td>22</td>\n",
       "      <td>10</td>\n",
       "      <td>27</td>\n",
       "      <td>18</td>\n",
       "      <td>9</td>\n",
       "      <td>7</td>\n",
       "      <td>4</td>\n",
       "      <td>19</td>\n",
       "      <td>25</td>\n",
       "      <td>69</td>\n",
       "      <td>7</td>\n",
       "      <td>28</td>\n",
       "      <td>14</td>\n",
       "      <td>21</td>\n",
       "      <td>20</td>\n",
       "      <td>22</td>\n",
       "      <td>11</td>\n",
       "      <td>12</td>\n",
       "      <td>2</td>\n",
       "      <td>5</td>\n",
       "      <td>18</td>\n",
       "    </tr>\n",
       "    <tr>\n",
       "      <th>3</th>\n",
       "      <td>2003</td>\n",
       "      <td>136</td>\n",
       "      <td>1141</td>\n",
       "      <td>79</td>\n",
       "      <td>1166</td>\n",
       "      <td>73</td>\n",
       "      <td>N</td>\n",
       "      <td>0</td>\n",
       "      <td>29</td>\n",
       "      <td>53</td>\n",
       "      <td>3</td>\n",
       "      <td>7</td>\n",
       "      <td>18</td>\n",
       "      <td>25</td>\n",
       "      <td>11</td>\n",
       "      <td>20</td>\n",
       "      <td>15</td>\n",
       "      <td>18</td>\n",
       "      <td>13</td>\n",
       "      <td>1</td>\n",
       "      <td>19</td>\n",
       "      <td>27</td>\n",
       "      <td>60</td>\n",
       "      <td>7</td>\n",
       "      <td>17</td>\n",
       "      <td>12</td>\n",
       "      <td>17</td>\n",
       "      <td>14</td>\n",
       "      <td>17</td>\n",
       "      <td>20</td>\n",
       "      <td>21</td>\n",
       "      <td>6</td>\n",
       "      <td>6</td>\n",
       "      <td>21</td>\n",
       "    </tr>\n",
       "    <tr>\n",
       "      <th>4</th>\n",
       "      <td>2003</td>\n",
       "      <td>136</td>\n",
       "      <td>1143</td>\n",
       "      <td>76</td>\n",
       "      <td>1301</td>\n",
       "      <td>74</td>\n",
       "      <td>N</td>\n",
       "      <td>1</td>\n",
       "      <td>27</td>\n",
       "      <td>64</td>\n",
       "      <td>7</td>\n",
       "      <td>20</td>\n",
       "      <td>15</td>\n",
       "      <td>23</td>\n",
       "      <td>18</td>\n",
       "      <td>20</td>\n",
       "      <td>17</td>\n",
       "      <td>13</td>\n",
       "      <td>8</td>\n",
       "      <td>2</td>\n",
       "      <td>14</td>\n",
       "      <td>25</td>\n",
       "      <td>56</td>\n",
       "      <td>9</td>\n",
       "      <td>21</td>\n",
       "      <td>15</td>\n",
       "      <td>20</td>\n",
       "      <td>10</td>\n",
       "      <td>26</td>\n",
       "      <td>16</td>\n",
       "      <td>14</td>\n",
       "      <td>5</td>\n",
       "      <td>8</td>\n",
       "      <td>19</td>\n",
       "    </tr>\n",
       "  </tbody>\n",
       "</table>\n",
       "</div>"
      ],
      "text/plain": [
       "   Season  Daynum  Wteam  Wscore  Lteam  Lscore Wloc  Numot  Wfgm  Wfga  \\\n",
       "0    2003     134   1421      92   1411      84    N      1    32    69   \n",
       "1    2003     136   1112      80   1436      51    N      0    31    66   \n",
       "2    2003     136   1113      84   1272      71    N      0    31    59   \n",
       "3    2003     136   1141      79   1166      73    N      0    29    53   \n",
       "4    2003     136   1143      76   1301      74    N      1    27    64   \n",
       "\n",
       "   Wfgm3  Wfga3  Wftm  Wfta  Wor  Wdr  Wast  Wto  Wstl  Wblk  Wpf  Lfgm  Lfga  \\\n",
       "0     11     29    17    26   14   30    17   12     5     3   22    29    67   \n",
       "1      7     23    11    14   11   36    22   16    10     7    8    20    64   \n",
       "2      6     14    16    22   10   27    18    9     7     4   19    25    69   \n",
       "3      3      7    18    25   11   20    15   18    13     1   19    27    60   \n",
       "4      7     20    15    23   18   20    17   13     8     2   14    25    56   \n",
       "\n",
       "   Lfgm3  Lfga3  Lftm  Lfta  Lor  Ldr  Last  Lto  Lstl  Lblk  Lpf  \n",
       "0     12     31    14    31   17   28    16   15     5     0   22  \n",
       "1      4     16     7     7    8   26    12   17    10     3   15  \n",
       "2      7     28    14    21   20   22    11   12     2     5   18  \n",
       "3      7     17    12    17   14   17    20   21     6     6   21  \n",
       "4      9     21    15    20   10   26    16   14     5     8   19  "
      ]
     },
     "execution_count": 78,
     "metadata": {},
     "output_type": "execute_result"
    }
   ],
   "source": [
    "tourney_detailed.head()"
   ]
  },
  {
   "cell_type": "code",
   "execution_count": 123,
   "metadata": {
    "collapsed": false
   },
   "outputs": [],
   "source": [
    "tourney_stats               = SeasonStats(tourney_2003)\n",
    "tourney_leaderboard         = tourney_stats.get_leaderboard()\n",
    "sorted_tourney_leaderboard  = tourney_stats.sort_leaderboard(tourney_leaderboard)"
   ]
  },
  {
   "cell_type": "markdown",
   "metadata": {},
   "source": [
    "** Hypothesis - 1 **\n",
    "- In tournament for every match team that has higher rank after regular season would win over the other."
   ]
  },
  {
   "cell_type": "code",
   "execution_count": 31,
   "metadata": {
    "collapsed": true
   },
   "outputs": [],
   "source": [
    "def get_actual_outcome(tournament_matchups, sorted_leaderboard):\n",
    "    return np.array([1 if wteam < lteam else 0 for wteam, lteam in tournament_matchups.values ])"
   ]
  },
  {
   "cell_type": "code",
   "execution_count": 60,
   "metadata": {
    "collapsed": false
   },
   "outputs": [],
   "source": [
    "def league_rank_effect(tournament_matchups, sorted_leaderboard):\n",
    "    predicted_outcome = []\n",
    "    \n",
    "    for wteam, lteam in tournament_matchups.values:\n",
    "        wteam_league_rank = np.where(sorted_leaderboard == wteam)[0][0]\n",
    "        lteam_league_rank = np.where(sorted_leaderboard == lteam)[0][0]\n",
    "        \n",
    "        if wteam_league_rank < lteam_league_rank: # lower rank is actually better\n",
    "            predicted_outcome.append(1)\n",
    "        else:\n",
    "            predicted_outcome.append(0)\n",
    "        \n",
    "    predicted_outcome = np.array(predicted_outcome)\n",
    "    return predicted_outcome"
   ]
  },
  {
   "cell_type": "code",
   "execution_count": 61,
   "metadata": {
    "collapsed": true
   },
   "outputs": [],
   "source": [
    "def get_diff_in_league_ranks(tournament_matchups, sorted_leaderboard):\n",
    "    diff_in_league_ranks = []\n",
    "    \n",
    "    for wteam, lteam in tournament_matchups.values:\n",
    "        wteam_league_rank = np.where(sorted_leaderboard == wteam)[0][0]\n",
    "        lteam_league_rank = np.where(sorted_leaderboard == lteam)[0][0]\n",
    "            \n",
    "        diff_in_league_ranks.append(wteam_league_rank - lteam_league_rank)\n",
    "    \n",
    "    return np.array(diff_in_league_ranks)"
   ]
  },
  {
   "cell_type": "code",
   "execution_count": 131,
   "metadata": {
    "collapsed": true
   },
   "outputs": [],
   "source": [
    "actual_outcome = get_actual_outcome(tourney_compact_2011[['Wteam', 'Lteam']],\n",
    "                                    sorted_leaderboard\n",
    "                                   )"
   ]
  },
  {
   "cell_type": "code",
   "execution_count": 109,
   "metadata": {
    "collapsed": false
   },
   "outputs": [
    {
     "name": "stdout",
     "output_type": "stream",
     "text": [
      "Success rate: 0.6119402985074627\n"
     ]
    }
   ],
   "source": [
    "predicted_outcome = league_rank_effect(tourney_compact_2011[['Wteam', 'Lteam']], \n",
    "                                       sorted_leaderboard)\n",
    "print('Success rate: {}'.format(np.sum(predicted_outcome) / len(predicted_outcome)))"
   ]
  },
  {
   "cell_type": "code",
   "execution_count": 99,
   "metadata": {
    "collapsed": false
   },
   "outputs": [
    {
     "name": "stdout",
     "output_type": "stream",
     "text": [
      "[  20   -7  -44  -71   37  -78  -30    2 -128  -26   55    7   17 -139  -38\n",
      "  -77 -101  -76   19   38  -21  -29   20  -60   69  -86   75  -19   10  -50\n",
      " -147  -74  -84  -21   -3  -15   38  -37    1  -38  -57  -34  -19  -19   -4\n",
      " -101   45 -101   85  -35  -10   35    6    5   22   10  -13   25  -86   -2\n",
      "   30   14    9   55   -9   -2  -22]\n"
     ]
    }
   ],
   "source": [
    "diff_in_league_ranks = get_diff_in_league_ranks(tourney_compact_2011[['Wteam', 'Lteam']],\n",
    "                                                sorted_leaderboard)\n",
    "\n",
    "print(diff_in_league_ranks)"
   ]
  },
  {
   "cell_type": "markdown",
   "metadata": {},
   "source": [
    "** As we can see 61% of the time team with lower rank wins over the other. **"
   ]
  },
  {
   "cell_type": "code",
   "execution_count": 111,
   "metadata": {
    "collapsed": false
   },
   "outputs": [
    {
     "data": {
      "image/png": "[encoded data removed]",
      "text/plain": [
       "<matplotlib.figure.Figure at 0x7f8eec88ee10>"
      ]
     },
     "metadata": {},
     "output_type": "display_data"
    }
   ],
   "source": [
    "plt.scatter(diff_in_league_ranks, actual_outcome);"
   ]
  },
  {
   "cell_type": "markdown",
   "metadata": {},
   "source": [
    "** Basic Logistic Regression Model **"
   ]
  },
  {
   "cell_type": "code",
   "execution_count": 123,
   "metadata": {
    "collapsed": true
   },
   "outputs": [],
   "source": [
    "X = diff_in_league_ranks.reshape(-1, 1)\n",
    "y = actual_outcome"
   ]
  },
  {
   "cell_type": "code",
   "execution_count": 124,
   "metadata": {
    "collapsed": false
   },
   "outputs": [],
   "source": [
    "log = LogisticRegression(C=.1)\n",
    "log.fit(X, y)\n",
    "predicted_probs = log.predict_proba(X)[:, 1]"
   ]
  },
  {
   "cell_type": "code",
   "execution_count": 125,
   "metadata": {
    "collapsed": false
   },
   "outputs": [
    {
     "data": {
      "image/png": "[encoded data removed]",
      "text/plain": [
       "<matplotlib.figure.Figure at 0x7f8eec88e128>"
      ]
     },
     "metadata": {},
     "output_type": "display_data"
    }
   ],
   "source": [
    "plt.scatter(diff_in_league_ranks, actual_outcome)\n",
    "plt.plot(diff_in_league_ranks, predicted_probs, 'r');"
   ]
  },
  {
   "cell_type": "markdown",
   "metadata": {},
   "source": [
    "** Split into train and test set **"
   ]
  },
  {
   "cell_type": "code",
   "execution_count": 126,
   "metadata": {
    "collapsed": true
   },
   "outputs": [],
   "source": [
    "Xtr, Xtv, ytr, ytv =  train_test_split(X, y, test_size=.2, random_state=12311)"
   ]
  },
  {
   "cell_type": "code",
   "execution_count": 127,
   "metadata": {
    "collapsed": false
   },
   "outputs": [
    {
     "name": "stdout",
     "output_type": "stream",
     "text": [
      "Log-loss score on the validation set: 0.7027375130625296\n"
     ]
    }
   ],
   "source": [
    "log.fit(Xtr, ytr)\n",
    "yhat = log.predict_proba(Xtv)\n",
    "print('Log-loss score on the validation set: {}'.format(log_loss(ytv, yhat)))"
   ]
  },
  {
   "cell_type": "markdown",
   "metadata": {},
   "source": [
    "** Hypothesis - 2 **\n",
    "\n",
    "If a team is one of the top-32 teams from regular divisions then it has high chance of winning"
   ]
  },
  {
   "cell_type": "code",
   "execution_count": 62,
   "metadata": {
    "collapsed": true
   },
   "outputs": [],
   "source": [
    "def top_32_team_effect(tournament_matchups, sorted_leaderboard):\n",
    "    top_32_flag = []\n",
    "    \n",
    "    for wteam, lteam in tournament_matchups.values:\n",
    "        wteam_league_rank = np.where(sorted_leaderboard == wteam)[0][0]\n",
    "        lteam_league_rank = np.where(sorted_leaderboard == lteam)[0][0]\n",
    "        \n",
    "        top_32_flag.append([int(wteam_league_rank < 32),\n",
    "                                  int(lteam_league_rank < 32)\n",
    "                                 ])\n",
    "    \n",
    "    top_32_flag = np.array(top_32_flag)\n",
    "    return top_32_flag"
   ]
  },
  {
   "cell_type": "code",
   "execution_count": 140,
   "metadata": {
    "collapsed": false
   },
   "outputs": [],
   "source": [
    "top_32_flag = top_32_team_effect(tourney_compact_2011[['Wteam', 'Lteam']],\n",
    "                                 sorted_leaderboard\n",
    "                                )"
   ]
  },
  {
   "cell_type": "code",
   "execution_count": 142,
   "metadata": {
    "collapsed": false
   },
   "outputs": [],
   "source": [
    "X = top_32_flag\n",
    "y = actual_outcome"
   ]
  },
  {
   "cell_type": "code",
   "execution_count": 143,
   "metadata": {
    "collapsed": true
   },
   "outputs": [],
   "source": [
    "Xtr, Xtv, ytr, ytv =  train_test_split(X, y, test_size=.2, random_state=12311)"
   ]
  },
  {
   "cell_type": "code",
   "execution_count": 144,
   "metadata": {
    "collapsed": false
   },
   "outputs": [
    {
     "name": "stdout",
     "output_type": "stream",
     "text": [
      "Log-loss score on the validation set: 0.6975540288580674\n"
     ]
    }
   ],
   "source": [
    "log = LogisticRegression()\n",
    "log.fit(Xtr, ytr)\n",
    "yhat = log.predict_proba(Xtv)\n",
    "print('Log-loss score on the validation set: {}'.format(log_loss(ytv, yhat)))"
   ]
  },
  {
   "cell_type": "code",
   "execution_count": 147,
   "metadata": {
    "collapsed": false
   },
   "outputs": [
    {
     "name": "stdout",
     "output_type": "stream",
     "text": [
      "Log-loss score on the validation set: 0.6880518988356671\n"
     ]
    }
   ],
   "source": [
    "rf = RandomForestClassifier(n_estimators=50, max_depth=3, n_jobs=-1)\n",
    "rf.fit(Xtr, ytr)\n",
    "yhat = rf.predict_proba(Xtv)\n",
    "print('Log-loss score on the validation set: {}'.format(log_loss(ytv, yhat)))"
   ]
  },
  {
   "cell_type": "markdown",
   "metadata": {},
   "source": [
    "** Hypothesis - 3 **\n",
    "\n",
    "Total points scored in regular season has an impact on the NCAA tournament"
   ]
  },
  {
   "cell_type": "code",
   "execution_count": 63,
   "metadata": {
    "collapsed": true
   },
   "outputs": [],
   "source": [
    "def total_points_effect(tournament_matchups, total_points):\n",
    "    points = []\n",
    "    \n",
    "    for wteam, lteam in tournament_matchups.values:\n",
    "        wteam_points      = total_points.ix[wteam]\n",
    "        lteam_points      = total_points.ix[lteam]\n",
    "        \n",
    "        points.append([wteam_points, lteam_points])\n",
    "    \n",
    "    points = np.array(points)\n",
    "    return points"
   ]
  },
  {
   "cell_type": "code",
   "execution_count": 170,
   "metadata": {
    "collapsed": true
   },
   "outputs": [],
   "source": [
    "points = total_points_effect(tourney_compact_2011[['Wteam', 'Lteam']],\n",
    "                             total_points\n",
    "                            )"
   ]
  },
  {
   "cell_type": "code",
   "execution_count": 172,
   "metadata": {
    "collapsed": false
   },
   "outputs": [],
   "source": [
    "X = points\n",
    "y = actual_outcome"
   ]
  },
  {
   "cell_type": "code",
   "execution_count": 173,
   "metadata": {
    "collapsed": true
   },
   "outputs": [],
   "source": [
    "Xtr, Xtv, ytr, ytv =  train_test_split(X, y, test_size=.2, random_state=12311)"
   ]
  },
  {
   "cell_type": "code",
   "execution_count": 174,
   "metadata": {
    "collapsed": false
   },
   "outputs": [
    {
     "name": "stdout",
     "output_type": "stream",
     "text": [
      "Log-loss score on the validation set: 0.710631017657268\n"
     ]
    }
   ],
   "source": [
    "log = LogisticRegression()\n",
    "log.fit(Xtr, ytr)\n",
    "yhat = log.predict_proba(Xtv)\n",
    "print('Log-loss score on the validation set: {}'.format(log_loss(ytv, yhat)))"
   ]
  },
  {
   "cell_type": "code",
   "execution_count": 175,
   "metadata": {
    "collapsed": false
   },
   "outputs": [
    {
     "name": "stdout",
     "output_type": "stream",
     "text": [
      "Log-loss score on the validation set: 0.5742303721724253\n"
     ]
    }
   ],
   "source": [
    "rf = RandomForestClassifier(n_estimators=50, max_depth=3, n_jobs=-1)\n",
    "rf.fit(Xtr, ytr)\n",
    "yhat = rf.predict_proba(Xtv)\n",
    "print('Log-loss score on the validation set: {}'.format(log_loss(ytv, yhat)))"
   ]
  },
  {
   "cell_type": "markdown",
   "metadata": {},
   "source": [
    "** Hypothesis - 4 **\n",
    "\n",
    "Field goals made and field goals attempted in regular season will make an impact."
   ]
  },
  {
   "cell_type": "code",
   "execution_count": 64,
   "metadata": {
    "collapsed": true
   },
   "outputs": [],
   "source": [
    "def attempt_ratio_effect(tournament_matchups, attempt_ratios):\n",
    "    ratios = []\n",
    "    \n",
    "    for wteam, lteam in tournament_matchups.values:\n",
    "        wteam_attempt_ratio      = attempt_ratios.ix[wteam]\n",
    "        lteam_attempt_ratio      = attempt_ratios.ix[lteam]\n",
    "        \n",
    "        ratios.append([wteam_attempt_ratio, lteam_attempt_ratio])\n",
    "    \n",
    "    ratios = np.array(ratios)\n",
    "    return ratios"
   ]
  },
  {
   "cell_type": "code",
   "execution_count": 64,
   "metadata": {
    "collapsed": false
   },
   "outputs": [],
   "source": [
    "attempt_ratios = attempt_ratio_effect(tourney_2003[['Wteam', 'Lteam']],\n",
    "                             field_goals_ratio\n",
    "                            )"
   ]
  },
  {
   "cell_type": "code",
   "execution_count": 65,
   "metadata": {
    "collapsed": true
   },
   "outputs": [],
   "source": [
    "actual_outcome = get_actual_outcome(tourney_2003[['Wteam', 'Lteam']],\n",
    "                                    sorted_leaderboard\n",
    "                                   )"
   ]
  },
  {
   "cell_type": "code",
   "execution_count": 67,
   "metadata": {
    "collapsed": false
   },
   "outputs": [
    {
     "name": "stdout",
     "output_type": "stream",
     "text": [
      "Log-loss score on the validation set: 0.6734186047761413\n",
      "Log-loss score on the validation set: 0.6163336805788261\n"
     ]
    }
   ],
   "source": [
    "X = attempt_ratios\n",
    "y = actual_outcome\n",
    "\n",
    "Xtr, Xtv, ytr, ytv =  train_test_split(X, y, test_size=.2, random_state=12311)\n",
    "\n",
    "log = LogisticRegression()\n",
    "log.fit(Xtr, ytr)\n",
    "yhat = log.predict_proba(Xtv)\n",
    "print('Log-loss score on the validation set: {}'.format(log_loss(ytv, yhat)))\n",
    "\n",
    "rf = RandomForestClassifier(n_estimators=50, max_depth=3, n_jobs=-1)\n",
    "rf.fit(Xtr, ytr)\n",
    "yhat = rf.predict_proba(Xtv)\n",
    "print('Log-loss score on the validation set: {}'.format(log_loss(ytv, yhat)))"
   ]
  },
  {
   "cell_type": "markdown",
   "metadata": {},
   "source": [
    "** Hypothesis - 5 **"
   ]
  },
  {
   "cell_type": "code",
   "execution_count": 65,
   "metadata": {
    "collapsed": true
   },
   "outputs": [],
   "source": [
    "def three_pointer_ratio_effect(tournament_matchups, three_pointer_ratio):\n",
    "    ratios = []\n",
    "    \n",
    "    for wteam, lteam in tournament_matchups.values:\n",
    "        wteam_three_pointer_attempt_ratio      = three_pointer_ratio.ix[wteam]\n",
    "        lteam_three_pointer_attempt_ratio      = three_pointer_ratio.ix[lteam]\n",
    "        \n",
    "        ratios.append([wteam_three_pointer_attempt_ratio, \n",
    "                       lteam_three_pointer_attempt_ratio])\n",
    "    \n",
    "    ratios = np.array(ratios)\n",
    "    return ratios"
   ]
  },
  {
   "cell_type": "code",
   "execution_count": 86,
   "metadata": {
    "collapsed": true
   },
   "outputs": [],
   "source": [
    "three_pointer_ratios = three_pointer_ratio_effect(tourney_2003[['Wteam', 'Lteam']],\n",
    "                        three_pointer_ratio\n",
    "                            )"
   ]
  },
  {
   "cell_type": "code",
   "execution_count": 87,
   "metadata": {
    "collapsed": true
   },
   "outputs": [],
   "source": [
    "actual_outcome = get_actual_outcome(tourney_2003[['Wteam', 'Lteam']],\n",
    "                                    sorted_leaderboard\n",
    "                                   )"
   ]
  },
  {
   "cell_type": "code",
   "execution_count": 88,
   "metadata": {
    "collapsed": false
   },
   "outputs": [
    {
     "name": "stdout",
     "output_type": "stream",
     "text": [
      "Log-loss score on the validation set: 0.6742032349125562\n",
      "Log-loss score on the validation set: 0.7779976829551897\n"
     ]
    }
   ],
   "source": [
    "X = three_pointer_ratios\n",
    "y = actual_outcome\n",
    "\n",
    "Xtr, Xtv, ytr, ytv =  train_test_split(X, y, test_size=.2, random_state=12311)\n",
    "\n",
    "log = LogisticRegression()\n",
    "log.fit(Xtr, ytr)\n",
    "yhat = log.predict_proba(Xtv)\n",
    "print('Log-loss score on the validation set: {}'.format(log_loss(ytv, yhat)))\n",
    "\n",
    "rf = RandomForestClassifier(n_estimators=50, max_depth=3, n_jobs=-1)\n",
    "rf.fit(Xtr, ytr)\n",
    "yhat = rf.predict_proba(Xtv)\n",
    "print('Log-loss score on the validation set: {}'.format(log_loss(ytv, yhat)))"
   ]
  },
  {
   "cell_type": "markdown",
   "metadata": {},
   "source": [
    "** Hypothesis - 6 **\n",
    "\n",
    "Number of home wins will have an impact on the form of team coming into the tournament."
   ]
  },
  {
   "cell_type": "code",
   "execution_count": 66,
   "metadata": {
    "collapsed": true
   },
   "outputs": [],
   "source": [
    "def home_wins_effect(tournament_matchups, home_wins):\n",
    "    num_home_wins = []\n",
    "    \n",
    "    for wteam, lteam in tournament_matchups.values:\n",
    "        wteam_home_wins      = home_wins.ix[wteam]\n",
    "        lteam_home_wins      = home_wins.ix[lteam]\n",
    "        \n",
    "        num_home_wins.append([wteam_home_wins, \n",
    "                       lteam_home_wins])\n",
    "    \n",
    "    num_home_wins = np.array(num_home_wins)\n",
    "    return num_home_wins"
   ]
  },
  {
   "cell_type": "code",
   "execution_count": 133,
   "metadata": {
    "collapsed": false
   },
   "outputs": [],
   "source": [
    "num_home_wins = home_wins_effect(tourney_2003[['Wteam', 'Lteam']],\n",
    "                        home_wins\n",
    "                            )"
   ]
  },
  {
   "cell_type": "code",
   "execution_count": 130,
   "metadata": {
    "collapsed": false
   },
   "outputs": [],
   "source": [
    "actual_outcome = get_actual_outcome(tourney_2003[['Wteam', 'Lteam']],\n",
    "                                   sorted_leaderboard\n",
    "                                   )"
   ]
  },
  {
   "cell_type": "code",
   "execution_count": 134,
   "metadata": {
    "collapsed": false
   },
   "outputs": [
    {
     "name": "stdout",
     "output_type": "stream",
     "text": [
      "Log-loss score on the validation set: 0.5839058926962051\n",
      "Log-loss score on the validation set: 0.6302330133151852\n"
     ]
    }
   ],
   "source": [
    "X = num_home_wins\n",
    "y = actual_outcome\n",
    "\n",
    "Xtr, Xtv, ytr, ytv =  train_test_split(X, y, test_size=.2, random_state=12311)\n",
    "\n",
    "log = LogisticRegression()\n",
    "log.fit(Xtr, ytr)\n",
    "yhat = log.predict_proba(Xtv)\n",
    "print('Log-loss score on the validation set: {}'.format(log_loss(ytv, yhat)))\n",
    "\n",
    "rf = RandomForestClassifier(n_estimators=50, max_depth=3, n_jobs=-1)\n",
    "rf.fit(Xtr, ytr)\n",
    "yhat = rf.predict_proba(Xtv)\n",
    "print('Log-loss score on the validation set: {}'.format(log_loss(ytv, yhat)))"
   ]
  },
  {
   "cell_type": "markdown",
   "metadata": {},
   "source": [
    "** Hypothesis - 7 **\n",
    "\n",
    "Number of away wins scored in the regular season will have an impact on how the team plays in the tournament."
   ]
  },
  {
   "cell_type": "code",
   "execution_count": 67,
   "metadata": {
    "collapsed": true
   },
   "outputs": [],
   "source": [
    "def away_wins_effect(tournament_matchups, away_wins):\n",
    "    num_away_wins = []\n",
    "    \n",
    "    for wteam, lteam in tournament_matchups.values:\n",
    "        wteam_away_wins      = away_wins.ix[wteam]\n",
    "        lteam_away_wins      = away_wins.ix[lteam]\n",
    "        \n",
    "        num_away_wins.append([wteam_away_wins, \n",
    "                       lteam_away_wins])\n",
    "    \n",
    "    num_away_wins = np.array(num_away_wins)\n",
    "    return num_away_wins"
   ]
  },
  {
   "cell_type": "code",
   "execution_count": 157,
   "metadata": {
    "collapsed": true
   },
   "outputs": [],
   "source": [
    "num_away_wins = away_wins_effect(tourney_2003[['Wteam', 'Lteam']],\n",
    "                        away_wins\n",
    "                            )\n",
    "actual_outcome = get_actual_outcome(tourney_2003[['Wteam', 'Lteam']],\n",
    "                                   sorted_leaderboard\n",
    "                                   )"
   ]
  },
  {
   "cell_type": "code",
   "execution_count": 158,
   "metadata": {
    "collapsed": false
   },
   "outputs": [
    {
     "name": "stdout",
     "output_type": "stream",
     "text": [
      "Log-loss score on the validation set: 0.6555185419540128\n",
      "Log-loss score on the validation set: 0.5207589573916594\n"
     ]
    }
   ],
   "source": [
    "X = num_away_wins\n",
    "y = actual_outcome\n",
    "\n",
    "Xtr, Xtv, ytr, ytv =  train_test_split(X, y, test_size=.2, random_state=12311)\n",
    "\n",
    "log = LogisticRegression()\n",
    "log.fit(Xtr, ytr)\n",
    "yhat = log.predict_proba(Xtv)\n",
    "print('Log-loss score on the validation set: {}'.format(log_loss(ytv, yhat)))\n",
    "\n",
    "rf = RandomForestClassifier(n_estimators=50, max_depth=3, n_jobs=-1)\n",
    "rf.fit(Xtr, ytr)\n",
    "yhat = rf.predict_proba(Xtv)\n",
    "print('Log-loss score on the validation set: {}'.format(log_loss(ytv, yhat)))"
   ]
  },
  {
   "cell_type": "markdown",
   "metadata": {},
   "source": [
    "** Hypothesis - 8 **\n",
    "\n",
    "How many has this team appeared in the tournament will have an effect on the outcome ?"
   ]
  },
  {
   "cell_type": "code",
   "execution_count": 27,
   "metadata": {
    "collapsed": true
   },
   "outputs": [],
   "source": [
    "def get_ncaa_tournament_appearances(ncaa_tournament):\n",
    "    \"\"\"\n",
    "    Returns dict of teams with number of appearances in NCAA tournaments\n",
    "    \n",
    "    :param ncaa_tournament: Dataframe representing NCAA tournaments\n",
    "    :return dict: Dictionary representing teams with number of appearances in the tournament\n",
    "    \n",
    "    \"\"\"\n",
    "    \n",
    "    team_appearances = defaultdict(int)\n",
    "    \n",
    "    for wteam, lteam in ncaa_tournament[['Wteam', 'Lteam']].values:\n",
    "        team_appearances[wteam] += 1\n",
    "        team_appearances[lteam] += 1\n",
    "    \n",
    "    return team_appearances"
   ]
  },
  {
   "cell_type": "code",
   "execution_count": 28,
   "metadata": {
    "collapsed": true
   },
   "outputs": [],
   "source": [
    "ncaa_tournament  = tourney_compact.loc[tourney_compact.Season < 2003, ['Wteam', 'Lteam']]\n",
    "team_appearances = get_ncaa_tournament_appearances(ncaa_tournament)"
   ]
  },
  {
   "cell_type": "code",
   "execution_count": 43,
   "metadata": {
    "collapsed": false
   },
   "outputs": [],
   "source": [
    "# team with most appearances in the tournament\n",
    "most_appearances = sorted(team_appearances, \n",
    "                          key=lambda x: team_appearances[x], \n",
    "                          reverse=True)"
   ]
  },
  {
   "cell_type": "code",
   "execution_count": 55,
   "metadata": {
    "collapsed": true
   },
   "outputs": [],
   "source": [
    "def presence_in_tournament_effect(tournament_matchups, team_appearances):\n",
    "    past_presence = []\n",
    "    \n",
    "    for wteam, lteam in tournament_matchups.values:\n",
    "        wteam_past_presence      = team_appearances[wteam] if wteam in team_appearances else 0\n",
    "        lteam_past_presence      = team_appearances[lteam] if lteam in team_appearances else 0\n",
    "        \n",
    "        past_presence.append([wteam_past_presence,\n",
    "                              lteam_past_presence\n",
    "                             ])\n",
    "    \n",
    "    past_presence = np.array(past_presence)\n",
    "    return past_presence"
   ]
  },
  {
   "cell_type": "code",
   "execution_count": 56,
   "metadata": {
    "collapsed": false
   },
   "outputs": [],
   "source": [
    "past_presence = presence_in_tournament_effect(tourney_2003[['Wteam', 'Lteam']],\n",
    "                        team_appearances\n",
    "                            )\n",
    "actual_outcome = get_actual_outcome(tourney_2003[['Wteam', 'Lteam']],\n",
    "                                   sorted_leaderboard\n",
    "                                   )"
   ]
  },
  {
   "cell_type": "code",
   "execution_count": 57,
   "metadata": {
    "collapsed": false
   },
   "outputs": [
    {
     "name": "stdout",
     "output_type": "stream",
     "text": [
      "Log-loss score on the validation set: 0.7011828159732012\n",
      "Log-loss score on the validation set: 0.5639967447795876\n"
     ]
    }
   ],
   "source": [
    "X = past_presence\n",
    "y = actual_outcome\n",
    "\n",
    "Xtr, Xtv, ytr, ytv =  train_test_split(X, y, test_size=.2, random_state=12311)\n",
    "\n",
    "log = LogisticRegression()\n",
    "log.fit(Xtr, ytr)\n",
    "yhat = log.predict_proba(Xtv)\n",
    "print('Log-loss score on the validation set: {}'.format(log_loss(ytv, yhat)))\n",
    "\n",
    "rf = RandomForestClassifier(n_estimators=50, max_depth=3, n_jobs=-1)\n",
    "rf.fit(Xtr, ytr)\n",
    "yhat = rf.predict_proba(Xtv)\n",
    "print('Log-loss score on the validation set: {}'.format(log_loss(ytv, yhat)))"
   ]
  },
  {
   "cell_type": "markdown",
   "metadata": {},
   "source": [
    "** Hypothesis - 9 **\n",
    "\n",
    "Offensive rebound capability will have an effect on the outcome"
   ]
  },
  {
   "cell_type": "code",
   "execution_count": 82,
   "metadata": {
    "collapsed": true
   },
   "outputs": [],
   "source": [
    "def off_rebounds_effect(tournament_matchups, off_rebounds):\n",
    "    num_off_rebounds = []\n",
    "    \n",
    "    for wteam, lteam in tournament_matchups.values:\n",
    "        wteam_off_rebounds      = off_rebounds.ix[wteam]\n",
    "        lteam_off_rebounds      = off_rebounds.ix[lteam]\n",
    "        \n",
    "        num_off_rebounds.append([wteam_off_rebounds, \n",
    "                       lteam_off_rebounds])\n",
    "    \n",
    "    num_off_rebounds = np.array(num_off_rebounds)\n",
    "    return num_off_rebounds"
   ]
  },
  {
   "cell_type": "code",
   "execution_count": 83,
   "metadata": {
    "collapsed": true
   },
   "outputs": [],
   "source": [
    "num_off_rebounds = off_rebounds_effect(tourney_2003[['Wteam', 'Lteam']],\n",
    "                        off_rebounds\n",
    "                            )\n",
    "actual_outcome = get_actual_outcome(tourney_2003[['Wteam', 'Lteam']],\n",
    "                                   sorted_leaderboard\n",
    "                                   )"
   ]
  },
  {
   "cell_type": "code",
   "execution_count": 84,
   "metadata": {
    "collapsed": false
   },
   "outputs": [
    {
     "name": "stdout",
     "output_type": "stream",
     "text": [
      "Log-loss score on the validation set: 0.6570422410737049\n",
      "Log-loss score on the validation set: 0.8020356073035813\n"
     ]
    }
   ],
   "source": [
    "X = num_off_rebounds\n",
    "y = actual_outcome\n",
    "\n",
    "Xtr, Xtv, ytr, ytv =  train_test_split(X, y, test_size=.2, random_state=12311)\n",
    "\n",
    "log = LogisticRegression()\n",
    "log.fit(Xtr, ytr)\n",
    "yhat = log.predict_proba(Xtv)\n",
    "print('Log-loss score on the validation set: {}'.format(log_loss(ytv, yhat)))\n",
    "\n",
    "rf = RandomForestClassifier(n_estimators=50, max_depth=3, n_jobs=-1)\n",
    "rf.fit(Xtr, ytr)\n",
    "yhat = rf.predict_proba(Xtv)\n",
    "print('Log-loss score on the validation set: {}'.format(log_loss(ytv, yhat)))"
   ]
  },
  {
   "cell_type": "markdown",
   "metadata": {},
   "source": [
    "** Hypothesis - 10 **\n",
    "\n",
    "Defensive rebound capability will have an effect on the outcome."
   ]
  },
  {
   "cell_type": "code",
   "execution_count": 106,
   "metadata": {
    "collapsed": true
   },
   "outputs": [],
   "source": [
    "def def_rebounds_effect(tournament_matchups, def_rebounds):\n",
    "    num_def_rebounds = []\n",
    "    \n",
    "    for wteam, lteam in tournament_matchups.values:\n",
    "        wteam_def_rebounds      = def_rebounds.ix[wteam]\n",
    "        lteam_def_rebounds      = def_rebounds.ix[lteam]\n",
    "        \n",
    "        num_def_rebounds.append([wteam_def_rebounds, \n",
    "                       lteam_def_rebounds])\n",
    "    \n",
    "    num_def_rebounds = np.array(num_def_rebounds)\n",
    "    return num_def_rebounds"
   ]
  },
  {
   "cell_type": "code",
   "execution_count": 107,
   "metadata": {
    "collapsed": true
   },
   "outputs": [],
   "source": [
    "num_def_rebounds = def_rebounds_effect(tourney_2003[['Wteam', 'Lteam']],\n",
    "                        def_rebounds\n",
    "                            )\n",
    "actual_outcome = get_actual_outcome(tourney_2003[['Wteam', 'Lteam']],\n",
    "                                   sorted_leaderboard\n",
    "                                   )"
   ]
  },
  {
   "cell_type": "code",
   "execution_count": 108,
   "metadata": {
    "collapsed": false
   },
   "outputs": [
    {
     "name": "stdout",
     "output_type": "stream",
     "text": [
      "Log-loss score on the validation set: 0.689092609248651\n",
      "Log-loss score on the validation set: 0.7034195001305198\n"
     ]
    }
   ],
   "source": [
    "X = num_def_rebounds\n",
    "y = actual_outcome\n",
    "\n",
    "Xtr, Xtv, ytr, ytv =  train_test_split(X, y, test_size=.2, random_state=12311)\n",
    "\n",
    "log = LogisticRegression()\n",
    "log.fit(Xtr, ytr)\n",
    "yhat = log.predict_proba(Xtv)\n",
    "print('Log-loss score on the validation set: {}'.format(log_loss(ytv, yhat)))\n",
    "\n",
    "rf = RandomForestClassifier(n_estimators=50, max_depth=3, n_jobs=-1)\n",
    "rf.fit(Xtr, ytr)\n",
    "yhat = rf.predict_proba(Xtv)\n",
    "print('Log-loss score on the validation set: {}'.format(log_loss(ytv, yhat)))"
   ]
  },
  {
   "cell_type": "markdown",
   "metadata": {},
   "source": [
    "** Hypothesis - 10 **\n",
    "\n",
    "Overall margins  w_margin + l_margin will have an effect on the outcome."
   ]
  },
  {
   "cell_type": "code",
   "execution_count": 124,
   "metadata": {
    "collapsed": true
   },
   "outputs": [],
   "source": [
    "def overall_margin_effect(tournament_matchups, w_margin, l_margin):\n",
    "    overall_margin = []\n",
    "    \n",
    "    for wteam, lteam in tournament_matchups.values:\n",
    "        wteam_w_margin          = w_margin.ix[wteam] if wteam in w_margin.index else 0\n",
    "        wteam_l_margin          = l_margin.ix[wteam] if wteam in l_margin.index else 0\n",
    "        \n",
    "        lteam_w_margin          = w_margin.ix[lteam] if lteam in w_margin.index else 0\n",
    "        lteam_l_margin          = l_margin.ix[lteam] if lteam in l_margin.index else 0\n",
    "        \n",
    "        overall_margin.append([wteam_w_margin + wteam_l_margin, \n",
    "                       lteam_w_margin + lteam_l_margin])\n",
    "    \n",
    "    overall_margin = np.array(overall_margin)\n",
    "    return overall_margin"
   ]
  },
  {
   "cell_type": "code",
   "execution_count": 125,
   "metadata": {
    "collapsed": true
   },
   "outputs": [],
   "source": [
    "overall_margin = overall_margin_effect(tourney_2003[['Wteam', 'Lteam']],\n",
    "                        w_margin,\n",
    "                        l_margin\n",
    "                            )\n",
    "actual_outcome = get_actual_outcome(tourney_2003[['Wteam', 'Lteam']],\n",
    "                                   sorted_leaderboard\n",
    "                                   )"
   ]
  },
  {
   "cell_type": "code",
   "execution_count": 126,
   "metadata": {
    "collapsed": false
   },
   "outputs": [
    {
     "name": "stdout",
     "output_type": "stream",
     "text": [
      "Log-loss score on the validation set: 0.6678185049235612\n",
      "Log-loss score on the validation set: 0.5734667446984336\n"
     ]
    }
   ],
   "source": [
    "X = overall_margin\n",
    "y = actual_outcome\n",
    "\n",
    "Xtr, Xtv, ytr, ytv =  train_test_split(X, y, test_size=.2, random_state=12311)\n",
    "\n",
    "log = LogisticRegression()\n",
    "log.fit(Xtr, ytr)\n",
    "yhat = log.predict_proba(Xtv)\n",
    "print('Log-loss score on the validation set: {}'.format(log_loss(ytv, yhat)))\n",
    "\n",
    "rf = RandomForestClassifier(n_estimators=50, max_depth=3, n_jobs=-1)\n",
    "rf.fit(Xtr, ytr)\n",
    "yhat = rf.predict_proba(Xtv)\n",
    "print('Log-loss score on the validation set: {}'.format(log_loss(ytv, yhat)))"
   ]
  },
  {
   "cell_type": "markdown",
   "metadata": {
    "collapsed": true
   },
   "source": [
    "** Model **"
   ]
  },
  {
   "cell_type": "code",
   "execution_count": 157,
   "metadata": {
    "collapsed": false
   },
   "outputs": [],
   "source": [
    "def model(reg_season_details, tourney_details, seasons):\n",
    "    for season in seasons:\n",
    "        mask               = reg_season_details.Season == season\n",
    "        perf               = reg_season_details.loc[mask]\n",
    "        \n",
    "        reg_season_stats    = SeasonStats(perf)\n",
    "        leaderboard         = reg_season_stats.get_leaderboard()\n",
    "        sorted_leaderboard  = reg_season_stats.sort_leaderboard(leaderboard)\n",
    "        total_points        = reg_season_stats.get_total_points()\n",
    "        field_goals_ratio   = reg_season_stats.get_field_goals_attempt_ratio()\n",
    "        three_pointer_ratio = reg_season_stats.get_three_pointer_ratio()\n",
    "        home_wins           = reg_season_stats.number_of_home_wins()\n",
    "        away_wins           = reg_season_stats.number_of_away_wins()\n",
    "        def_rebounds        = reg_season_stats.get_def_rebounds()\n",
    "        w_margin            = reg_season_stats.winning_margin()\n",
    "        l_margin            = reg_season_stats.loss_margin()\n",
    "        \n",
    "        # team appearances in past tournaments\n",
    "        ncaa_tournament  = tourney_compact.loc[tourney_compact.Season < season, ['Wteam', 'Lteam']]\n",
    "        team_appearances = get_ncaa_tournament_appearances(ncaa_tournament)\n",
    "        \n",
    "        tourney_perf     = tourney_details.loc[tourney_details.Season == season]\n",
    "        \n",
    "        # feature 1 - total points\n",
    "        points             = total_points_effect(tourney_perf[['Wteam', 'Lteam']],\n",
    "                                     total_points\n",
    "                            )\n",
    "        \n",
    "        # feature 2 - diff in league ranks\n",
    "        diff_in_league_ranks = get_diff_in_league_ranks(tourney_perf[['Wteam', 'Lteam']],\n",
    "                                                sorted_leaderboard)\n",
    "        \n",
    "        diff_in_league_ranks = diff_in_league_ranks.reshape(-1, 1)\n",
    "        \n",
    "        # feature 3 - was the team in top-32 when the regular season ended\n",
    "        \n",
    "        top_32_flag = top_32_team_effect(tourney_perf[['Wteam', 'Lteam']],\n",
    "                                 sorted_leaderboard\n",
    "                                )\n",
    "        \n",
    "        # feature 4 - what was the field goals attempt to made in the regular season\n",
    "        \n",
    "        attempt_ratios  = attempt_ratio_effect(tourney_perf[['Wteam', 'Lteam']],\n",
    "                                             field_goals_ratio\n",
    "                                             )\n",
    "        \n",
    "        # feature 5 - what was the ratio of 3 pointer made to attempts\n",
    "        \n",
    "        three_pointer_ratios = three_pointer_ratio_effect(tourney_perf[['Wteam', 'Lteam']],\n",
    "                                                          three_pointer_ratio\n",
    "                                                         )\n",
    "        \n",
    "        # feature 6 - number of wins in the regular season\n",
    "        \n",
    "        num_home_wins       = home_wins_effect(tourney_perf[['Wteam', 'Lteam']],\n",
    "                                               home_wins \n",
    "                                              )\n",
    "        \n",
    "        # feature 7 - number of away wins in the regular season\n",
    "        num_away_wins      =  away_wins_effect(tourney_perf[['Wteam', 'Lteam']],\n",
    "                                               away_wins\n",
    "                                              )\n",
    "        \n",
    "        # feature 8 - number of appearances in past NCAA tournaments\n",
    "        past_presence      = presence_in_tournament_effect(tourney_perf[['Wteam', 'Lteam']],\n",
    "                                                           team_appearances\n",
    "                                                          )\n",
    "        \n",
    "        # feature 9 - defensive rebound capability in the regular season\n",
    "        num_def_rebounds    = def_rebounds_effect(tourney_perf[['Wteam', 'Lteam']],\n",
    "                                                 def_rebounds\n",
    "                                                )\n",
    "        \n",
    "        # feature 10 - overall margin w_margin + l_margin\n",
    "        overall_margin      = overall_margin_effect(tourney_perf[['Wteam', 'Lteam']],\n",
    "                                                    w_margin,\n",
    "                                                    l_margin\n",
    "                                                   )\n",
    "        \n",
    "        actual_outcome  = get_actual_outcome(tourney_perf[['Wteam', 'Lteam']],\n",
    "                                    sorted_leaderboard\n",
    "                                   )\n",
    "        \n",
    "        points               = np.nan_to_num(points)\n",
    "        diff_in_league_ranks = np.nan_to_num(diff_in_league_ranks)\n",
    "        top_32_flag          = np.nan_to_num(top_32_flag)\n",
    "        attempt_ratios       = np.nan_to_num(attempt_ratios)\n",
    "        three_pointer_ratios = np.nan_to_num(three_pointer_ratios)\n",
    "        num_home_wins        = np.nan_to_num(num_home_wins)\n",
    "        num_away_wins        = np.nan_to_num(num_away_wins)\n",
    "        past_presence        = np.nan_to_num(past_presence)\n",
    "        num_def_rebounds     = np.nan_to_num(num_def_rebounds)\n",
    "        overall_margin       = np.nan_to_num(overall_margin)\n",
    "        \n",
    "        X = np.hstack((points, \n",
    "                       diff_in_league_ranks, \n",
    "                       top_32_flag,\n",
    "                       attempt_ratios, \n",
    "                       three_pointer_ratios,\n",
    "                       num_home_wins,\n",
    "                       num_away_wins,\n",
    "                       past_presence,\n",
    "                       num_def_rebounds,\n",
    "                       overall_margin\n",
    "                    ))\n",
    "        \n",
    "        y = actual_outcome\n",
    "        \n",
    "        Xtr, Xtv, ytr, ytv =  train_test_split(X, y, test_size=.2, random_state=12311)\n",
    "        \n",
    "#         rf = RandomForestClassifier(n_estimators=100, max_depth=5, min_samples_split=3, \n",
    "#                                     min_samples_leaf=10,\n",
    "#                                     n_jobs=-1)\n",
    "#         rf.fit(Xtr, ytr)\n",
    "\n",
    "        log  = LogisticRegression(C=.1)\n",
    "        log.fit(Xtr, ytr)\n",
    "\n",
    "#         xgb_classifier = xgb.XGBClassifier(learning_rate=.008, \n",
    "#                                            colsample_bytree=0.7,\n",
    "#                                            max_depth=2\n",
    "#                                           )\n",
    "#         xgb_classifier.fit(Xtr, ytr)\n",
    "        \n",
    "        yhat = log.predict_proba(Xtv)[:, 1]\n",
    "        \n",
    "        print('Log-loss score on the validation set for season {}: {}'.format(season,\n",
    "                                                                              log_loss(ytv, yhat)))"
   ]
  },
  {
   "cell_type": "code",
   "execution_count": 158,
   "metadata": {
    "collapsed": false
   },
   "outputs": [
    {
     "name": "stdout",
     "output_type": "stream",
     "text": [
      "Log-loss score on the validation set for season 2003: 0.8095953477971557\n",
      "Log-loss score on the validation set for season 2004: 0.6130616638087267\n",
      "Log-loss score on the validation set for season 2005: 0.7096266948551169\n",
      "Log-loss score on the validation set for season 2006: 0.8550186685645644\n",
      "Log-loss score on the validation set for season 2007: 0.8646323147761398\n",
      "Log-loss score on the validation set for season 2008: 0.8855961704290327\n",
      "Log-loss score on the validation set for season 2009: 0.6718005313994186\n",
      "Log-loss score on the validation set for season 2010: 0.6268506583099597\n",
      "Log-loss score on the validation set for season 2011: 0.7652106520525636\n",
      "Log-loss score on the validation set for season 2012: 0.5675805624861003\n",
      "Log-loss score on the validation set for season 2013: 0.7919753732388051\n",
      "Log-loss score on the validation set for season 2014: 0.6689940527558819\n",
      "Log-loss score on the validation set for season 2015: 0.7158213435508969\n",
      "Log-loss score on the validation set for season 2016: 0.7858183603147204\n"
     ]
    }
   ],
   "source": [
    "model(reg_season_detailed, \n",
    "      tourney_detailed,\n",
    "      np.arange(2003, 2017)\n",
    "     )"
   ]
  },
  {
   "cell_type": "markdown",
   "metadata": {},
   "source": [
    "** Sample Submission **"
   ]
  },
  {
   "cell_type": "code",
   "execution_count": 150,
   "metadata": {
    "collapsed": false
   },
   "outputs": [],
   "source": [
    "sub = pd.read_csv('../data/sample_submission.csv')"
   ]
  },
  {
   "cell_type": "code",
   "execution_count": 151,
   "metadata": {
    "collapsed": true
   },
   "outputs": [],
   "source": [
    "def parse_submission(sub):\n",
    "    parsed = [[row.id.split('_')[0], row.id.split('_')[1], row.id.split('_')[2]]\n",
    "                          for index, row in sub.iterrows()]\n",
    "    return pd.DataFrame(parsed, columns=['year', 'team_1', 'team_2'], dtype=np.int)"
   ]
  },
  {
   "cell_type": "code",
   "execution_count": 152,
   "metadata": {
    "collapsed": false
   },
   "outputs": [],
   "source": [
    "parsed_sub_df = parse_submission(sub)"
   ]
  },
  {
   "cell_type": "code",
   "execution_count": 153,
   "metadata": {
    "collapsed": false
   },
   "outputs": [],
   "source": [
    "def predict_proba(reg_season_details, tourney_details, parsed_sub_df, seasons):\n",
    "    preds = []\n",
    "#     rf = RandomForestClassifier(n_estimators=100, max_depth=10, n_jobs=-1)\n",
    "#     log = LogisticRegression(C=0.1)\n",
    "    \n",
    "    xgb_classifier = xgb.XGBClassifier(learning_rate=.008, \n",
    "                                           colsample_bytree=0.7,\n",
    "                                           max_depth=2\n",
    "                                          )\n",
    "    \n",
    "    for season in seasons:\n",
    "        mask                = reg_season_details.Season == season\n",
    "        perf                = reg_season_details.loc[mask]\n",
    "        \n",
    "        reg_season_stats    = SeasonStats(perf)\n",
    "        leaderboard         = reg_season_stats.get_leaderboard()\n",
    "        sorted_leaderboard  = reg_season_stats.sort_leaderboard(leaderboard)\n",
    "        total_points        = reg_season_stats.get_total_points()\n",
    "        field_goals_ratio   = reg_season_stats.get_field_goals_attempt_ratio()\n",
    "        three_pointer_ratio = reg_season_stats.get_three_pointer_ratio()\n",
    "        away_wins           = reg_season_stats.number_of_away_wins()\n",
    "        def_rebounds        = reg_season_stats.get_def_rebounds()\n",
    "        w_margin            = reg_season_stats.winning_margin()\n",
    "        l_margin            = reg_season_stats.loss_margin()\n",
    "        \n",
    "        # team appearances in past tournaments\n",
    "        ncaa_tournament  = tourney_compact.loc[tourney_compact.Season < season, ['Wteam', 'Lteam']]\n",
    "        team_appearances = get_ncaa_tournament_appearances(ncaa_tournament)\n",
    "        \n",
    "        tourney_perf        = tourney_details.loc[tourney_details.Season == season]\n",
    "        \n",
    "        # feature 1 - total points\n",
    "        points             = total_points_effect(tourney_perf[['Wteam', 'Lteam']],\n",
    "                                     total_points\n",
    "                            )\n",
    "        \n",
    "        # feature 2 - diff in league ranks\n",
    "        diff_in_league_ranks = get_diff_in_league_ranks(tourney_perf[['Wteam', 'Lteam']],\n",
    "                                                sorted_leaderboard)\n",
    "        \n",
    "        diff_in_league_ranks = diff_in_league_ranks.reshape(-1, 1)\n",
    "        \n",
    "        # feature 3 - was the team in top-32 when the regular season ended\n",
    "        \n",
    "        top_32_flag = top_32_team_effect(tourney_perf[['Wteam', 'Lteam']],\n",
    "                                 sorted_leaderboard\n",
    "                                )\n",
    "        \n",
    "        # feature 4 - what was the field goals attempt to made in the regular season\n",
    "        \n",
    "        attempt_ratios  = attempt_ratio_effect(tourney_perf[['Wteam', 'Lteam']],\n",
    "                                             field_goals_ratio\n",
    "                                             )\n",
    "        \n",
    "        # feature 5 - what was the ratio of 3 pointer made to attempts\n",
    "        \n",
    "        three_pointer_ratios = three_pointer_ratio_effect(tourney_perf[['Wteam', 'Lteam']],\n",
    "                                                          three_pointer_ratio\n",
    "                                                         )\n",
    "        \n",
    "        # feature 6 - number of away wins scored in the regular season\n",
    "        num_away_wins       = away_wins_effect(tourney_perf[['Wteam', 'Lteam']],\n",
    "                                               away_wins\n",
    "                                              ) \n",
    "        \n",
    "        # feature 7 - number of appearances in past NCAA tournaments\n",
    "        past_presence      = presence_in_tournament_effect(tourney_perf[['Wteam', 'Lteam']],\n",
    "                                                           team_appearances\n",
    "                                                          )\n",
    "        \n",
    "        # feature 8 - def rebound capability\n",
    "        num_def_rebounds    = def_rebounds_effect(tourney_perf[['Wteam', 'Lteam']],\n",
    "                                                 def_rebounds\n",
    "                                                )\n",
    "        \n",
    "        # feature 9 - overall margin w_margin + l_margin\n",
    "        overall_margin      = overall_margin_effect(tourney_perf[['Wteam', 'Lteam']],\n",
    "                                                    w_margin,\n",
    "                                                    l_margin\n",
    "                                                   )\n",
    "        \n",
    "        \n",
    "        actual_outcome       = get_actual_outcome(tourney_perf[['Wteam', 'Lteam']],\n",
    "                                    sorted_leaderboard\n",
    "                                   )\n",
    "        \n",
    "        points               = np.nan_to_num(points)\n",
    "        diff_in_league_ranks = np.nan_to_num(diff_in_league_ranks)\n",
    "        top_32_flag          = np.nan_to_num(top_32_flag)\n",
    "        attempt_ratios       = np.nan_to_num(attempt_ratios)\n",
    "        three_pointer_ratios = np.nan_to_num(three_pointer_ratios)\n",
    "        num_away_wins        = np.nan_to_num(num_away_wins)\n",
    "        past_presence        = np.nan_to_num(past_presence)\n",
    "        num_def_rebounds     = np.nan_to_num(num_def_rebounds)\n",
    "        overall_margin       = np.nan_to_num(overall_margin)\n",
    "        \n",
    "        X = np.hstack((points,\n",
    "                       top_32_flag,\n",
    "                       diff_in_league_ranks,\n",
    "                       attempt_ratios,\n",
    "                       three_pointer_ratios,\n",
    "                       num_away_wins,\n",
    "                       past_presence,\n",
    "                       num_def_rebounds,\n",
    "                       overall_margin\n",
    "                      ))\n",
    "        \n",
    "        y = actual_outcome\n",
    "        \n",
    "        # test data frame\n",
    "        test_perf            = parsed_sub_df.loc[parsed_sub_df.year == season]\n",
    "        \n",
    "        # feature 1 - total points\n",
    "        points_test          = total_points_effect(test_perf[['team_1', 'team_2']],\n",
    "                                     total_points\n",
    "                            )\n",
    "        \n",
    "        # feature 2 - diff in league ranks\n",
    "        diff_in_league_ranks_test = get_diff_in_league_ranks(test_perf[['team_1', 'team_2']],\n",
    "                                                sorted_leaderboard)\n",
    "        \n",
    "        diff_in_league_ranks_test = diff_in_league_ranks_test.reshape(-1, 1)\n",
    "        \n",
    "        # feature 3 - was the team in top-32 when the regular season ended\n",
    "        \n",
    "        top_32_flag_test = top_32_team_effect(test_perf[['team_1', 'team_2']],\n",
    "                                 sorted_leaderboard\n",
    "                                )\n",
    "        \n",
    "        # feature 4 - what was the field goals attempt to made in the regular season\n",
    "        \n",
    "        attempt_ratios_test  = attempt_ratio_effect(test_perf[['team_1', 'team_2']],\n",
    "                                             field_goals_ratio\n",
    "                                             )\n",
    "        \n",
    "        # feature 5 - what was the ratio of 3 pointer made to attempts\n",
    "        \n",
    "        three_pointer_ratios_test = three_pointer_ratio_effect(test_perf[['team_1', 'team_2']],\n",
    "                                                          three_pointer_ratio\n",
    "                                                         )\n",
    "        \n",
    "        # feature 6 - number of away wins scored in the regular season\n",
    "        num_away_wins_test        = away_wins_effect(test_perf[['team_1', 'team_2']],\n",
    "                                                     away_wins\n",
    "                                                    )\n",
    "        \n",
    "        # feature 7 - number of appearances in past NCAA tournaments\n",
    "        past_presence_test      = presence_in_tournament_effect(test_perf[['team_1', 'team_2']],\n",
    "                                                           team_appearances\n",
    "                                                          )\n",
    "        \n",
    "        # feature 8 - defensive rebound capability\n",
    "        num_def_rebounds_test    = def_rebounds_effect(test_perf[['team_1', 'team_2']],\n",
    "                                                       def_rebounds\n",
    "                                                      )\n",
    "        \n",
    "        # feature 9 - overall margin w_margin + l_margin\n",
    "        overall_margin_test      = overall_margin_effect(test_perf[['team_1', 'team_2']],\n",
    "                                                    w_margin,\n",
    "                                                    l_margin\n",
    "                                                   )\n",
    "        \n",
    "        \n",
    "        points_test               = np.nan_to_num(points_test)\n",
    "        diff_in_league_ranks_test = np.nan_to_num(diff_in_league_ranks_test)\n",
    "        top_32_flag_test          = np.nan_to_num(top_32_flag_test)\n",
    "        attempt_ratios_test       = np.nan_to_num(attempt_ratios_test)\n",
    "        three_pointer_ratios_test = np.nan_to_num(three_pointer_ratios_test)\n",
    "        num_away_wins_test        = np.nan_to_num(num_away_wins_test)\n",
    "        past_presence_test        = np.nan_to_num(past_presence_test)\n",
    "        num_def_rebounds_test     = np.nan_to_num(num_def_rebounds_test)\n",
    "        overall_margin_test       = np.nan_to_num(overall_margin_test)\n",
    "        \n",
    "        Xtest = np.hstack((points_test, \n",
    "                           top_32_flag_test,\n",
    "                           diff_in_league_ranks_test,\n",
    "                           attempt_ratios_test,\n",
    "                           three_pointer_ratios_test,\n",
    "                           num_away_wins_test,\n",
    "                           past_presence_test,\n",
    "                           num_def_rebounds_test,\n",
    "                           overall_margin_test\n",
    "                          ))\n",
    "        \n",
    "        xgb_classifier.fit(X, y)\n",
    "        yhat = xgb_classifier.predict_proba(Xtest)[:, 1]\n",
    "        \n",
    "        preds.append(yhat)\n",
    "    \n",
    "    preds = np.hstack(preds)\n",
    "    return preds"
   ]
  },
  {
   "cell_type": "code",
   "execution_count": 154,
   "metadata": {
    "collapsed": false
   },
   "outputs": [],
   "source": [
    "final_predictions = predict_proba(reg_season_detailed, \n",
    "                                  tourney_detailed, \n",
    "                                  parsed_sub_df, \n",
    "                                  np.arange(2013, 2017))"
   ]
  },
  {
   "cell_type": "code",
   "execution_count": 156,
   "metadata": {
    "collapsed": false
   },
   "outputs": [],
   "source": [
    "sub['pred'] = final_predictions\n",
    "sub.to_csv('../submissions/model_6.csv', index=False)"
   ]
  }
 ],
 "metadata": {
  "anaconda-cloud": {},
  "kernelspec": {
   "display_name": "Python [Root]",
   "language": "python",
   "name": "Python [Root]"
  },
  "language_info": {
   "codemirror_mode": {
    "name": "ipython",
    "version": 3
   },
   "file_extension": ".py",
   "mimetype": "text/x-python",
   "name": "python",
   "nbconvert_exporter": "python",
   "pygments_lexer": "ipython3",
   "version": "3.5.2"
  }
 },
 "nbformat": 4,
 "nbformat_minor": 0
}
