{
 "cells": [
  {
   "cell_type": "code",
   "execution_count": 1,
   "metadata": {
    "collapsed": true
   },
   "outputs": [],
   "source": [
    "%matplotlib inline\n",
    "\n",
    "import pandas as pd\n",
    "import numpy as np\n",
    "\n",
    "import matplotlib.pyplot as plt\n",
    "import seaborn as sns\n",
    "\n",
    "pd.set_option('display.max_columns', None)\n",
    "\n",
    "np.random.seed(2131)\n",
    "\n",
    "import warnings\n",
    "warnings.filterwarnings('ignore')\n",
    "\n",
    "%run ../src/elo.py\n",
    "%run ../src/elo_game_by_game.py"
   ]
  },
  {
   "cell_type": "code",
   "execution_count": 2,
   "metadata": {
    "collapsed": true
   },
   "outputs": [],
   "source": [
    "# load files ( DATA )\n",
    "\n",
    "teams               = pd.read_csv('../data/Teams.csv')\n",
    "seasons             = pd.read_csv('../data/Seasons.csv')\n",
    "reg_season_compact  = pd.read_csv('../data/RegularSeasonCompactResults.csv')\n",
    "reg_season_detailed = pd.read_csv('../data/RegularSeasonDetailedResults.csv')\n",
    "tourney_compact     = pd.read_csv('../data/TourneyCompactResults.csv')\n",
    "tourney_detailed    = pd.read_csv('../data/TourneyDetailedResults.csv')\n",
    "tourney_seeds       = pd.read_csv('../data/TourneySeeds.csv')\n",
    "tourney_slots       = pd.read_csv('../data/TourneySlots.csv')"
   ]
  },
  {
   "cell_type": "markdown",
   "metadata": {},
   "source": [
    "** Notes **\n",
    "\n",
    "- NCAA is a college level baseketball tournament.\n",
    "- NCAA is a single-elimination tournament.\n",
    "- Features 68 teams.\n",
    "- 32 teams consist of divison 1 conferences and reserve the right to be invited.\n",
    "- other 36 teams are chosen by the NCAA officials.\n",
    "- Announcement of these 36 teams is televised event and done a week before the FIRST-FOUR and called\n",
    "  __Selection Sunday__\n",
    "- 68 teams are divided into four regions and organized into single elimination bracket, which predetermines when a team wins, which team it will face next.\n",
    "- Each team is ranked or seeded within a region from 1 to 16.\n",
    "- After intial round of matches between 8 lower ranked teams, tournaments continues for next 3 weekends .\n",
    "- First round consist of 64 teams which lead to a __Sweet Sixteen__"
   ]
  },
  {
   "cell_type": "markdown",
   "metadata": {},
   "source": [
    "** Task **\n",
    "\n",
    "<u>What to predict</u>\n",
    "\n",
    "Stage 1 - You should submit predicted probabilities for every possible matchup in the past 4 NCAA tournaments (2013-2016)."
   ]
  },
  {
   "cell_type": "markdown",
   "metadata": {},
   "source": [
    "** Data Description **\n",
    "\n",
    "- Files given to us in the beginning are _essential files_.\n",
    "- Optional data files may be added in the system.\n",
    "- You can assume that essential files might be provided for current season.\n",
    "- You can not assume that optional data files will be provided for current season.\n",
    "\n",
    "\n",
    "<u>Seasons</u>\n",
    "\n",
    "- Identifies different seasons included in the historical data\n",
    "    - \"season\": indicates the year in which the tournament was played.\n",
    "    - \"dayzero\": tells you the date corresponding to daynum = 0 during that season.\n",
    "    - Championship game is always played on daynum = 154, National Semifinals on daynum = 152, playin games on daynum = 134/135, Selection Sunday = 132\n",
    "    - \"region\": four regions in the final tournament W/X/Y/Z\n",
    "\n",
    "<u> Regular Season Compact Results </u>\n",
    "- Game by Game results of all games played upto daynum = 132 for all the 32 seasons from 1985 to 2015. Each row represents single game played.\n",
    "\n",
    "    - \"season\": the year in which the final tournament occurs.\n",
    "    - \"daynum\": integer that represents the offset from dayzero between 0 and 132. No team played more than 1 match on any given day.\n",
    "    - \"wteam\": id of the winning team.\n",
    "    - \"wscore\": number of points scored by the winning team.\n",
    "    - \"lteam\": id of the losing team.\n",
    "    - \"lscore\": number of points scored by the losing team.\n",
    "    - \"numot\": number of overtime periods in the game >=0\n",
    "    - \"wloc\":  id of the location of winning team. ( H, A, N )\n",
    "\n",
    "<u> Regular Season Detailed Results </u>\n",
    "- More detailed information game by game for seasons 2003-2016. Include game level statistics for each game.\n",
    "\n",
    "<u> Tourney Compact Results </u>\n",
    "- Game by Game data for all seasons of historical data. These also include play-in games when there were one.\n",
    "\n",
    "<u> Tourney Compact Detailed Results </u>\n",
    "- More detailed information game by game 2003 onwards\n",
    "\n",
    "<u> Tourney Seeds </u>\n",
    "- \"season\" : year\n",
    "- \"seed\"   : 'Region[0-9][0-9][a/b]' Structure of the seed first alphabet represents the region, next two represents the seed in that region and fourth character is for those teams that played in play in\n",
    "- \"team\"   : team identifier\n",
    "\n",
    "<u> Tourney Slots </u>\n",
    "- \"season\"     : year.\n",
    "- \"slot\"       : uniquely determines of the tournament games.\n",
    "- \"strongseed\" : expected seed of the stronger team that plays in this game.\n",
    "- \"weakerseed\" : expected seed of the weaker team that plays in this game."
   ]
  },
  {
   "cell_type": "code",
   "execution_count": 9,
   "metadata": {
    "collapsed": false
   },
   "outputs": [
    {
     "data": {
      "text/html": [
       "<div>\n",
       "<table border=\"1\" class=\"dataframe\">\n",
       "  <thead>\n",
       "    <tr style=\"text-align: right;\">\n",
       "      <th></th>\n",
       "      <th>Team_Id</th>\n",
       "      <th>Team_Name</th>\n",
       "    </tr>\n",
       "  </thead>\n",
       "  <tbody>\n",
       "    <tr>\n",
       "      <th>0</th>\n",
       "      <td>1101</td>\n",
       "      <td>Abilene Chr</td>\n",
       "    </tr>\n",
       "    <tr>\n",
       "      <th>1</th>\n",
       "      <td>1102</td>\n",
       "      <td>Air Force</td>\n",
       "    </tr>\n",
       "    <tr>\n",
       "      <th>2</th>\n",
       "      <td>1103</td>\n",
       "      <td>Akron</td>\n",
       "    </tr>\n",
       "    <tr>\n",
       "      <th>3</th>\n",
       "      <td>1104</td>\n",
       "      <td>Alabama</td>\n",
       "    </tr>\n",
       "    <tr>\n",
       "      <th>4</th>\n",
       "      <td>1105</td>\n",
       "      <td>Alabama A&amp;M</td>\n",
       "    </tr>\n",
       "  </tbody>\n",
       "</table>\n",
       "</div>"
      ],
      "text/plain": [
       "   Team_Id    Team_Name\n",
       "0     1101  Abilene Chr\n",
       "1     1102    Air Force\n",
       "2     1103        Akron\n",
       "3     1104      Alabama\n",
       "4     1105  Alabama A&M"
      ]
     },
     "execution_count": 9,
     "metadata": {},
     "output_type": "execute_result"
    }
   ],
   "source": [
    "teams.head()"
   ]
  },
  {
   "cell_type": "code",
   "execution_count": 21,
   "metadata": {
    "collapsed": false
   },
   "outputs": [
    {
     "name": "stdout",
     "output_type": "stream",
     "text": [
      "Total number of teams  364\n",
      "Total unique teams  364\n"
     ]
    }
   ],
   "source": [
    "print('Total number of teams ', len(teams))\n",
    "print('Total unique teams ', teams.Team_Id.nunique())"
   ]
  },
  {
   "cell_type": "code",
   "execution_count": 13,
   "metadata": {
    "collapsed": false
   },
   "outputs": [
    {
     "data": {
      "text/html": [
       "<div>\n",
       "<table border=\"1\" class=\"dataframe\">\n",
       "  <thead>\n",
       "    <tr style=\"text-align: right;\">\n",
       "      <th></th>\n",
       "      <th>Season</th>\n",
       "      <th>Dayzero</th>\n",
       "      <th>Regionw</th>\n",
       "      <th>Regionx</th>\n",
       "      <th>Regiony</th>\n",
       "      <th>Regionz</th>\n",
       "    </tr>\n",
       "  </thead>\n",
       "  <tbody>\n",
       "    <tr>\n",
       "      <th>0</th>\n",
       "      <td>1985</td>\n",
       "      <td>10/29/1984</td>\n",
       "      <td>East</td>\n",
       "      <td>West</td>\n",
       "      <td>Midwest</td>\n",
       "      <td>Southeast</td>\n",
       "    </tr>\n",
       "    <tr>\n",
       "      <th>1</th>\n",
       "      <td>1986</td>\n",
       "      <td>10/28/1985</td>\n",
       "      <td>East</td>\n",
       "      <td>Midwest</td>\n",
       "      <td>Southeast</td>\n",
       "      <td>West</td>\n",
       "    </tr>\n",
       "    <tr>\n",
       "      <th>2</th>\n",
       "      <td>1987</td>\n",
       "      <td>10/27/1986</td>\n",
       "      <td>East</td>\n",
       "      <td>Southeast</td>\n",
       "      <td>Midwest</td>\n",
       "      <td>West</td>\n",
       "    </tr>\n",
       "    <tr>\n",
       "      <th>3</th>\n",
       "      <td>1988</td>\n",
       "      <td>11/2/1987</td>\n",
       "      <td>East</td>\n",
       "      <td>Midwest</td>\n",
       "      <td>Southeast</td>\n",
       "      <td>West</td>\n",
       "    </tr>\n",
       "    <tr>\n",
       "      <th>4</th>\n",
       "      <td>1989</td>\n",
       "      <td>10/31/1988</td>\n",
       "      <td>East</td>\n",
       "      <td>West</td>\n",
       "      <td>Midwest</td>\n",
       "      <td>Southeast</td>\n",
       "    </tr>\n",
       "  </tbody>\n",
       "</table>\n",
       "</div>"
      ],
      "text/plain": [
       "   Season     Dayzero Regionw    Regionx    Regiony    Regionz\n",
       "0    1985  10/29/1984    East       West    Midwest  Southeast\n",
       "1    1986  10/28/1985    East    Midwest  Southeast       West\n",
       "2    1987  10/27/1986    East  Southeast    Midwest       West\n",
       "3    1988   11/2/1987    East    Midwest  Southeast       West\n",
       "4    1989  10/31/1988    East       West    Midwest  Southeast"
      ]
     },
     "execution_count": 13,
     "metadata": {},
     "output_type": "execute_result"
    }
   ],
   "source": [
    "seasons.head()"
   ]
  },
  {
   "cell_type": "code",
   "execution_count": 22,
   "metadata": {
    "collapsed": false
   },
   "outputs": [
    {
     "name": "stdout",
     "output_type": "stream",
     "text": [
      "Total number of seasons recorded  33\n",
      "Total number of unique seasons recorded  33\n"
     ]
    }
   ],
   "source": [
    "print('Total number of seasons recorded ', len(seasons))\n",
    "print('Total number of unique seasons recorded ', seasons.Season.nunique())"
   ]
  },
  {
   "cell_type": "code",
   "execution_count": 23,
   "metadata": {
    "collapsed": false
   },
   "outputs": [
    {
     "data": {
      "text/html": [
       "<div>\n",
       "<table border=\"1\" class=\"dataframe\">\n",
       "  <thead>\n",
       "    <tr style=\"text-align: right;\">\n",
       "      <th></th>\n",
       "      <th>Season</th>\n",
       "      <th>Daynum</th>\n",
       "      <th>Wteam</th>\n",
       "      <th>Wscore</th>\n",
       "      <th>Lteam</th>\n",
       "      <th>Lscore</th>\n",
       "      <th>Wloc</th>\n",
       "      <th>Numot</th>\n",
       "    </tr>\n",
       "  </thead>\n",
       "  <tbody>\n",
       "    <tr>\n",
       "      <th>0</th>\n",
       "      <td>1985</td>\n",
       "      <td>20</td>\n",
       "      <td>1228</td>\n",
       "      <td>81</td>\n",
       "      <td>1328</td>\n",
       "      <td>64</td>\n",
       "      <td>N</td>\n",
       "      <td>0</td>\n",
       "    </tr>\n",
       "    <tr>\n",
       "      <th>1</th>\n",
       "      <td>1985</td>\n",
       "      <td>25</td>\n",
       "      <td>1106</td>\n",
       "      <td>77</td>\n",
       "      <td>1354</td>\n",
       "      <td>70</td>\n",
       "      <td>H</td>\n",
       "      <td>0</td>\n",
       "    </tr>\n",
       "    <tr>\n",
       "      <th>2</th>\n",
       "      <td>1985</td>\n",
       "      <td>25</td>\n",
       "      <td>1112</td>\n",
       "      <td>63</td>\n",
       "      <td>1223</td>\n",
       "      <td>56</td>\n",
       "      <td>H</td>\n",
       "      <td>0</td>\n",
       "    </tr>\n",
       "    <tr>\n",
       "      <th>3</th>\n",
       "      <td>1985</td>\n",
       "      <td>25</td>\n",
       "      <td>1165</td>\n",
       "      <td>70</td>\n",
       "      <td>1432</td>\n",
       "      <td>54</td>\n",
       "      <td>H</td>\n",
       "      <td>0</td>\n",
       "    </tr>\n",
       "    <tr>\n",
       "      <th>4</th>\n",
       "      <td>1985</td>\n",
       "      <td>25</td>\n",
       "      <td>1192</td>\n",
       "      <td>86</td>\n",
       "      <td>1447</td>\n",
       "      <td>74</td>\n",
       "      <td>H</td>\n",
       "      <td>0</td>\n",
       "    </tr>\n",
       "  </tbody>\n",
       "</table>\n",
       "</div>"
      ],
      "text/plain": [
       "   Season  Daynum  Wteam  Wscore  Lteam  Lscore Wloc  Numot\n",
       "0    1985      20   1228      81   1328      64    N      0\n",
       "1    1985      25   1106      77   1354      70    H      0\n",
       "2    1985      25   1112      63   1223      56    H      0\n",
       "3    1985      25   1165      70   1432      54    H      0\n",
       "4    1985      25   1192      86   1447      74    H      0"
      ]
     },
     "execution_count": 23,
     "metadata": {},
     "output_type": "execute_result"
    }
   ],
   "source": [
    "reg_season_compact.head()"
   ]
  },
  {
   "cell_type": "markdown",
   "metadata": {},
   "source": [
    "** ELO Rating Scheme **\n",
    "\n",
    "ELO Rating scheme assumes that the performance of a team is normally distributed. We will gauge performance based on the score of the team."
   ]
  },
  {
   "cell_type": "code",
   "execution_count": 83,
   "metadata": {
    "collapsed": true
   },
   "outputs": [],
   "source": [
    "def get_team_performance(reg_season_compact, team_id):\n",
    "    winning_mask = reg_season_compact.Wteam == team_id\n",
    "    losing_mask  = reg_season_compact.Lteam == team_id\n",
    "    \n",
    "    return reg_season_compact.loc[winning_mask, 'Wscore'].tolist() + \\\n",
    "           reg_season_compact.loc[losing_mask, 'Lscore'].tolist()"
   ]
  },
  {
   "cell_type": "code",
   "execution_count": 90,
   "metadata": {
    "collapsed": true
   },
   "outputs": [],
   "source": [
    "def plot_point_distribution(team_perf, team_id):\n",
    "    sns.distplot(team_perf)\n",
    "    plt.title('Points scored by team:%d'%(team_id))\n",
    "    plt.xlabel('Points scored');"
   ]
  },
  {
   "cell_type": "code",
   "execution_count": 92,
   "metadata": {
    "collapsed": false
   },
   "outputs": [
    {
     "data": {
      "text/html": [
       "<div>\n",
       "<table border=\"1\" class=\"dataframe\">\n",
       "  <thead>\n",
       "    <tr style=\"text-align: right;\">\n",
       "      <th></th>\n",
       "      <th>Season</th>\n",
       "      <th>Daynum</th>\n",
       "      <th>Wteam</th>\n",
       "      <th>Wscore</th>\n",
       "      <th>Lteam</th>\n",
       "      <th>Lscore</th>\n",
       "      <th>Wloc</th>\n",
       "      <th>Numot</th>\n",
       "    </tr>\n",
       "  </thead>\n",
       "  <tbody>\n",
       "    <tr>\n",
       "      <th>0</th>\n",
       "      <td>1985</td>\n",
       "      <td>20</td>\n",
       "      <td>1228</td>\n",
       "      <td>81</td>\n",
       "      <td>1328</td>\n",
       "      <td>64</td>\n",
       "      <td>N</td>\n",
       "      <td>0</td>\n",
       "    </tr>\n",
       "    <tr>\n",
       "      <th>1</th>\n",
       "      <td>1985</td>\n",
       "      <td>25</td>\n",
       "      <td>1106</td>\n",
       "      <td>77</td>\n",
       "      <td>1354</td>\n",
       "      <td>70</td>\n",
       "      <td>H</td>\n",
       "      <td>0</td>\n",
       "    </tr>\n",
       "    <tr>\n",
       "      <th>2</th>\n",
       "      <td>1985</td>\n",
       "      <td>25</td>\n",
       "      <td>1112</td>\n",
       "      <td>63</td>\n",
       "      <td>1223</td>\n",
       "      <td>56</td>\n",
       "      <td>H</td>\n",
       "      <td>0</td>\n",
       "    </tr>\n",
       "    <tr>\n",
       "      <th>3</th>\n",
       "      <td>1985</td>\n",
       "      <td>25</td>\n",
       "      <td>1165</td>\n",
       "      <td>70</td>\n",
       "      <td>1432</td>\n",
       "      <td>54</td>\n",
       "      <td>H</td>\n",
       "      <td>0</td>\n",
       "    </tr>\n",
       "    <tr>\n",
       "      <th>4</th>\n",
       "      <td>1985</td>\n",
       "      <td>25</td>\n",
       "      <td>1192</td>\n",
       "      <td>86</td>\n",
       "      <td>1447</td>\n",
       "      <td>74</td>\n",
       "      <td>H</td>\n",
       "      <td>0</td>\n",
       "    </tr>\n",
       "  </tbody>\n",
       "</table>\n",
       "</div>"
      ],
      "text/plain": [
       "   Season  Daynum  Wteam  Wscore  Lteam  Lscore Wloc  Numot\n",
       "0    1985      20   1228      81   1328      64    N      0\n",
       "1    1985      25   1106      77   1354      70    H      0\n",
       "2    1985      25   1112      63   1223      56    H      0\n",
       "3    1985      25   1165      70   1432      54    H      0\n",
       "4    1985      25   1192      86   1447      74    H      0"
      ]
     },
     "execution_count": 92,
     "metadata": {},
     "output_type": "execute_result"
    }
   ],
   "source": [
    "reg_season_compact.head()"
   ]
  },
  {
   "cell_type": "code",
   "execution_count": 91,
   "metadata": {
    "collapsed": false
   },
   "outputs": [
    {
     "data": {
      "image/png": "[encoded data removed]",
      "text/plain": [
       "<matplotlib.figure.Figure at 0x7f67912d77b8>"
      ]
     },
     "metadata": {},
     "output_type": "display_data"
    }
   ],
   "source": [
    "team_perf = get_team_performance(reg_season_compact, 1228)\n",
    "plot_point_distribution(team_perf, 1228)"
   ]
  },
  {
   "cell_type": "code",
   "execution_count": 93,
   "metadata": {
    "collapsed": false
   },
   "outputs": [
    {
     "data": {
      "image/png": "[encoded data removed]",
      "text/plain": [
       "<matplotlib.figure.Figure at 0x7f6790d82d30>"
      ]
     },
     "metadata": {},
     "output_type": "display_data"
    }
   ],
   "source": [
    "team_perf = get_team_performance(reg_season_compact, 1106)\n",
    "plot_point_distribution(team_perf, 1106)"
   ]
  },
  {
   "cell_type": "code",
   "execution_count": 94,
   "metadata": {
    "collapsed": false
   },
   "outputs": [
    {
     "data": {
      "image/png": "[encoded data removed]",
      "text/plain": [
       "<matplotlib.figure.Figure at 0x7f6790ccda90>"
      ]
     },
     "metadata": {},
     "output_type": "display_data"
    }
   ],
   "source": [
    "team_perf = get_team_performance(reg_season_compact, 1112)\n",
    "plot_point_distribution(team_perf, 1112)"
   ]
  },
  {
   "cell_type": "code",
   "execution_count": 95,
   "metadata": {
    "collapsed": false
   },
   "outputs": [
    {
     "data": {
      "image/png": "[encoded data removed]",
      "text/plain": [
       "<matplotlib.figure.Figure at 0x7f6790c2e940>"
      ]
     },
     "metadata": {},
     "output_type": "display_data"
    }
   ],
   "source": [
    "team_perf = get_team_performance(reg_season_compact, 1165)\n",
    "plot_point_distribution(team_perf, 1165)"
   ]
  },
  {
   "cell_type": "code",
   "execution_count": 96,
   "metadata": {
    "collapsed": false
   },
   "outputs": [
    {
     "data": {
      "image/png": "[encoded data removed]",
      "text/plain": [
       "<matplotlib.figure.Figure at 0x7f6790e8c4e0>"
      ]
     },
     "metadata": {},
     "output_type": "display_data"
    }
   ],
   "source": [
    "team_perf = get_team_performance(reg_season_compact, 1192)\n",
    "plot_point_distribution(team_perf, 1192)"
   ]
  },
  {
   "cell_type": "markdown",
   "metadata": {},
   "source": [
    "** Performances are more or less normally distributed. **"
   ]
  },
  {
   "cell_type": "code",
   "execution_count": 3,
   "metadata": {
    "collapsed": false
   },
   "outputs": [],
   "source": [
    "def get_all_teams(reg_season_compact):\n",
    "    reg_season_shape = len(reg_season_compact)\n",
    "    reg_season_1D    = reg_season_compact[['Wteam', 'Lteam']].values\\\n",
    "                           .reshape(reg_season_shape * 2, 1).squeeze()\n",
    "\n",
    "    all_teams = np.unique(reg_season_1D)\n",
    "    return all_teams"
   ]
  },
  {
   "cell_type": "code",
   "execution_count": 4,
   "metadata": {
    "collapsed": true
   },
   "outputs": [],
   "source": [
    "all_teams = get_all_teams(reg_season_compact)\n",
    "ratings = {team: 1300 for team in all_teams}"
   ]
  },
  {
   "cell_type": "code",
   "execution_count": 312,
   "metadata": {
    "collapsed": false
   },
   "outputs": [
    {
     "name": "stdout",
     "output_type": "stream",
     "text": [
      "score diff  17\n",
      "expected scrore wteam  0.5\n",
      "expected scrore lteam  0.5\n",
      "Mov multiplier wteam  1.46474739107\n",
      "Winning team elo score original  1300\n",
      "1310.0\n",
      "Losing team elo score 1300\n",
      "1290.0\n",
      "---------------------------------------------------------------------------\n",
      "score diff  7\n",
      "expected scrore wteam  0.5\n",
      "expected scrore lteam  0.5\n",
      "Mov multiplier wteam  0.841276459307\n",
      "Winning team elo score original  1300\n",
      "1310.0\n",
      "Losing team elo score 1300\n",
      "1290.0\n",
      "---------------------------------------------------------------------------\n",
      "score diff  7\n",
      "expected scrore wteam  0.5\n",
      "expected scrore lteam  0.5\n",
      "Mov multiplier wteam  0.841276459307\n",
      "Winning team elo score original  1300\n",
      "1310.0\n",
      "Losing team elo score 1300\n",
      "1290.0\n",
      "---------------------------------------------------------------------------\n",
      "score diff  16\n",
      "expected scrore wteam  0.5\n",
      "expected scrore lteam  0.5\n",
      "Mov multiplier wteam  1.4058585205\n",
      "Winning team elo score original  1300\n",
      "1310.0\n",
      "Losing team elo score 1300\n",
      "1290.0\n",
      "---------------------------------------------------------------------------\n",
      "score diff  12\n",
      "expected scrore wteam  0.5\n",
      "expected scrore lteam  0.5\n",
      "Mov multiplier wteam  1.16362151831\n",
      "Winning team elo score original  1300\n",
      "1310.0\n",
      "Losing team elo score 1300\n",
      "1290.0\n",
      "---------------------------------------------------------------------------\n"
     ]
    }
   ],
   "source": [
    "for i in range(5):\n",
    "    row = reg_season_compact.iloc[i,2:7]\n",
    "    Wteam = row.Wteam\n",
    "    Lteam = row.Lteam\n",
    "    Wscore = row.Wscore\n",
    "    Lscore = row.Lscore\n",
    "    score_diff = Wscore - Lscore\n",
    "    \n",
    "    mov_multiplier_wteam = ((score_diff + 3) ** 0.8) / \\\n",
    "                           (7.5 + .006*(ratings[Wteam] - ratings[Lteam]))\n",
    "    print('score diff ', score_diff)\n",
    "#     mov_multiplier_wteam = np.log(score_diff + 1) * \\\n",
    "#                            (2.2/((ratings[Wteam] - ratings[Lteam])*.001+2.2))\n",
    "    \n",
    "    expected_score_wteam = Season.expected(ratings[Wteam], ratings[Lteam])\n",
    "    expected_score_lteam = Season.expected(ratings[Lteam], ratings[Wteam])\n",
    "    \n",
    "    actual_score_Wteam   = 1\n",
    "    actual_score_Lteam   = 0\n",
    "    \n",
    "    print('expected scrore wteam ', expected_score_wteam)\n",
    "    print('expected scrore lteam ', expected_score_lteam)\n",
    "    \n",
    "    print('Mov multiplier wteam ', mov_multiplier_wteam)\n",
    "                                                         \n",
    "    print('Winning team elo score original ', ratings[Wteam])\n",
    "    print(ratings[Wteam] + 20 * (actual_score_Wteam - expected_score_wteam))\n",
    "    print('Losing team elo score', ratings[Lteam])\n",
    "    print(ratings[Lteam] + 20 * (actual_score_Lteam - expected_score_lteam))\n",
    "\n",
    "    print('-'*75)"
   ]
  },
  {
   "cell_type": "code",
   "execution_count": 5,
   "metadata": {
    "collapsed": false
   },
   "outputs": [],
   "source": [
    "def rate_game_by_game(season_list, ratings):\n",
    "    for season in season_list:\n",
    "        ratings = rate_team_for_season(reg_season_compact.loc[reg_season_compact.Season == season], ratings)\n",
    "        \n",
    "    return ratings"
   ]
  },
  {
   "cell_type": "code",
   "execution_count": 6,
   "metadata": {
    "collapsed": true
   },
   "outputs": [],
   "source": [
    "elo_ratings = rate_game_by_game(np.arange(1985, 2013, 1), ratings)"
   ]
  },
  {
   "cell_type": "code",
   "execution_count": 279,
   "metadata": {
    "collapsed": true
   },
   "outputs": [],
   "source": [
    "def calculate_elo_ratings(reg_season_compact, season_list):\n",
    "    \n",
    "    # initialize ratings\n",
    "    ratings = {team: 1300 for team in all_teams}\n",
    "    \n",
    "    for season in season_list:\n",
    "        season_perf   = reg_season_compact.loc[reg_season_compact.Season == season]\n",
    "        season        = Season(season_perf)\n",
    "        teams         = season.get_teams_in_season()\n",
    "        opponents     = season.get_opponents_list()\n",
    "        actual_perf   = season.get_actual_performance(opponents)\n",
    "        expected_perf = season.get_expected(ratings, opponents)\n",
    "        ratings       = season.update_ratings(ratings)\n",
    "    \n",
    "    return ratings"
   ]
  },
  {
   "cell_type": "code",
   "execution_count": 284,
   "metadata": {
    "collapsed": false
   },
   "outputs": [],
   "source": [
    "elo_ratings = calculate_elo_ratings(reg_season_compact, \n",
    "                                    np.arange(1985, 2013, 1))"
   ]
  },
  {
   "cell_type": "code",
   "execution_count": 7,
   "metadata": {
    "collapsed": false
   },
   "outputs": [],
   "source": [
    "# Create Submission\n",
    "sub = pd.read_csv('../data/sample_submission.csv')"
   ]
  },
  {
   "cell_type": "code",
   "execution_count": 8,
   "metadata": {
    "collapsed": false
   },
   "outputs": [],
   "source": [
    "def predict(sub, elo_ratings):\n",
    "    predictions = []\n",
    "    \n",
    "    for id_, pred in zip(sub['id'], sub['pred']):\n",
    "        season, team_1, team_2 = id_.split('_')\n",
    "        team_1 = int(team_1)\n",
    "        team_2 = int(team_2)\n",
    "        \n",
    "        if team_1 < team_2:\n",
    "            predictions.append(Season.expected(elo_ratings[team_1],\n",
    "                                               elo_ratings[team_2]))\n",
    "        else:\n",
    "            predictions.append(Season.expected(elo_ratings[team_2],\n",
    "                                               elo_ratings[team_1]))\n",
    "    \n",
    "    return predictions"
   ]
  },
  {
   "cell_type": "code",
   "execution_count": 9,
   "metadata": {
    "collapsed": false
   },
   "outputs": [],
   "source": [
    "predictions = predict(sub, elo_ratings)"
   ]
  },
  {
   "cell_type": "code",
   "execution_count": 10,
   "metadata": {
    "collapsed": false
   },
   "outputs": [],
   "source": [
    "sub['pred'] = predictions\n",
    "sub.to_csv('../submissions/new_elo_without_mov.csv', index=False)"
   ]
  },
  {
   "cell_type": "code",
   "execution_count": 12,
   "metadata": {
    "collapsed": false
   },
   "outputs": [
    {
     "data": {
      "text/plain": [
       "(9112, 2)"
      ]
     },
     "execution_count": 12,
     "metadata": {},
     "output_type": "execute_result"
    }
   ],
   "source": [
    "sub.shape"
   ]
  }
 ],
 "metadata": {
  "kernelspec": {
   "display_name": "Python [Root]",
   "language": "python",
   "name": "Python [Root]"
  },
  "language_info": {
   "codemirror_mode": {
    "name": "ipython",
    "version": 3
   },
   "file_extension": ".py",
   "mimetype": "text/x-python",
   "name": "python",
   "nbconvert_exporter": "python",
   "pygments_lexer": "ipython3",
   "version": "3.5.2"
  }
 },
 "nbformat": 4,
 "nbformat_minor": 0
}
